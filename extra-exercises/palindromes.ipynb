{
 "cells": [
  {
   "cell_type": "markdown",
   "metadata": {},
   "source": [
    "# Palindromes"
   ]
  },
  {
   "cell_type": "code",
   "execution_count": 35,
   "metadata": {
    "ExecuteTime": {
     "end_time": "2019-11-26T19:04:09.183451Z",
     "start_time": "2019-11-26T19:04:09.176949Z"
    }
   },
   "outputs": [],
   "source": [
    "import random\n",
    "import string"
   ]
  },
  {
   "cell_type": "markdown",
   "metadata": {},
   "source": [
    "Prepare a large number of strings, palindromes and non-palindromes to time the various implementations."
   ]
  },
  {
   "cell_type": "code",
   "execution_count": 43,
   "metadata": {
    "ExecuteTime": {
     "end_time": "2019-11-26T19:12:03.730192Z",
     "start_time": "2019-11-26T19:12:03.716127Z"
    }
   },
   "outputs": [],
   "source": [
    "random.seed(1234)"
   ]
  },
  {
   "cell_type": "code",
   "execution_count": 44,
   "metadata": {
    "ExecuteTime": {
     "end_time": "2019-11-26T19:12:04.746938Z",
     "start_time": "2019-11-26T19:12:04.668520Z"
    }
   },
   "outputs": [],
   "source": [
    "non_palindromes = [''.join(random.choices(string.ascii_letters, k=100))\n",
    "                              for _ in range(1_000)]"
   ]
  },
  {
   "cell_type": "code",
   "execution_count": 45,
   "metadata": {
    "ExecuteTime": {
     "end_time": "2019-11-26T19:12:05.618074Z",
     "start_time": "2019-11-26T19:12:05.602386Z"
    }
   },
   "outputs": [],
   "source": [
    "palindromes = list(map(lambda s: s + s[::-1], non_palindromes))"
   ]
  },
  {
   "cell_type": "markdown",
   "metadata": {},
   "source": [
    "Function to test the correctness of the implementations."
   ]
  },
  {
   "cell_type": "code",
   "execution_count": 34,
   "metadata": {
    "ExecuteTime": {
     "end_time": "2019-11-26T18:59:42.896707Z",
     "start_time": "2019-11-26T18:59:42.872705Z"
    }
   },
   "outputs": [],
   "source": [
    "def do_tests(is_palindrome):\n",
    "    words = ['radar', 'boxer', '', 'a', 'QQ', 'acracadacarca',\n",
    "             'abccba', 'abcdba']\n",
    "    expected_results = [True, False, True, True, True, True,\n",
    "                        True, False]\n",
    "    for word, expected_result in zip(words, expected_results):\n",
    "        if is_palindrome(word) == expected_result:\n",
    "            print('okay for', word)\n",
    "        else:\n",
    "            print('not okay for', word)"
   ]
  },
  {
   "cell_type": "markdown",
   "metadata": {},
   "source": [
    "## Compare half words"
   ]
  },
  {
   "cell_type": "code",
   "execution_count": 36,
   "metadata": {
    "ExecuteTime": {
     "end_time": "2019-11-26T19:10:17.326112Z",
     "start_time": "2019-11-26T19:10:17.318251Z"
    }
   },
   "outputs": [],
   "source": [
    "def is_palindrome(word):\n",
    "    return word[:len(word)//2] == word[:-(len(word)//2) - 1:-1]"
   ]
  },
  {
   "cell_type": "code",
   "execution_count": 37,
   "metadata": {
    "ExecuteTime": {
     "end_time": "2019-11-26T19:10:32.546079Z",
     "start_time": "2019-11-26T19:10:32.514941Z"
    }
   },
   "outputs": [
    {
     "name": "stdout",
     "output_type": "stream",
     "text": [
      "okay for radar\n",
      "okay for boxer\n",
      "okay for \n",
      "okay for a\n",
      "okay for QQ\n",
      "okay for acracadacarca\n",
      "okay for abccba\n",
      "okay for abcdba\n"
     ]
    }
   ],
   "source": [
    "do_tests(is_palindrome)"
   ]
  },
  {
   "cell_type": "code",
   "execution_count": 23,
   "metadata": {
    "ExecuteTime": {
     "end_time": "2019-11-26T18:54:45.489460Z",
     "start_time": "2019-11-26T18:54:39.861510Z"
    }
   },
   "outputs": [
    {
     "name": "stdout",
     "output_type": "stream",
     "text": [
      "692 µs ± 108 µs per loop (mean ± std. dev. of 7 runs, 1000 loops each)\n"
     ]
    }
   ],
   "source": [
    "%%timeit\n",
    "for word in non_palindromes:\n",
    "    is_palindrome(word)"
   ]
  },
  {
   "cell_type": "code",
   "execution_count": 38,
   "metadata": {
    "ExecuteTime": {
     "end_time": "2019-11-26T19:10:44.431980Z",
     "start_time": "2019-11-26T19:10:38.886896Z"
    }
   },
   "outputs": [
    {
     "name": "stdout",
     "output_type": "stream",
     "text": [
      "663 µs ± 57.5 µs per loop (mean ± std. dev. of 7 runs, 1000 loops each)\n"
     ]
    }
   ],
   "source": [
    "%%timeit\n",
    "for word in palindromes:\n",
    "    is_palindrome(word)"
   ]
  },
  {
   "cell_type": "markdown",
   "metadata": {},
   "source": [
    "## Compare word and reserved word"
   ]
  },
  {
   "cell_type": "code",
   "execution_count": 46,
   "metadata": {
    "ExecuteTime": {
     "end_time": "2019-11-26T19:12:12.187892Z",
     "start_time": "2019-11-26T19:12:12.180834Z"
    }
   },
   "outputs": [],
   "source": [
    "def is_palindrome(word):\n",
    "    return word == word[::-1]"
   ]
  },
  {
   "cell_type": "code",
   "execution_count": 47,
   "metadata": {
    "ExecuteTime": {
     "end_time": "2019-11-26T19:12:13.230270Z",
     "start_time": "2019-11-26T19:12:13.220584Z"
    }
   },
   "outputs": [
    {
     "name": "stdout",
     "output_type": "stream",
     "text": [
      "okay for radar\n",
      "okay for boxer\n",
      "okay for \n",
      "okay for a\n",
      "okay for QQ\n",
      "okay for acracadacarca\n",
      "okay for abccba\n",
      "okay for abcdba\n"
     ]
    }
   ],
   "source": [
    "do_tests(is_palindrome)"
   ]
  },
  {
   "cell_type": "code",
   "execution_count": 48,
   "metadata": {
    "ExecuteTime": {
     "end_time": "2019-11-26T19:12:17.763273Z",
     "start_time": "2019-11-26T19:12:14.971968Z"
    }
   },
   "outputs": [
    {
     "name": "stdout",
     "output_type": "stream",
     "text": [
      "323 µs ± 19.6 µs per loop (mean ± std. dev. of 7 runs, 1000 loops each)\n"
     ]
    }
   ],
   "source": [
    "%%timeit\n",
    "for word in non_palindromes:\n",
    "    is_palindrome(word)"
   ]
  },
  {
   "cell_type": "code",
   "execution_count": 49,
   "metadata": {
    "ExecuteTime": {
     "end_time": "2019-11-26T19:12:22.846485Z",
     "start_time": "2019-11-26T19:12:18.783133Z"
    }
   },
   "outputs": [
    {
     "name": "stdout",
     "output_type": "stream",
     "text": [
      "491 µs ± 45.4 µs per loop (mean ± std. dev. of 7 runs, 1000 loops each)\n"
     ]
    }
   ],
   "source": [
    "%%timeit\n",
    "for word in palindromes:\n",
    "    is_palindrome(word)"
   ]
  },
  {
   "cell_type": "markdown",
   "metadata": {},
   "source": [
    "## Compare characters"
   ]
  },
  {
   "cell_type": "code",
   "execution_count": 50,
   "metadata": {
    "ExecuteTime": {
     "end_time": "2019-11-26T19:12:43.850570Z",
     "start_time": "2019-11-26T19:12:43.840263Z"
    }
   },
   "outputs": [],
   "source": [
    "def is_palindrome(word):\n",
    "    for i in range(len(word)//2):\n",
    "        if word[i] != word[-i - 1]:\n",
    "            return False\n",
    "    return True"
   ]
  },
  {
   "cell_type": "code",
   "execution_count": 51,
   "metadata": {
    "ExecuteTime": {
     "end_time": "2019-11-26T19:12:51.994016Z",
     "start_time": "2019-11-26T19:12:51.984648Z"
    }
   },
   "outputs": [
    {
     "name": "stdout",
     "output_type": "stream",
     "text": [
      "okay for radar\n",
      "okay for boxer\n",
      "okay for \n",
      "okay for a\n",
      "okay for QQ\n",
      "okay for acracadacarca\n",
      "okay for abccba\n",
      "okay for abcdba\n"
     ]
    }
   ],
   "source": [
    "do_tests(is_palindrome)"
   ]
  },
  {
   "cell_type": "code",
   "execution_count": 52,
   "metadata": {
    "ExecuteTime": {
     "end_time": "2019-11-26T19:12:57.607088Z",
     "start_time": "2019-11-26T19:12:53.461911Z"
    }
   },
   "outputs": [
    {
     "name": "stdout",
     "output_type": "stream",
     "text": [
      "485 µs ± 45.9 µs per loop (mean ± std. dev. of 7 runs, 1000 loops each)\n"
     ]
    }
   ],
   "source": [
    "%%timeit\n",
    "for word in non_palindromes:\n",
    "    is_palindrome(word)"
   ]
  },
  {
   "cell_type": "code",
   "execution_count": 53,
   "metadata": {
    "ExecuteTime": {
     "end_time": "2019-11-26T19:13:08.832832Z",
     "start_time": "2019-11-26T19:12:58.356894Z"
    }
   },
   "outputs": [
    {
     "name": "stdout",
     "output_type": "stream",
     "text": [
      "12.8 ms ± 1.12 ms per loop (mean ± std. dev. of 7 runs, 100 loops each)\n"
     ]
    }
   ],
   "source": [
    "%%timeit\n",
    "for word in palindromes:\n",
    "    is_palindrome(word)"
   ]
  },
  {
   "cell_type": "markdown",
   "metadata": {},
   "source": [
    "## Recursive"
   ]
  },
  {
   "cell_type": "code",
   "execution_count": 58,
   "metadata": {
    "ExecuteTime": {
     "end_time": "2019-11-26T19:15:46.517620Z",
     "start_time": "2019-11-26T19:15:46.509887Z"
    }
   },
   "outputs": [],
   "source": [
    "def is_palindrome(word):\n",
    "    if len(word) < 2:\n",
    "        return True\n",
    "    else:\n",
    "        if word[0] == word[-1]:\n",
    "            return is_palindrome(word[1:-1])\n",
    "        else:\n",
    "            return False"
   ]
  },
  {
   "cell_type": "code",
   "execution_count": 59,
   "metadata": {
    "ExecuteTime": {
     "end_time": "2019-11-26T19:15:47.420402Z",
     "start_time": "2019-11-26T19:15:47.410711Z"
    }
   },
   "outputs": [
    {
     "name": "stdout",
     "output_type": "stream",
     "text": [
      "okay for radar\n",
      "okay for boxer\n",
      "okay for \n",
      "okay for a\n",
      "okay for QQ\n",
      "okay for acracadacarca\n",
      "okay for abccba\n",
      "okay for abcdba\n"
     ]
    }
   ],
   "source": [
    "do_tests(is_palindrome)"
   ]
  },
  {
   "cell_type": "code",
   "execution_count": 60,
   "metadata": {
    "ExecuteTime": {
     "end_time": "2019-11-26T19:16:02.737669Z",
     "start_time": "2019-11-26T19:16:00.857369Z"
    }
   },
   "outputs": [
    {
     "name": "stdout",
     "output_type": "stream",
     "text": [
      "221 µs ± 30.2 µs per loop (mean ± std. dev. of 7 runs, 1000 loops each)\n"
     ]
    }
   ],
   "source": [
    "%%timeit\n",
    "for word in non_palindromes:\n",
    "    is_palindrome(word)"
   ]
  },
  {
   "cell_type": "code",
   "execution_count": 62,
   "metadata": {
    "ExecuteTime": {
     "end_time": "2019-11-26T19:16:15.545713Z",
     "start_time": "2019-11-26T19:16:12.472201Z"
    }
   },
   "outputs": [
    {
     "name": "stdout",
     "output_type": "stream",
     "text": [
      "36.4 ms ± 5.21 ms per loop (mean ± std. dev. of 7 runs, 10 loops each)\n"
     ]
    }
   ],
   "source": [
    "%%timeit\n",
    "for word in palindromes:\n",
    "    is_palindrome(word)"
   ]
  }
 ],
 "metadata": {
  "kernelspec": {
   "display_name": "Python 3",
   "language": "python",
   "name": "python3"
  },
  "language_info": {
   "codemirror_mode": {
    "name": "ipython",
    "version": 3
   },
   "file_extension": ".py",
   "mimetype": "text/x-python",
   "name": "python",
   "nbconvert_exporter": "python",
   "pygments_lexer": "ipython3",
   "version": "3.7.5"
  }
 },
 "nbformat": 4,
 "nbformat_minor": 2
}
