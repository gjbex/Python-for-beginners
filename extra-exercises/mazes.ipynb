{
 "cells": [
  {
   "cell_type": "markdown",
   "id": "64e0d5cc-c7ec-473d-b374-3d1eefeb458d",
   "metadata": {},
   "source": [
    "# Requirements"
   ]
  },
  {
   "cell_type": "code",
   "execution_count": 26,
   "id": "60cb601a-5b54-46eb-8a89-f5996d117c23",
   "metadata": {},
   "outputs": [],
   "source": [
    "import matplotlib.pyplot as plt\n",
    "from matplotlib.collections import LineCollection\n",
    "import numpy as np\n",
    "import random"
   ]
  },
  {
   "cell_type": "markdown",
   "id": "6bb5c1a9-7ae0-4a0b-9f60-75f72991ba05",
   "metadata": {},
   "source": [
    "# Maze"
   ]
  },
  {
   "cell_type": "markdown",
   "id": "5189b53e-b074-439f-a746-521a4b928bb4",
   "metadata": {},
   "source": [
    "We define a class to represent a maze.  The maze is represented as a set of walls.  The walls are generated randomly according to two probabilities, one for horizontal, one for vertical walls."
   ]
  },
  {
   "cell_type": "code",
   "execution_count": 2,
   "id": "b73ba140-276e-418a-8931-c461af4673d2",
   "metadata": {},
   "outputs": [],
   "source": [
    "class Maze:\n",
    "    '''Maze to be traversed from top to botoom\n",
    "    '''\n",
    "    \n",
    "    def __init__(self, h_prob, v_prob, width=10, height=10):\n",
    "        '''Maze constructor\n",
    "        \n",
    "        Parameters\n",
    "        ----------\n",
    "        h_prob: float\n",
    "            probability that a horizontal wall will be present\n",
    "        v_prob: float\n",
    "            probability that a vertical wall will be present\n",
    "        width: int\n",
    "            number of \"rooms\" in the horizontal direction\n",
    "        height: int\n",
    "            number of \"rooms' in the vertical direction\n",
    "            \n",
    "        Returns\n",
    "        -------\n",
    "        Maze\n",
    "            randomly generated maze\"\n",
    "        '''\n",
    "        self._orig_width = width\n",
    "        self._orig_height = height\n",
    "        self._delta = 2\n",
    "        self._width = width*self._delta\n",
    "        self._height = height*self._delta\n",
    "        self._walls = set()\n",
    "        for y in range(0, self._height, self._delta):\n",
    "            self._walls.add(((0, y), (0, y + self._delta)))\n",
    "            self._walls.add(((self._width, y), (self._width, y + self._delta)))\n",
    "            for x in range(0, self._width, self._delta):\n",
    "                if random.random() <= h_prob:\n",
    "                    self._walls.add(((x, y), (x + self._delta, y)))\n",
    "                if random.random() <= v_prob:\n",
    "                    self._walls.add(((x, y), (x, y + self._delta)))\n",
    "        for x in range(0, self._width, self._delta):\n",
    "            if random.random() <= h_prob:\n",
    "                self._walls.add(((x, self._height), (x + self._delta, self._height)))\n",
    "\n",
    "    @property\n",
    "    def width(self):\n",
    "        '''wdith of the maze\n",
    "        '''\n",
    "        return self._orig_width\n",
    "    \n",
    "    @property\n",
    "    def height(self):\n",
    "        '''height of the maze\n",
    "        '''\n",
    "        return self._orig_height\n",
    "    \n",
    "    @property\n",
    "    def delta(self):\n",
    "        '''delta value to ensure ingeger coordiantes\n",
    "        '''\n",
    "        return self._delta\n",
    "    \n",
    "    @property\n",
    "    def walls(self):\n",
    "        '''walls of the maze\n",
    "        '''\n",
    "        return self._walls.copy()\n",
    "    \n",
    "    def is_open(self, x_start, y_start, direction):\n",
    "        '''check whether at a given point the direction in the maze is open\n",
    "        \n",
    "        Parameters\n",
    "        ----------\n",
    "        x_start: int\n",
    "            x-coordinate of the point in the maze to consider\n",
    "        y_start: int\n",
    "            y-coordinate of the point in the maze to consider\n",
    "        direction: str\n",
    "            direction to look to, eithter 'up', 'right', 'down', or 'left'\n",
    "        \n",
    "        Returns\n",
    "        -------\n",
    "        boolean\n",
    "            True if a move can be make in the given direction, false otherwise\n",
    "        '''\n",
    "        if direction == 'up':\n",
    "            maze_wall = ((x_start - self._delta//2, y_start + self._delta//2), (x_start + self._delta//2, y_start + self._delta//2))\n",
    "        elif direction == 'right':\n",
    "            maze_wall = ((x_start + self._delta//2, y_start - self._delta//2), (x_start + self._delta//2, y_start + self._delta//2))\n",
    "        elif direction == 'down':\n",
    "            maze_wall = ((x_start - self._delta//2, y_start - self._delta//2), (x_start + self._delta//2, y_start - self._delta//2))\n",
    "        elif direction == 'left':\n",
    "            maze_wall = ((x_start - self._delta//2, y_start - self._delta//2), (x_start - self._delta//2, y_start + self._delta//2))\n",
    "        else:\n",
    "            raise ValueError(f'invalid direction {direction}')\n",
    "        return maze_wall not in self._walls\n",
    "    \n",
    "    @property\n",
    "    def entrances(self):\n",
    "        '''entrances to the maze, i.e., the top \"rooms\" that can be entered\n",
    "        '''\n",
    "        points = []\n",
    "        y = self._height - 1\n",
    "        for x in range(1, self._width, self._delta):\n",
    "            if self.is_open(x, y, 'up'):\n",
    "                points.append((x, y))\n",
    "        return points\n",
    "    \n",
    "    @property\n",
    "    def exits(self):\n",
    "        '''exits of the maze, i.e., the bottom \"rooms\" that can be exited\n",
    "        '''\n",
    "        points = []\n",
    "        y = 1\n",
    "        for x in range(1, self._width, self._delta):\n",
    "            if self.is_open(x, y, 'down'):\n",
    "                points.append((x, y))\n",
    "        return points\n",
    "\n",
    "    def is_inside(self, x, y):\n",
    "        '''check whether a point is inside the maze\n",
    "        \n",
    "        Parameters\n",
    "        ----------\n",
    "        x: int\n",
    "            x-coordinate of the point\n",
    "        y: int\n",
    "            y-coordinate of the point\n",
    "            \n",
    "        Returns\n",
    "        -------\n",
    "        boolean\n",
    "            true if the point is insize the maze, false otherwise\n",
    "        '''\n",
    "        return 0 <= x <= self._width and 0 <= y <= self._height\n",
    "    \n",
    "    def move(self, x_start, y_start, direction):\n",
    "        '''make a move from a given point in the maze in a given direction\n",
    "        \n",
    "        Parameters\n",
    "        ----------\n",
    "        x_start: int\n",
    "            x-coordinate of the starting point\n",
    "        y_start: int\n",
    "            y-coordinate of the starting point\n",
    "        direction: str\n",
    "            direction to move in, can be 'up', 'right', 'down', 'left'\n",
    "            \n",
    "        Returns\n",
    "        -------\n",
    "        tuple\n",
    "            new x- and y-coordinates\n",
    "        '''\n",
    "        if direction == 'up':\n",
    "            return (x_start, y_start + self._delta)\n",
    "        if direction == 'right':\n",
    "            return (x_start + self._delta, y_start)\n",
    "        if direction == 'down':\n",
    "            return (x_start, y_start - self._delta)\n",
    "        if direction == 'left':\n",
    "            return (x_start - self._delta, y_start)\n",
    "        raise ValueError(f'invalid direction {direction}')"
   ]
  },
  {
   "cell_type": "markdown",
   "id": "07a2be5e-3b8c-4a5e-9605-b1e95f9885b5",
   "metadata": {},
   "source": [
    "Note that there are smarter ways to generate mazes, see [Wikipedia](https://en.wikipedia.org/wiki/Maze_generation_algorithm) for a nice overview.\n",
    "\n",
    "For convenience, define a function to visualize the maze."
   ]
  },
  {
   "cell_type": "code",
   "execution_count": 3,
   "id": "95211891-2025-4a92-8e12-004d81f5e1dc",
   "metadata": {},
   "outputs": [],
   "source": [
    "def plot_maze(maze):\n",
    "    '''visualize the maze\n",
    "    \n",
    "    Parameters\n",
    "    ----------\n",
    "    maze: Maze\n",
    "        maze to visualize\n",
    "        \n",
    "    Returns\n",
    "    -------\n",
    "    tuple\n",
    "        figure and axes of the plot\n",
    "    '''\n",
    "    line_collection = LineCollection(maze.walls)\n",
    "    figure, axes = plt.subplots(figsize=(15, 15))\n",
    "    axes.add_collection(line_collection)\n",
    "    axes.autoscale()\n",
    "    axes.set_xticks([x for x in range(1, maze.width*maze.delta, maze.delta)])\n",
    "    axes.set_yticks([x for x in range(1, maze.height*maze.delta, maze.delta)])\n",
    "    axes.set_aspect('equal')\n",
    "    return figure, axes"
   ]
  },
  {
   "cell_type": "markdown",
   "id": "e01e1a41-fd11-4268-9d3a-4fb9abcc1aaf",
   "metadata": {},
   "source": [
    "## Tests"
   ]
  },
  {
   "cell_type": "markdown",
   "id": "42e7a9d3-9a53-45b4-962a-df5c739879e2",
   "metadata": {},
   "source": [
    "Create and visualize a maze."
   ]
  },
  {
   "cell_type": "code",
   "execution_count": 4,
   "id": "d1edd63d-a735-4b1b-8c23-66aec69015e9",
   "metadata": {},
   "outputs": [],
   "source": [
    "maze = Maze(0.2, 0.8)"
   ]
  },
  {
   "cell_type": "code",
   "execution_count": 5,
   "id": "f389c27f-b109-4bb8-9c76-ba62942959e5",
   "metadata": {},
   "outputs": [
    {
     "data": {
      "image/png": "[encoded data removed]",
      "text/plain": [
       "<Figure size 1080x1080 with 1 Axes>"
      ]
     },
     "metadata": {
      "needs_background": "light"
     },
     "output_type": "display_data"
    }
   ],
   "source": [
    "_ = plot_maze(maze)"
   ]
  },
  {
   "cell_type": "markdown",
   "id": "90e46e7b-4971-40d3-9e1f-099dc56e94fc",
   "metadata": {},
   "source": [
    "Check the `is_open` method on an example."
   ]
  },
  {
   "cell_type": "code",
   "execution_count": 6,
   "id": "aa6402ec-fa19-4220-849a-b0a3447644cf",
   "metadata": {},
   "outputs": [
    {
     "name": "stdout",
     "output_type": "stream",
     "text": [
      "up    : True\n",
      "right : False\n",
      "down  : True\n",
      "left  : False\n"
     ]
    }
   ],
   "source": [
    "coords = (15, 7)\n",
    "for direction in ['up', 'right', 'down', 'left']:\n",
    "    print(f'{direction:6s}: {maze.is_open(*coords, direction)}')"
   ]
  },
  {
   "cell_type": "markdown",
   "id": "8d03685e-2910-41a4-9ab2-07ca88a626c1",
   "metadata": {},
   "source": [
    "Check the entrances to and the exits from the maze."
   ]
  },
  {
   "cell_type": "code",
   "execution_count": 7,
   "id": "429e3cc2-8ee5-4d37-8131-149c091287d3",
   "metadata": {},
   "outputs": [
    {
     "data": {
      "text/plain": [
       "[(1, 19),\n",
       " (3, 19),\n",
       " (5, 19),\n",
       " (7, 19),\n",
       " (9, 19),\n",
       " (11, 19),\n",
       " (13, 19),\n",
       " (15, 19),\n",
       " (17, 19)]"
      ]
     },
     "execution_count": 7,
     "metadata": {},
     "output_type": "execute_result"
    }
   ],
   "source": [
    "maze.entrances"
   ]
  },
  {
   "cell_type": "code",
   "execution_count": 8,
   "id": "d2f9d033-1a8d-4ce3-854e-cebb69fce4a2",
   "metadata": {},
   "outputs": [
    {
     "data": {
      "text/plain": [
       "[(1, 1), (3, 1), (7, 1), (11, 1), (15, 1), (17, 1), (19, 1)]"
      ]
     },
     "execution_count": 8,
     "metadata": {},
     "output_type": "execute_result"
    }
   ],
   "source": [
    "maze.exits"
   ]
  },
  {
   "cell_type": "markdown",
   "id": "c153a2df-f8eb-450a-8099-cd8dc6e913d8",
   "metadata": {},
   "source": [
    "# Solving the maze"
   ]
  },
  {
   "cell_type": "markdown",
   "id": "9e7e1ccb-5862-4a47-992d-d9c171cc5a79",
   "metadata": {},
   "source": [
    "Define a strategy to solve the maze, in this case a breadth-first search.  The function will return the first path that reaches an exit."
   ]
  },
  {
   "cell_type": "code",
   "execution_count": 9,
   "id": "70e53f04-5d96-4057-9b46-0eaa65eb80e0",
   "metadata": {},
   "outputs": [],
   "source": [
    "def solve_bfs(maze):\n",
    "    '''find a path to traverse the maze from an entrance to an exit\n",
    "    \n",
    "    Parameters\n",
    "    ----------\n",
    "    maze: Maze\n",
    "        maze to solve\n",
    "        \n",
    "    Returns\n",
    "    -------\n",
    "    list\n",
    "        a list of x-y tuples that representa a path thought the maze, None if no such\n",
    "        path exists\n",
    "    '''\n",
    "    paths = [[point] for point in maze.entrances]\n",
    "    visited = {point for point in maze.entrances}\n",
    "    new_paths = []\n",
    "    progress = True\n",
    "    while progress:\n",
    "        progress = False\n",
    "        for path in paths:\n",
    "            last_point = path[-1]\n",
    "            if last_point in maze.exits:\n",
    "                return path\n",
    "            for direction in ['up', 'right', 'down', 'left']:\n",
    "                x_next, y_next = maze.move(*last_point, direction)\n",
    "                if not maze.is_inside(x_next, y_next) or (x_next, y_next) in visited:\n",
    "                    continue\n",
    "                if maze.is_open(*last_point, direction):\n",
    "                    new_paths.append(path + [(x_next, y_next)])\n",
    "                    visited.add((x_next, y_next))\n",
    "                    progress = True\n",
    "        paths = new_paths\n",
    "    return None"
   ]
  },
  {
   "cell_type": "markdown",
   "id": "4bbd5d1e-490f-440a-8822-ec0396177b6c",
   "metadata": {},
   "source": [
    "Define a function to visualize the maze and the path through it."
   ]
  },
  {
   "cell_type": "code",
   "execution_count": 10,
   "id": "fa790d2a-3be0-4223-ac3e-86c82eae8181",
   "metadata": {},
   "outputs": [],
   "source": [
    "def plot_maze_path(maze, path):\n",
    "    '''visualize the maze and a path\n",
    "    \n",
    "    Parameters\n",
    "    ----------\n",
    "    maze: Maze\n",
    "        maze to visualize\n",
    "    path: list\n",
    "        path to visualize\n",
    "    '''\n",
    "    path_collection = LineCollection([path], colors=['red'], linewidth=3)\n",
    "    figure, axes = plot_maze(maze)\n",
    "    axes.add_collection(path_collection)"
   ]
  },
  {
   "cell_type": "markdown",
   "id": "81f06a7f-c711-48b2-8b05-947ed4d93c1c",
   "metadata": {},
   "source": [
    "Since not all randomly generated mazes can be solved, keep on generating mazes until one is found that can be solved."
   ]
  },
  {
   "cell_type": "code",
   "execution_count": 11,
   "id": "da0f6d61-7fef-45ca-96be-a88dbb5af12d",
   "metadata": {},
   "outputs": [
    {
     "name": "stdout",
     "output_type": "stream",
     "text": [
      "1 attempts\n"
     ]
    },
    {
     "data": {
      "image/png": "[encoded data removed]",
      "text/plain": [
       "<Figure size 1080x1080 with 1 Axes>"
      ]
     },
     "metadata": {
      "needs_background": "light"
     },
     "output_type": "display_data"
    }
   ],
   "source": [
    "attempts= 0\n",
    "while True:\n",
    "    attempts += 1\n",
    "    maze = Maze(0.4, 0.6, width=20, height=40)\n",
    "    path = solve_bfs(maze)\n",
    "    if path is not None:\n",
    "        plot_maze_path(maze, path)\n",
    "        print(f'{attempts} attempts')\n",
    "        break"
   ]
  },
  {
   "cell_type": "markdown",
   "id": "6ad86920-5382-41a9-9dd9-93fef47bc36a",
   "metadata": {},
   "source": [
    "# Statistics"
   ]
  },
  {
   "cell_type": "markdown",
   "id": "dfb1e3f5-8c76-4b7c-ad9f-786fc440149a",
   "metadata": {},
   "source": [
    "How does the success rate change with respect to the wall probability or the size of the maze?"
   ]
  },
  {
   "cell_type": "code",
   "execution_count": 35,
   "id": "eafe2134-f01f-4c10-91ff-49accdef70cc",
   "metadata": {},
   "outputs": [],
   "source": [
    "def prob_stats(prob_start, prob_end, prob_delta, size=10, max_attempts=10_000):\n",
    "    '''check the impact of the probability on whether a solution can be found\n",
    "    \n",
    "    Parameters\n",
    "    ----------\n",
    "    prob_start: float\n",
    "        start probability\n",
    "    prob_end: float\n",
    "        end probability\n",
    "    prob_delta: float\n",
    "        probability increment\n",
    "    size: int\n",
    "        size of the maze\n",
    "    max_attempts: int\n",
    "        maximum number of attempts to create a maze that can be solved\n",
    "        \n",
    "    Returns\n",
    "    -------\n",
    "    dict\n",
    "        the results encoded as a dictrionary with the probability as the key, and a list of attemtps as values\n",
    "    '''\n",
    "    tries = {}\n",
    "    for prob in np.arange(prob_start, prob_end, prob_delta):\n",
    "        tries[prob] = []\n",
    "        for _ in range(10):\n",
    "            attempts = 0\n",
    "            while attempts <= max_attemts:\n",
    "                attempts += 1\n",
    "                maze = Maze(prob, prob, width=size, height=size)\n",
    "                path = solve_bfs(maze)\n",
    "                if path is not None:\n",
    "                    tries[prob].append(attempts)\n",
    "                    break\n",
    "        print(f'{prob:.2f}: {tries[prob]}')\n",
    "        if not tries[prob]:\n",
    "            break\n",
    "    return tries"
   ]
  },
  {
   "cell_type": "code",
   "execution_count": 36,
   "id": "b5054825-ca6f-493a-b934-c10d258b519d",
   "metadata": {},
   "outputs": [
    {
     "name": "stdout",
     "output_type": "stream",
     "text": [
      "0.50: [1, 5, 1, 7, 2, 1, 1, 4, 4, 3]\n",
      "0.52: [6, 1, 10, 1, 6, 1, 7, 3, 2, 3]\n",
      "0.54: [1, 1, 3, 4, 3, 1, 4, 1, 4, 4]\n",
      "0.56: [8, 1, 1, 8, 1, 3, 14, 5, 3, 18]\n",
      "0.58: [9, 22, 13, 37, 10, 17, 10, 12, 1, 30]\n",
      "0.60: [42, 4, 6, 41, 9, 5, 12, 1, 7, 6]\n",
      "0.62: [143, 36, 55, 11, 15, 8, 15, 7, 20, 43]\n",
      "0.64: [56, 52, 103, 116, 18, 26, 64, 14, 35, 5]\n",
      "0.66: [67, 146, 105, 22, 117, 50, 29, 55, 405, 39]\n",
      "0.68: [23, 295, 392, 92, 227, 95, 7, 188, 556, 558]\n",
      "0.70: [229, 505, 845, 1261, 473, 389, 354, 2635, 604, 335]\n",
      "0.72: [1550, 196, 663, 1603, 1658, 2710, 736, 637, 102, 1215]\n",
      "0.74: [4949, 962, 2917, 3906, 6944, 193, 4828, 5011, 897]\n",
      "0.76: [4367, 6644, 2114, 2327]\n",
      "0.78: [6417, 1761]\n",
      "0.80: []\n"
     ]
    },
    {
     "data": {
      "text/plain": [
       "{0.5: [1, 5, 1, 7, 2, 1, 1, 4, 4, 3],\n",
       " 0.52: [6, 1, 10, 1, 6, 1, 7, 3, 2, 3],\n",
       " 0.54: [1, 1, 3, 4, 3, 1, 4, 1, 4, 4],\n",
       " 0.56: [8, 1, 1, 8, 1, 3, 14, 5, 3, 18],\n",
       " 0.5800000000000001: [9, 22, 13, 37, 10, 17, 10, 12, 1, 30],\n",
       " 0.6000000000000001: [42, 4, 6, 41, 9, 5, 12, 1, 7, 6],\n",
       " 0.6200000000000001: [143, 36, 55, 11, 15, 8, 15, 7, 20, 43],\n",
       " 0.6400000000000001: [56, 52, 103, 116, 18, 26, 64, 14, 35, 5],\n",
       " 0.6600000000000001: [67, 146, 105, 22, 117, 50, 29, 55, 405, 39],\n",
       " 0.6800000000000002: [23, 295, 392, 92, 227, 95, 7, 188, 556, 558],\n",
       " 0.7000000000000002: [229, 505, 845, 1261, 473, 389, 354, 2635, 604, 335],\n",
       " 0.7200000000000002: [1550, 196, 663, 1603, 1658, 2710, 736, 637, 102, 1215],\n",
       " 0.7400000000000002: [4949, 962, 2917, 3906, 6944, 193, 4828, 5011, 897],\n",
       " 0.7600000000000002: [4367, 6644, 2114, 2327],\n",
       " 0.7800000000000002: [6417, 1761],\n",
       " 0.8000000000000003: []}"
      ]
     },
     "execution_count": 36,
     "metadata": {},
     "output_type": "execute_result"
    }
   ],
   "source": [
    "prob_stats(0.5, 0.8, 0.02, max_attempts=50_000)"
   ]
  },
  {
   "cell_type": "markdown",
   "id": "d7c853b0-a7c6-42c9-b6d5-a71e017b91bb",
   "metadata": {},
   "source": [
    "It is clear that the probability to generate a maze that can be solved drop dramatically in this range of values."
   ]
  },
  {
   "cell_type": "code",
   "execution_count": 40,
   "id": "d5d0cfb6-7c47-41e6-8c0b-17881d2fb0d3",
   "metadata": {},
   "outputs": [],
   "source": [
    "def size_stats(size_start, size_end, size_delta, prob=0.6, max_attempts=10_000):\n",
    "    '''check the impact of the maze size on whether a solution can be found\n",
    "    \n",
    "    Parameters\n",
    "    ----------\n",
    "    size_start: float\n",
    "        start size\n",
    "    size_end: float\n",
    "        end size\n",
    "    size_delta: float\n",
    "        size increment\n",
    "    prob: float\n",
    "        probability for walls\n",
    "    max_attempts: int\n",
    "        maximum number of attempts to create a maze that can be solved\n",
    "        \n",
    "    Returns\n",
    "    -------\n",
    "    dict\n",
    "        the results encoded as a dictrionary with the sizes as the key, and a list of attemtps as values\n",
    "    '''\n",
    "\n",
    "    tries = {}\n",
    "    for size in range(size_start, size_end, size_delta):\n",
    "        tries[size] = []\n",
    "        for _ in range(10):\n",
    "            attempts = 0\n",
    "            while attempts <= max_attemts:\n",
    "                attempts += 1\n",
    "                maze = Maze(prob, prob, width=size, height=size)\n",
    "                path = solve_bfs(maze)\n",
    "                if path is not None:\n",
    "                    tries[size].append(attempts)\n",
    "                    break\n",
    "        print(f'{size:3d}: {tries[size]}')\n",
    "        if not tries[size]:\n",
    "            break\n",
    "    return tries"
   ]
  },
  {
   "cell_type": "code",
   "execution_count": 41,
   "id": "b885a47a-ddb2-4cd7-8346-4f0a15651805",
   "metadata": {},
   "outputs": [
    {
     "name": "stdout",
     "output_type": "stream",
     "text": [
      " 10: [22, 20, 16, 11, 1, 41, 1, 16, 6, 39]\n",
      " 20: [115, 88, 124, 288, 7, 280, 230, 128, 44, 207]\n",
      " 30: [410, 346, 117, 1102, 3018, 1554, 3423, 113, 840, 321]\n",
      " 40: [1956, 4539, 4767, 7347, 2361, 6256, 7033, 1114]\n",
      " 50: []\n"
     ]
    },
    {
     "data": {
      "text/plain": [
       "{10: [22, 20, 16, 11, 1, 41, 1, 16, 6, 39],\n",
       " 20: [115, 88, 124, 288, 7, 280, 230, 128, 44, 207],\n",
       " 30: [410, 346, 117, 1102, 3018, 1554, 3423, 113, 840, 321],\n",
       " 40: [1956, 4539, 4767, 7347, 2361, 6256, 7033, 1114],\n",
       " 50: []}"
      ]
     },
     "execution_count": 41,
     "metadata": {},
     "output_type": "execute_result"
    }
   ],
   "source": [
    "size_stats(10, 210, 10)"
   ]
  },
  {
   "cell_type": "markdown",
   "id": "a78d99d3-2343-41c7-ab45-24f8b9456d3e",
   "metadata": {},
   "source": [
    "When the size of the mazes increases, the probability to generate one that has a solution drops sharply."
   ]
  }
 ],
 "metadata": {
  "kernelspec": {
   "display_name": "Python 3",
   "language": "python",
   "name": "python3"
  },
  "language_info": {
   "codemirror_mode": {
    "name": "ipython",
    "version": 3
   },
   "file_extension": ".py",
   "mimetype": "text/x-python",
   "name": "python",
   "nbconvert_exporter": "python",
   "pygments_lexer": "ipython3",
   "version": "3.7.10"
  }
 },
 "nbformat": 4,
 "nbformat_minor": 5
}
