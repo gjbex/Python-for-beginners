{
 "cells": [
  {
   "cell_type": "markdown",
   "metadata": {},
   "source": [
    "# Extra exercises"
   ]
  },
  {
   "cell_type": "markdown",
   "metadata": {},
   "source": [
    "## Leap years"
   ]
  },
  {
   "cell_type": "markdown",
   "metadata": {},
   "source": [
    "Implement the function `is_leap_year` so that it returns `True` when the year is a leap year, `False` otherwise.  Check the Wikipedia article on leap years for the definition. Hint: the modulo operator in Python is %, it can be used to compute the remainder of a division. If you get it right, the script will print 'okay' for all test cases."
   ]
  },
  {
   "cell_type": "code",
   "execution_count": null,
   "metadata": {
    "collapsed": true
   },
   "outputs": [],
   "source": [
    "def is_leap_year(year):\n",
    "    return 'bla'"
   ]
  },
  {
   "cell_type": "code",
   "execution_count": null,
   "metadata": {
    "collapsed": true
   },
   "outputs": [],
   "source": [
    "years = [1971, 1972, 1980, 1990, 2000, 2004, 2100]\n",
    "expected_results = [False, True, True, False, True, True, False]\n",
    "for year, expected_result in zip(years, expected_results):\n",
    "    if is_leap_year(year) == expected_result:\n",
    "        print('okay for', year)\n",
    "    else:\n",
    "        print('not okay for', year)"
   ]
  },
  {
   "cell_type": "markdown",
   "metadata": {},
   "source": [
    "## Factorial function"
   ]
  },
  {
   "cell_type": "markdown",
   "metadata": {},
   "source": [
    "Define a function that, given a positive integer, returns the factorial of that number.  The factorial is defined as:\n",
    "$$\n",
    "0! = 1 \\\\\n",
    "n! = n(n-1)!\n",
    "$$\n",
    "\n",
    "Define two versions, one that is recursive (i.e., the function calls itself), the other iterative.  For this second version, remember that you can compute the factorial as\n",
    "$$\n",
    "n! = \\prod_{i=1}^{n} i\n",
    "$$\n",
    "\n",
    "\n",
    "If you get it right, the last cell in this section will print 'okay' for all values."
   ]
  },
  {
   "cell_type": "code",
   "execution_count": null,
   "metadata": {
    "collapsed": true
   },
   "outputs": [],
   "source": [
    "def fac_rec(n):\n",
    "    return -1"
   ]
  },
  {
   "cell_type": "code",
   "execution_count": null,
   "metadata": {
    "collapsed": true
   },
   "outputs": [],
   "source": [
    "def fac_iter(n):\n",
    "    return -1"
   ]
  },
  {
   "cell_type": "code",
   "execution_count": null,
   "metadata": {
    "collapsed": true
   },
   "outputs": [],
   "source": [
    "import math\n",
    "for i in range(10):\n",
    "    if fac_rec(i) == math.factorial(i):\n",
    "        print('recursive okay for {0}'.format(i))\n",
    "    else:\n",
    "        print('recursive not okay for {0}'.format(i))\n",
    "for i in range(10):\n",
    "    if fac_iter(i) == math.factorial(i):\n",
    "        print('iterative okay for {0}'.format(i))\n",
    "    else:\n",
    "        print('iterative not okay for {0}'.format(i))"
   ]
  },
  {
   "cell_type": "markdown",
   "metadata": {},
   "source": [
    "## Count uppercase"
   ]
  },
  {
   "cell_type": "markdown",
   "metadata": {},
   "source": [
    "Write a function that, given a string, returns the number of upper case characters in that string.\n",
    "\n",
    "Hint: check the documentation on strings in Python for a method to check whether a string consists entirely of upper case letters.\n",
    "\n",
    "If you get it right, the last cell in this section will print 'okay' for all test cases.\n"
   ]
  },
  {
   "cell_type": "code",
   "execution_count": null,
   "metadata": {
    "collapsed": true
   },
   "outputs": [],
   "source": [
    "def count_upper(s):\n",
    "    return -1"
   ]
  },
  {
   "cell_type": "code",
   "execution_count": null,
   "metadata": {
    "collapsed": true
   },
   "outputs": [],
   "source": [
    "str_examples = ['', 'Abc', 'ABc', '99485', 'A5b', 'ABCD']\n",
    "expected_counts = [0, 1, 2, 0, 1, 4]\n",
    "for str_example, expected_count in zip(str_examples, expected_counts):\n",
    "    if count_upper(str_example) == expected_count:\n",
    "        print(\"okay for '{0}'\".format(str_example))\n",
    "    else:\n",
    "        print(\"not okay for '{0}'\".format(str_example))"
   ]
  },
  {
   "cell_type": "markdown",
   "metadata": {},
   "source": [
    "## Palindromes"
   ]
  },
  {
   "cell_type": "markdown",
   "metadata": {},
   "source": [
    "Define a fucntion that, given a string, returns True is that string is a palindrom, Falose otherwise., e.g., 'radar' is a palindrome, 'boxer' is not."
   ]
  },
  {
   "cell_type": "code",
   "execution_count": null,
   "metadata": {
    "collapsed": true
   },
   "outputs": [],
   "source": [
    "def is_palindrome(word):\n",
    "    return 'bla'"
   ]
  },
  {
   "cell_type": "code",
   "execution_count": null,
   "metadata": {
    "collapsed": true
   },
   "outputs": [],
   "source": [
    "words = ['radar', 'boxer', '', 'a', 'QQ', 'acracadacarca',\n",
    "         'abccba', 'abcdba']\n",
    "expected_results = [True, False, True, True, True, True,\n",
    "                    True, False]\n",
    "for word, expected_result in zip(words, expected_results):\n",
    "    if is_palindrome(word) == expected_result:\n",
    "        print('okay for', word)\n",
    "    else:\n",
    "        print('not okay for', word)"
   ]
  },
  {
   "cell_type": "markdown",
   "metadata": {},
   "source": [
    "## Number of illegals"
   ]
  },
  {
   "cell_type": "markdown",
   "metadata": {},
   "source": [
    "Define a function that given a string, counts the number of charactes that do not represent nucleotides in DNA.\n",
    "\n",
    "If you get it right, the last cell will print 'okay' for all test cases."
   ]
  },
  {
   "cell_type": "code",
   "execution_count": null,
   "metadata": {
    "collapsed": true
   },
   "outputs": [],
   "source": [
    "def count_illegal_chars(dna):\n",
    "    return -1"
   ]
  },
  {
   "cell_type": "code",
   "execution_count": null,
   "metadata": {
    "collapsed": true
   },
   "outputs": [],
   "source": [
    "dnas = ['ACGTTAGC', 'ACewla', 'acccgv', '']\n",
    "expected_illegals_counts = [0, 3, 1, 0]\n",
    "for dna, expected_illegals_count in zip(dnas, expected_illegals_counts):\n",
    "    if count_illegal_chars(dna) == expected_illegals_count:\n",
    "        print('okay for', dna)\n",
    "    else:\n",
    "        print('not okay for', dna)"
   ]
  },
  {
   "cell_type": "markdown",
   "metadata": {},
   "source": [
    "## Make legal"
   ]
  },
  {
   "cell_type": "markdown",
   "metadata": {},
   "source": [
    "Define a function that given a string that represents DNA, creates a new string that only contains the character 'A', 'C', 'G', 'T'.  If the original string contains lower case letters 'a', 'c', 'g', 't', replace those with upper case.  All other characters are left out.\n",
    "\n",
    "If you get it right, the script will print 'okay' for all test cases."
   ]
  },
  {
   "cell_type": "code",
   "execution_count": null,
   "metadata": {
    "collapsed": true
   },
   "outputs": [],
   "source": [
    "def make_legal(dna):\n",
    "    return 'bla'"
   ]
  },
  {
   "cell_type": "code",
   "execution_count": null,
   "metadata": {
    "collapsed": true
   },
   "outputs": [],
   "source": [
    "dnas = ['ACGTTAGC', 'ACewla', 'acccgv', '', 'fkjrk']\n",
    "expected_legals = ['ACGTTAGC', 'ACA', 'ACCCG', '', '']\n",
    "for dna, expected_legal in zip(dnas, expected_legals):\n",
    "    if make_legal(dna) == expected_legal:\n",
    "        print(\"okay for '{0}'\".format(dna))\n",
    "    else:\n",
    "        print(\"not okay for '{0}'\".format(dna))"
   ]
  },
  {
   "cell_type": "markdown",
   "metadata": {},
   "source": [
    "## Is complement?"
   ]
  },
  {
   "cell_type": "markdown",
   "metadata": {},
   "source": [
    "Define a function that, given two DNA sequences returns True if the first sequence is the complement of the second, False otherwise.  You can assume that the DNA strings only contain A, C, G, and T.\n",
    "\n",
    "Hint: define a function that returns the complement of a given nucleotide."
   ]
  },
  {
   "cell_type": "code",
   "execution_count": null,
   "metadata": {
    "collapsed": true
   },
   "outputs": [],
   "source": [
    "def is_complement(dna1, dna2):\n",
    "    return 'bla'"
   ]
  },
  {
   "cell_type": "code",
   "execution_count": null,
   "metadata": {
    "collapsed": true
   },
   "outputs": [],
   "source": [
    "dna_tuples = [('ACCGT', 'TGGCA'), ('GA', 'CT'), ('ACG', 'CGC'), ('', '')]\n",
    "expected_results = [True, True, False, True]\n",
    "for dna_tuple, expected_result in zip(dna_tuples, expected_results):\n",
    "    if is_complement(dna_tuple[0], dna_tuple[1]) == expected_result:\n",
    "        print('okay for', dna_tuple)\n",
    "    else:\n",
    "        print('not okay for', dna_tuple)"
   ]
  },
  {
   "cell_type": "markdown",
   "metadata": {},
   "source": [
    "## Find longest"
   ]
  },
  {
   "cell_type": "markdown",
   "metadata": {},
   "source": [
    "Define a function that given a string that represents DNA, finds the longest sequence of identical nucleotides, e.g.,\n",
    "\n",
    "`AACCCGACGGT -> CCC`\n",
    "\n",
    "`AAACCAAAA -> AAAA`\n",
    "\n",
    "If there are multiple subsequences of the same length, return the first, e.g.,\n",
    "\n",
    "`ACCCGTTTA -> CCC`"
   ]
  },
  {
   "cell_type": "code",
   "execution_count": null,
   "metadata": {
    "collapsed": true
   },
   "outputs": [],
   "source": [
    "def longest_identical(dna):\n",
    "    return 'bla'"
   ]
  },
  {
   "cell_type": "code",
   "execution_count": null,
   "metadata": {
    "collapsed": true
   },
   "outputs": [],
   "source": [
    "dnas = ['AACCCGACCGGT', 'AAACGAAAAT', 'CAAGTTG', 'CAGT', '',\n",
    "        'CAAGAAA', 'CCAAAGGTTTG']\n",
    "expected_subseqs = ['CCC', 'AAAA', 'AA', 'C', '', 'AAA', 'AAA']\n",
    "for dna, expected_subseq in zip(dnas, expected_subseqs):\n",
    "    if longest_identical(dna) == expected_subseq:\n",
    "        print(\"okay for '{0}'\".format(dna))\n",
    "    else:\n",
    "        print(\"not okay for '{0}'\".format(dna))"
   ]
  },
  {
   "cell_type": "markdown",
   "metadata": {},
   "source": [
    "## Scramble"
   ]
  },
  {
   "cell_type": "markdown",
   "metadata": {},
   "source": [
    "Define a function that given a string representing a text consisting of sentences in a natural language, at random switches two consecutive characters in words.  Add an optional argument for the probability to exchange character in a word, defaults to 20 %. You can assume that the text contains only words and whitespace, no other characters.\n",
    "\n",
    "E.g.,  'This is an example' -> 'hTis is an exapmle'\n",
    "\n",
    "Hint: look at the documentation of the functions `random` and `randint` in the standard library module `random`."
   ]
  },
  {
   "cell_type": "code",
   "execution_count": null,
   "metadata": {
    "collapsed": true
   },
   "outputs": [],
   "source": [
    "import random"
   ]
  },
  {
   "cell_type": "code",
   "execution_count": null,
   "metadata": {
    "collapsed": true
   },
   "outputs": [],
   "source": [
    "def scramble_word(word, prob):\n",
    "    return 'bla'"
   ]
  },
  {
   "cell_type": "code",
   "execution_count": null,
   "metadata": {
    "collapsed": true
   },
   "outputs": [],
   "source": [
    "def scramble(sentence, prob=0.2):\n",
    "    return 'bla'"
   ]
  },
  {
   "cell_type": "code",
   "execution_count": null,
   "metadata": {
    "collapsed": true
   },
   "outputs": [],
   "source": [
    "def count_changes(orig_sentences, new_sentence):\n",
    "    count = 0\n",
    "    for orig_word, new_word in zip(orig_sentences.split(),\n",
    "                                   new_sentence.split()):\n",
    "        if orig_word != new_word:\n",
    "            count += 1\n",
    "    return count\n",
    "\n",
    "sentence = ('This is an example I think with a very long '\n",
    "            'sentence that seems to keep going for ever since '\n",
    "            'we need quite some words')\n",
    "nr_words = len([1 for word in sentence.split() if len(word) > 1])\n",
    "for prob in [0.0, 0.2, 0.5, 1.0]:\n",
    "    new_sentence = scramble(sentence, prob)\n",
    "    msg = 'probability = {0:.1%}, {1:.1%} words changed:'\n",
    "    nr_words_changed =  count_changes(sentence, new_sentence)\n",
    "    print(msg.format(prob, nr_words_changed/nr_words))\n",
    "    print(new_sentence)"
   ]
  }
 ],
 "metadata": {
  "kernelspec": {
   "display_name": "Python 3",
   "language": "python",
   "name": "python3"
  },
  "language_info": {
   "codemirror_mode": {
    "name": "ipython",
    "version": 3
   },
   "file_extension": ".py",
   "mimetype": "text/x-python",
   "name": "python",
   "nbconvert_exporter": "python",
   "pygments_lexer": "ipython3",
   "version": "3.6.6"
  }
 },
 "nbformat": 4,
 "nbformat_minor": 2
}
