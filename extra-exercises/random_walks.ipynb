{
 "cells": [
  {
   "cell_type": "markdown",
   "metadata": {},
   "source": [
    "# Random walks"
   ]
  },
  {
   "cell_type": "code",
   "execution_count": 1,
   "metadata": {
    "ExecuteTime": {
     "end_time": "2019-12-05T07:11:40.009489Z",
     "start_time": "2019-12-05T07:11:39.063742Z"
    }
   },
   "outputs": [],
   "source": [
    "from collections import Counter\n",
    "import random\n",
    "import matplotlib.pyplot as plt\n",
    "%matplotlib inline\n",
    "import numpy as np"
   ]
  },
  {
   "cell_type": "markdown",
   "metadata": {},
   "source": [
    "## Simulation"
   ]
  },
  {
   "cell_type": "markdown",
   "metadata": {},
   "source": [
    "Simulate a random walk in 1D.  At each (discrete) time step, particles can move right with probability `prob`, or left with probability 1 - `prob`."
   ]
  },
  {
   "cell_type": "code",
   "execution_count": 2,
   "metadata": {
    "ExecuteTime": {
     "end_time": "2019-12-05T07:11:40.044365Z",
     "start_time": "2019-12-05T07:11:40.032969Z"
    }
   },
   "outputs": [],
   "source": [
    "def random_walk(nr_steps, prob=0.5):\n",
    "    x = 0;\n",
    "    for _ in range(nr_steps):\n",
    "        if random.random() < prob:\n",
    "            x += 1\n",
    "        else:\n",
    "            x -= 1\n",
    "    return x"
   ]
  },
  {
   "cell_type": "markdown",
   "metadata": {},
   "source": [
    "The simulation has to be done a large number of times to obtain meaningful statistics."
   ]
  },
  {
   "cell_type": "code",
   "execution_count": 3,
   "metadata": {
    "ExecuteTime": {
     "end_time": "2019-12-05T07:11:40.063105Z",
     "start_time": "2019-12-05T07:11:40.050321Z"
    }
   },
   "outputs": [],
   "source": [
    "def random_walk_distr(nr_walks, nr_steps, prob=0.5):\n",
    "    positions = Counter()\n",
    "    for _ in range(nr_walks):\n",
    "        positions[random_walk(nr_steps, prob)] += 1/nr_walks\n",
    "    return positions"
   ]
  },
  {
   "cell_type": "code",
   "execution_count": 4,
   "metadata": {
    "ExecuteTime": {
     "end_time": "2019-12-05T07:11:40.074058Z",
     "start_time": "2019-12-05T07:11:40.064594Z"
    }
   },
   "outputs": [],
   "source": [
    "nr_walks, nr_steps = 10_000, 100"
   ]
  },
  {
   "cell_type": "code",
   "execution_count": 5,
   "metadata": {
    "ExecuteTime": {
     "end_time": "2019-12-05T07:11:40.295705Z",
     "start_time": "2019-12-05T07:11:40.078231Z"
    }
   },
   "outputs": [],
   "source": [
    "positions = random_walk_distr(nr_walks=nr_walks, nr_steps=nr_steps)"
   ]
  },
  {
   "cell_type": "code",
   "execution_count": 6,
   "metadata": {
    "ExecuteTime": {
     "end_time": "2019-12-05T07:11:40.325463Z",
     "start_time": "2019-12-05T07:11:40.306439Z"
    }
   },
   "outputs": [],
   "source": [
    "x_values = np.linspace(-nr_steps, nr_steps, 2*nr_steps + 1)\n",
    "y_values = np.zeros_like(x_values)\n",
    "for position, prob in positions.items():\n",
    "    y_values[position + nr_steps] = prob"
   ]
  },
  {
   "cell_type": "code",
   "execution_count": 7,
   "metadata": {
    "ExecuteTime": {
     "end_time": "2019-12-05T07:11:41.034484Z",
     "start_time": "2019-12-05T07:11:40.331326Z"
    }
   },
   "outputs": [
    {
     "data": {
      "image/png": "[encoded data removed]",
      "text/plain": [
       "<Figure size 432x288 with 1 Axes>"
      ]
     },
     "metadata": {
      "needs_background": "light"
     },
     "output_type": "display_data"
    }
   ],
   "source": [
    "_ = plt.bar(x_values, y_values)"
   ]
  },
  {
   "cell_type": "markdown",
   "metadata": {},
   "source": [
    "## Theoretical distribution"
   ]
  },
  {
   "cell_type": "markdown",
   "metadata": {},
   "source": [
    "### Using numpy"
   ]
  },
  {
   "cell_type": "code",
   "execution_count": 8,
   "metadata": {
    "ExecuteTime": {
     "end_time": "2019-12-05T07:11:41.060405Z",
     "start_time": "2019-12-05T07:11:41.045588Z"
    }
   },
   "outputs": [],
   "source": [
    "def compute_distr(t_max):\n",
    "    distr = np.zeros(t_max + 1)\n",
    "    distr[t_max//2] = 1.0\n",
    "    for _ in range(t_max):\n",
    "        distr += np.roll(distr, 1)\n",
    "    distr = np.roll(distr, -(t_max - 1)//2)\n",
    "    return distr/sum(distr)"
   ]
  },
  {
   "cell_type": "code",
   "execution_count": 9,
   "metadata": {
    "ExecuteTime": {
     "end_time": "2019-12-05T07:11:41.103303Z",
     "start_time": "2019-12-05T07:11:41.068182Z"
    },
    "scrolled": true
   },
   "outputs": [
    {
     "name": "stdout",
     "output_type": "stream",
     "text": [
      "0 [1.]\n",
      "1 [0.5 0.5]\n",
      "2 [0.25 0.5  0.25]\n",
      "3 [0.125 0.375 0.375 0.125]\n",
      "4 [0.0625 0.25   0.375  0.25   0.0625]\n",
      "5 [0.03125 0.15625 0.3125  0.3125  0.15625 0.03125]\n",
      "6 [0.015625 0.09375  0.234375 0.3125   0.234375 0.09375  0.015625]\n",
      "7 [0.0078125 0.0546875 0.1640625 0.2734375 0.2734375 0.1640625 0.0546875\n",
      " 0.0078125]\n"
     ]
    }
   ],
   "source": [
    "for t_max in range(8):\n",
    "    print(t_max, compute_distr(t_max))"
   ]
  },
  {
   "cell_type": "code",
   "execution_count": 10,
   "metadata": {
    "ExecuteTime": {
     "end_time": "2019-12-05T07:11:42.227342Z",
     "start_time": "2019-12-05T07:11:41.111937Z"
    }
   },
   "outputs": [
    {
     "data": {
      "image/png": "[encoded data removed]",
      "text/plain": [
       "<Figure size 432x288 with 1 Axes>"
      ]
     },
     "metadata": {
      "needs_background": "light"
     },
     "output_type": "display_data"
    }
   ],
   "source": [
    "distr = compute_distr(100)\n",
    "plt.bar(x_values, y_values)\n",
    "_ = plt.plot(np.arange(-nr_steps, nr_steps + 1, 2), distr, 'r')"
   ]
  },
  {
   "cell_type": "markdown",
   "metadata": {},
   "source": [
    "### Using arrays"
   ]
  },
  {
   "cell_type": "code",
   "execution_count": 11,
   "metadata": {
    "ExecuteTime": {
     "end_time": "2019-12-05T07:11:42.282052Z",
     "start_time": "2019-12-05T07:11:42.228902Z"
    }
   },
   "outputs": [],
   "source": [
    "def next_prob_distr(current_distr=None):\n",
    "    if current_distr is None:\n",
    "        return np.array([1.0])\n",
    "    next_distr = np.empty(len(current_distr) + 1)\n",
    "    next_distr[0] = next_distr[-1] = current_distr[0]/2.0\n",
    "    for i in range(1, len(current_distr)//2 + 1):\n",
    "        next_distr[i] = next_distr[-i - 1] = (current_distr[i - 1] + current_distr[i])/2.0\n",
    "    if len(current_distr) % 2 == 0:\n",
    "        next_distr[len(current_distr)//2] = current_distr[len(current_distr)//2]\n",
    "    return next_distr"
   ]
  },
  {
   "cell_type": "code",
   "execution_count": 12,
   "metadata": {
    "ExecuteTime": {
     "end_time": "2019-12-05T07:11:42.309050Z",
     "start_time": "2019-12-05T07:11:42.295997Z"
    }
   },
   "outputs": [],
   "source": [
    "def compute_distr(nr_steps):\n",
    "    distr = next_prob_distr(None)\n",
    "    for _ in range(nr_steps):\n",
    "        distr = next_prob_distr(distr)\n",
    "    return distr"
   ]
  },
  {
   "cell_type": "code",
   "execution_count": 13,
   "metadata": {
    "ExecuteTime": {
     "end_time": "2019-12-05T07:11:42.352230Z",
     "start_time": "2019-12-05T07:11:42.319078Z"
    },
    "scrolled": true
   },
   "outputs": [
    {
     "name": "stdout",
     "output_type": "stream",
     "text": [
      "0 [1.]\n",
      "1 [0.5 0.5]\n",
      "2 [0.25 0.5  0.25]\n",
      "3 [0.125 0.375 0.375 0.125]\n",
      "4 [0.0625 0.25   0.375  0.25   0.0625]\n",
      "5 [0.03125 0.15625 0.3125  0.3125  0.15625 0.03125]\n",
      "6 [0.015625 0.09375  0.234375 0.3125   0.234375 0.09375  0.015625]\n",
      "7 [0.0078125 0.0546875 0.1640625 0.2734375 0.2734375 0.1640625 0.0546875\n",
      " 0.0078125]\n"
     ]
    }
   ],
   "source": [
    "for t_max in range(8):\n",
    "    print(t_max, compute_distr(t_max))"
   ]
  },
  {
   "cell_type": "code",
   "execution_count": 14,
   "metadata": {
    "ExecuteTime": {
     "end_time": "2019-12-05T07:11:43.316415Z",
     "start_time": "2019-12-05T07:11:42.374359Z"
    }
   },
   "outputs": [
    {
     "data": {
      "image/png": "[encoded data removed]",
      "text/plain": [
       "<Figure size 432x288 with 1 Axes>"
      ]
     },
     "metadata": {
      "needs_background": "light"
     },
     "output_type": "display_data"
    }
   ],
   "source": [
    "distr = compute_distr(nr_steps)\n",
    "plt.bar(x_values, y_values)\n",
    "_ = plt.plot(np.arange(-nr_steps, nr_steps + 1, 2), distr, 'r')"
   ]
  },
  {
   "cell_type": "markdown",
   "metadata": {},
   "source": [
    "### Combinations"
   ]
  },
  {
   "cell_type": "code",
   "execution_count": 15,
   "metadata": {
    "ExecuteTime": {
     "end_time": "2019-12-05T07:11:43.334437Z",
     "start_time": "2019-12-05T07:11:43.322357Z"
    }
   },
   "outputs": [],
   "source": [
    "from math import factorial"
   ]
  },
  {
   "cell_type": "code",
   "execution_count": 16,
   "metadata": {
    "ExecuteTime": {
     "end_time": "2019-12-05T07:11:43.361465Z",
     "start_time": "2019-12-05T07:11:43.342953Z"
    }
   },
   "outputs": [],
   "source": [
    "def combinations(m, n):\n",
    "    return factorial(n)//(factorial(m)*factorial(n - m))"
   ]
  },
  {
   "cell_type": "code",
   "execution_count": 17,
   "metadata": {
    "ExecuteTime": {
     "end_time": "2019-12-05T07:11:43.410932Z",
     "start_time": "2019-12-05T07:11:43.378303Z"
    }
   },
   "outputs": [],
   "source": [
    "def compute_distr(t_max):\n",
    "    probs = list()\n",
    "    for i in range(t_max + 1):\n",
    "        probs.append(combinations(i, t_max)/2**t_max)\n",
    "    return probs"
   ]
  },
  {
   "cell_type": "code",
   "execution_count": 18,
   "metadata": {
    "ExecuteTime": {
     "end_time": "2019-12-05T07:11:43.454557Z",
     "start_time": "2019-12-05T07:11:43.422712Z"
    },
    "scrolled": true
   },
   "outputs": [
    {
     "name": "stdout",
     "output_type": "stream",
     "text": [
      "0 [1.0]\n",
      "1 [0.5, 0.5]\n",
      "2 [0.25, 0.5, 0.25]\n",
      "3 [0.125, 0.375, 0.375, 0.125]\n",
      "4 [0.0625, 0.25, 0.375, 0.25, 0.0625]\n",
      "5 [0.03125, 0.15625, 0.3125, 0.3125, 0.15625, 0.03125]\n",
      "6 [0.015625, 0.09375, 0.234375, 0.3125, 0.234375, 0.09375, 0.015625]\n",
      "7 [0.0078125, 0.0546875, 0.1640625, 0.2734375, 0.2734375, 0.1640625, 0.0546875, 0.0078125]\n",
      "8 [0.00390625, 0.03125, 0.109375, 0.21875, 0.2734375, 0.21875, 0.109375, 0.03125, 0.00390625]\n",
      "9 [0.001953125, 0.017578125, 0.0703125, 0.1640625, 0.24609375, 0.24609375, 0.1640625, 0.0703125, 0.017578125, 0.001953125]\n"
     ]
    }
   ],
   "source": [
    "for t_max in range(10):\n",
    "    print(t_max, compute_distr(t_max))"
   ]
  },
  {
   "cell_type": "code",
   "execution_count": 19,
   "metadata": {
    "ExecuteTime": {
     "end_time": "2019-12-05T07:11:44.733165Z",
     "start_time": "2019-12-05T07:11:43.467574Z"
    }
   },
   "outputs": [
    {
     "data": {
      "image/png": "[encoded data removed]",
      "text/plain": [
       "<Figure size 432x288 with 1 Axes>"
      ]
     },
     "metadata": {
      "needs_background": "light"
     },
     "output_type": "display_data"
    }
   ],
   "source": [
    "distr = compute_distr(nr_steps)\n",
    "plt.bar(x_values, y_values)\n",
    "_ = plt.plot(np.arange(-nr_steps, nr_steps + 1, 2), distr, 'r')"
   ]
  }
 ],
 "metadata": {
  "kernelspec": {
   "display_name": "Python 3",
   "language": "python",
   "name": "python3"
  },
  "language_info": {
   "codemirror_mode": {
    "name": "ipython",
    "version": 3
   },
   "file_extension": ".py",
   "mimetype": "text/x-python",
   "name": "python",
   "nbconvert_exporter": "python",
   "pygments_lexer": "ipython3",
   "version": "3.7.5"
  }
 },
 "nbformat": 4,
 "nbformat_minor": 2
}
