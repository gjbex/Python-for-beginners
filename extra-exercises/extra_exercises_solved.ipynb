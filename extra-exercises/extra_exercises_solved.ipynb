{
 "cells": [
  {
   "cell_type": "markdown",
   "metadata": {},
   "source": [
    "# Extra exercises"
   ]
  },
  {
   "cell_type": "markdown",
   "metadata": {},
   "source": [
    "## Leap years"
   ]
  },
  {
   "cell_type": "markdown",
   "metadata": {},
   "source": [
    "Implement the function `is_leap_year` so that it returns `True` when the year is a leap year, `False` otherwise.  Check the Wikipedia article on leap years for the definition. Hint: the modulo operator in Python is %, it can be used to compute the remainder of a division. If you get it right, the script will print 'okay' for all test cases."
   ]
  },
  {
   "cell_type": "code",
   "execution_count": 1,
   "metadata": {
    "ExecuteTime": {
     "end_time": "2018-10-13T08:58:41.384989Z",
     "start_time": "2018-10-13T08:58:41.376251Z"
    }
   },
   "outputs": [],
   "source": [
    "def is_leap_year(year):\n",
    "    if year % 400 == 0:\n",
    "        return True\n",
    "    elif year % 100 == 0:\n",
    "        return False\n",
    "    else:\n",
    "        return year % 4 == 0"
   ]
  },
  {
   "cell_type": "code",
   "execution_count": 2,
   "metadata": {
    "ExecuteTime": {
     "end_time": "2018-10-13T08:58:43.145351Z",
     "start_time": "2018-10-13T08:58:43.130420Z"
    }
   },
   "outputs": [
    {
     "name": "stdout",
     "output_type": "stream",
     "text": [
      "okay for 1971\n",
      "okay for 1972\n",
      "okay for 1980\n",
      "okay for 1990\n",
      "okay for 2000\n",
      "okay for 2004\n",
      "okay for 2100\n"
     ]
    }
   ],
   "source": [
    "years = [1971, 1972, 1980, 1990, 2000, 2004, 2100]\n",
    "expected_results = [False, True, True, False, True, True, False]\n",
    "for year, expected_result in zip(years, expected_results):\n",
    "    if is_leap_year(year) == expected_result:\n",
    "        print('okay for', year)\n",
    "    else:\n",
    "        print('not okay for', year)"
   ]
  },
  {
   "cell_type": "markdown",
   "metadata": {},
   "source": [
    "## Factorial function"
   ]
  },
  {
   "cell_type": "markdown",
   "metadata": {},
   "source": [
    "Define a function that, given a positive integer, returns the factorial of that number.  The factorial is defined as:\n",
    "$$\n",
    "0! = 1 \\\\\n",
    "n! = n(n-1)!\n",
    "$$\n",
    "\n",
    "Define two versions, one that is recursive (i.e., the function calls itself), the other iterative.  For this second version, remember that you can compute the factorial as\n",
    "$$\n",
    "n! = \\prod_{i=1}^{n} i\n",
    "$$\n",
    "\n",
    "\n",
    "If you get it right, the last cell in this section will print 'okay' for all values."
   ]
  },
  {
   "cell_type": "code",
   "execution_count": 7,
   "metadata": {},
   "outputs": [],
   "source": [
    "def fac_rec(n):\n",
    "    return 1 if n < 1 else n*fac_rec(n - 1)"
   ]
  },
  {
   "cell_type": "code",
   "execution_count": 8,
   "metadata": {
    "collapsed": true
   },
   "outputs": [],
   "source": [
    "def fac_iter(n):\n",
    "    fac = 1\n",
    "    for i in range(2, n + 1):\n",
    "        fac *= i\n",
    "    return fac"
   ]
  },
  {
   "cell_type": "code",
   "execution_count": 9,
   "metadata": {},
   "outputs": [
    {
     "name": "stdout",
     "output_type": "stream",
     "text": [
      "recursive okay for 0\n",
      "recursive okay for 1\n",
      "recursive okay for 2\n",
      "recursive okay for 3\n",
      "recursive okay for 4\n",
      "recursive okay for 5\n",
      "recursive okay for 6\n",
      "recursive okay for 7\n",
      "recursive okay for 8\n",
      "recursive okay for 9\n",
      "iterative okay for 0\n",
      "iterative okay for 1\n",
      "iterative okay for 2\n",
      "iterative okay for 3\n",
      "iterative okay for 4\n",
      "iterative okay for 5\n",
      "iterative okay for 6\n",
      "iterative okay for 7\n",
      "iterative okay for 8\n",
      "iterative okay for 9\n"
     ]
    }
   ],
   "source": [
    "import math\n",
    "for i in range(10):\n",
    "    if fac_rec(i) == math.factorial(i):\n",
    "        print('recursive okay for {0}'.format(i))\n",
    "    else:\n",
    "        print('recursive not okay for {0}'.format(i))\n",
    "for i in range(10):\n",
    "    if fac_iter(i) == math.factorial(i):\n",
    "        print('iterative okay for {0}'.format(i))\n",
    "    else:\n",
    "        print('iterative not okay for {0}'.format(i))"
   ]
  },
  {
   "cell_type": "markdown",
   "metadata": {},
   "source": [
    "## Count uppercase"
   ]
  },
  {
   "cell_type": "markdown",
   "metadata": {},
   "source": [
    "Write a function that, given a string, returns the number of upper case characters in that string.\n",
    "\n",
    "Hint: check the documentation on strings in Python for a method to check whether a string consists entirely of upper case letters.\n",
    "\n",
    "If you get it right, the last cell in this section will print 'okay' for all test cases.\n"
   ]
  },
  {
   "cell_type": "code",
   "execution_count": 10,
   "metadata": {
    "collapsed": true
   },
   "outputs": [],
   "source": [
    "def count_upper(s):\n",
    "    count = 0\n",
    "    for letter in s:\n",
    "        if letter.isupper():\n",
    "            count += 1\n",
    "    return count"
   ]
  },
  {
   "cell_type": "code",
   "execution_count": 11,
   "metadata": {},
   "outputs": [
    {
     "name": "stdout",
     "output_type": "stream",
     "text": [
      "okay for ''\n",
      "okay for 'Abc'\n",
      "okay for 'ABc'\n",
      "okay for '99485'\n",
      "okay for 'A5b'\n",
      "okay for 'ABCD'\n"
     ]
    }
   ],
   "source": [
    "str_examples = ['', 'Abc', 'ABc', '99485', 'A5b', 'ABCD']\n",
    "expected_counts = [0, 1, 2, 0, 1, 4]\n",
    "for str_example, expected_count in zip(str_examples, expected_counts):\n",
    "    if count_upper(str_example) == expected_count:\n",
    "        print(\"okay for '{0}'\".format(str_example))\n",
    "    else:\n",
    "        print(\"not okay for '{0}'\".format(str_example))"
   ]
  },
  {
   "cell_type": "markdown",
   "metadata": {},
   "source": [
    "## Palindromes"
   ]
  },
  {
   "cell_type": "markdown",
   "metadata": {},
   "source": [
    "Define a fucntion that, given a string, returns True is that string is a palindrom, Falose otherwise., e.g., 'radar' is a palindrome, 'boxer' is not."
   ]
  },
  {
   "cell_type": "code",
   "execution_count": 14,
   "metadata": {
    "collapsed": true
   },
   "outputs": [],
   "source": [
    "def is_palindrome(word):\n",
    "    for i in range(len(word)//2):\n",
    "        if word[i] != word[len(word) - i - 1]:\n",
    "            return False\n",
    "    return True"
   ]
  },
  {
   "cell_type": "code",
   "execution_count": 1,
   "metadata": {
    "ExecuteTime": {
     "end_time": "2018-10-13T09:02:54.175581Z",
     "start_time": "2018-10-13T09:02:54.163197Z"
    }
   },
   "outputs": [],
   "source": [
    "def is_palindrome(word):\n",
    "    if len(word) < 2:\n",
    "        return True\n",
    "    else:\n",
    "        return word[0] == word[-1] and is_palindrome(word[1:-1])"
   ]
  },
  {
   "cell_type": "code",
   "execution_count": 2,
   "metadata": {
    "ExecuteTime": {
     "end_time": "2018-10-13T09:02:54.962085Z",
     "start_time": "2018-10-13T09:02:54.946230Z"
    }
   },
   "outputs": [
    {
     "name": "stdout",
     "output_type": "stream",
     "text": [
      "okay for radar\n",
      "okay for boxer\n",
      "okay for \n",
      "okay for a\n",
      "okay for QQ\n",
      "okay for acracadacarca\n",
      "okay for abccba\n",
      "okay for abcdba\n"
     ]
    }
   ],
   "source": [
    "words = ['radar', 'boxer', '', 'a', 'QQ', 'acracadacarca',\n",
    "         'abccba', 'abcdba']\n",
    "expected_results = [True, False, True, True, True, True,\n",
    "                    True, False]\n",
    "for word, expected_result in zip(words, expected_results):\n",
    "    if is_palindrome(word) == expected_result:\n",
    "        print('okay for', word)\n",
    "    else:\n",
    "        print('not okay for', word)"
   ]
  },
  {
   "cell_type": "markdown",
   "metadata": {},
   "source": [
    "## Number of illegals"
   ]
  },
  {
   "cell_type": "markdown",
   "metadata": {},
   "source": [
    "Define a function that given a string, counts the number of charactes that do not represent nucleotides in DNA.\n",
    "\n",
    "If you get it right, the last cell will print 'okay' for all test cases."
   ]
  },
  {
   "cell_type": "code",
   "execution_count": 20,
   "metadata": {
    "collapsed": true
   },
   "outputs": [],
   "source": [
    "def count_illegal_chars(dna):\n",
    "    count = 0\n",
    "    for nucl in dna:\n",
    "        if nucl.upper() not in 'ACGT':\n",
    "            count += 1\n",
    "    return count"
   ]
  },
  {
   "cell_type": "code",
   "execution_count": 21,
   "metadata": {},
   "outputs": [
    {
     "name": "stdout",
     "output_type": "stream",
     "text": [
      "okay for ACGTTAGC\n",
      "okay for ACewla\n",
      "okay for acccgv\n"
     ]
    }
   ],
   "source": [
    "dnas = ['ACGTTAGC', 'ACewla', 'acccgv']\n",
    "expected_illegals_counts = [0, 3, 1]\n",
    "for dna, expected_illegals_count in zip(dnas, expected_illegals_counts):\n",
    "    if count_illegal_chars(dna) == expected_illegals_count:\n",
    "        print('okay for', dna)\n",
    "    else:\n",
    "        print('not okay for', dna)"
   ]
  },
  {
   "cell_type": "markdown",
   "metadata": {},
   "source": [
    "## Make legal"
   ]
  },
  {
   "cell_type": "markdown",
   "metadata": {},
   "source": [
    "Define a function that given a string that represents DNA, creates a new string that only contains the character 'A', 'C', 'G', 'T'.  If the original string contains lower case letters 'a', 'c', 'g', 't', replace those with upper case.  All other characters are left out.\n",
    "\n",
    "If you get it right, the script will print 'okay' for all test cases."
   ]
  },
  {
   "cell_type": "code",
   "execution_count": 26,
   "metadata": {
    "collapsed": true
   },
   "outputs": [],
   "source": [
    "def make_legal(dna):\n",
    "    new_dna = ''\n",
    "    for nucl in dna:\n",
    "        if nucl.upper() in 'ACGT':\n",
    "            new_dna += nucl.upper()\n",
    "    return new_dna"
   ]
  },
  {
   "cell_type": "code",
   "execution_count": 27,
   "metadata": {},
   "outputs": [
    {
     "name": "stdout",
     "output_type": "stream",
     "text": [
      "okay for 'ACGTTAGC'\n",
      "okay for 'ACewla'\n",
      "okay for 'acccgv'\n",
      "okay for ''\n",
      "okay for 'fkjrk'\n"
     ]
    }
   ],
   "source": [
    "dnas = ['ACGTTAGC', 'ACewla', 'acccgv', '', 'fkjrk']\n",
    "expected_legals = ['ACGTTAGC', 'ACA', 'ACCCG', '', '']\n",
    "for dna, expected_legal in zip(dnas, expected_legals):\n",
    "    if make_legal(dna) == expected_legal:\n",
    "        print(\"okay for '{0}'\".format(dna))\n",
    "    else:\n",
    "        print(\"not okay for '{0}'\".format(dna))"
   ]
  },
  {
   "cell_type": "markdown",
   "metadata": {},
   "source": [
    "## Is complement?"
   ]
  },
  {
   "cell_type": "markdown",
   "metadata": {},
   "source": [
    "Define a function that, given two DNA sequences returns True if the first sequence is the complement of the second, False otherwise.  You can assume that the DNA strings only contain A, C, G, and T.\n",
    "\n",
    "Hint: define a function that returns the complement of a given nucleotide."
   ]
  },
  {
   "cell_type": "code",
   "execution_count": 30,
   "metadata": {
    "collapsed": true
   },
   "outputs": [],
   "source": [
    "def is_complement(dna1, dna2):\n",
    "    for i, nucl in enumerate(dna1):\n",
    "        if nucl == 'A':\n",
    "            if dna2[i] != 'T':\n",
    "                return False\n",
    "        elif nucl == 'C':\n",
    "            if dna2[i] != 'G':\n",
    "                return False\n",
    "        elif nucl == 'G':\n",
    "            if dna2[i] != 'C':\n",
    "                return False\n",
    "        elif nucl == 'T':\n",
    "            if dna2[i] != 'A':\n",
    "                return False\n",
    "    return True"
   ]
  },
  {
   "cell_type": "code",
   "execution_count": 31,
   "metadata": {},
   "outputs": [
    {
     "name": "stdout",
     "output_type": "stream",
     "text": [
      "okay for ('ACCGT', 'TGGCA')\n",
      "okay for ('GA', 'CT')\n",
      "okay for ('ACG', 'CGC')\n"
     ]
    }
   ],
   "source": [
    "dna_tuples = [('ACCGT', 'TGGCA'), ('GA', 'CT'), ('ACG', 'CGC')]\n",
    "expected_results = [True, True, False]\n",
    "for dna_tuple, expected_result in zip(dna_tuples, expected_results):\n",
    "    if is_complement(dna_tuple[0], dna_tuple[1]) == expected_result:\n",
    "        print('okay for', dna_tuple)\n",
    "    else:\n",
    "        print('not okay for', dna_tuple)"
   ]
  },
  {
   "cell_type": "markdown",
   "metadata": {},
   "source": [
    "## Find longest"
   ]
  },
  {
   "cell_type": "markdown",
   "metadata": {},
   "source": [
    "Define a function that given a string that represents DNA, finds the longest sequence of identical nucleotides, e.g.,\n",
    "\n",
    "`AACCCGACGGT -> CCC`\n",
    "\n",
    "`AAACCAAAA -> AAAA`\n",
    "\n",
    "If there are multiple subsequences of the same length, return the first, e.g.,\n",
    "\n",
    "`ACCCGTTTA -> CCC`"
   ]
  },
  {
   "cell_type": "code",
   "execution_count": 36,
   "metadata": {
    "collapsed": true
   },
   "outputs": [],
   "source": [
    "def longest_identical(dna):\n",
    "    longest = ''\n",
    "    if dna:\n",
    "        curr_longest = dna[0]\n",
    "        for nucl in dna[1:]:\n",
    "            if nucl == curr_longest[-1]:\n",
    "                curr_longest += nucl\n",
    "            else:\n",
    "                if len(curr_longest) > len(longest):\n",
    "                    longest = curr_longest\n",
    "                curr_longest = nucl\n",
    "        if len(curr_longest) > len(longest):\n",
    "            longest = curr_longest\n",
    "    return longest"
   ]
  },
  {
   "cell_type": "code",
   "execution_count": 37,
   "metadata": {},
   "outputs": [
    {
     "name": "stdout",
     "output_type": "stream",
     "text": [
      "okay for 'AACCCGACCGGT'\n",
      "okay for 'AAACGAAAAT'\n",
      "okay for 'CAAGTTG'\n",
      "okay for 'CAGT'\n",
      "okay for ''\n",
      "okay for 'CAAGAAA'\n",
      "okay for 'CCAAAGGTTTG'\n"
     ]
    }
   ],
   "source": [
    "dnas = ['AACCCGACCGGT', 'AAACGAAAAT', 'CAAGTTG', 'CAGT', '',\n",
    "        'CAAGAAA', 'CCAAAGGTTTG']\n",
    "expected_subseqs = ['CCC', 'AAAA', 'AA', 'C', '', 'AAA', 'AAA']\n",
    "for dna, expected_subseq in zip(dnas, expected_subseqs):\n",
    "    if longest_identical(dna) == expected_subseq:\n",
    "        print(\"okay for '{0}'\".format(dna))\n",
    "    else:\n",
    "        print(\"not okay for '{0}'\".format(dna))"
   ]
  },
  {
   "cell_type": "markdown",
   "metadata": {},
   "source": [
    "## Scramble"
   ]
  },
  {
   "cell_type": "markdown",
   "metadata": {},
   "source": [
    "Define a function that given a string representing a text consisting of sentences in a natural language, at random switches two consecutive characters in words.  Add an optional argument for the probability to exchange character in a word, defaults to 20 %. You can assume that the text contains only words and whitespace, no other characters.\n",
    "\n",
    "E.g.,  'This is an example' -> 'hTis is an exapmle'\n",
    "\n",
    "Hint: look at the documentation of the functions `random` and `randint` in the standard library module `random`."
   ]
  },
  {
   "cell_type": "code",
   "execution_count": 38,
   "metadata": {
    "collapsed": true
   },
   "outputs": [],
   "source": [
    "import random"
   ]
  },
  {
   "cell_type": "code",
   "execution_count": 44,
   "metadata": {
    "collapsed": true
   },
   "outputs": [],
   "source": [
    "def scramble_word(word, prob):\n",
    "    if len(word) > 1:\n",
    "        if random.random() < prob:\n",
    "            i = random.randint(1, len(word) - 1)\n",
    "            word = word[:i - 1] + word[i] + word[i - 1] + word[i + 1:]\n",
    "    return word"
   ]
  },
  {
   "cell_type": "code",
   "execution_count": 45,
   "metadata": {
    "collapsed": true
   },
   "outputs": [],
   "source": [
    "def scramble(sentence, prob=0.2):\n",
    "    words = sentence.split()\n",
    "    scrambeled_words = list()\n",
    "    for word in words:\n",
    "        scrambeled_words.append(scramble_word(word, prob))\n",
    "    return ' '.join(scrambeled_words)"
   ]
  },
  {
   "cell_type": "code",
   "execution_count": 46,
   "metadata": {},
   "outputs": [
    {
     "name": "stdout",
     "output_type": "stream",
     "text": [
      "probability = 0.0%, 0.0% words changed:\n",
      "This is an example I think with a very long sentence that seems to keep going for ever since we need quite some words\n",
      "probability = 20.0%, 18.2% words changed:\n",
      "This is an example I think with a very long sentence htat seems to kepe going for ever since we need qiute smoe words\n",
      "probability = 50.0%, 50.0% words changed:\n",
      "Tihs is na exmaple I thnik wiht a very long sentecne that seems ot ekep gonig for veer since we need quite osme words\n",
      "probability = 100.0%, 100.0% words changed:\n",
      "hTis si na eaxmple I htink wiht a evry logn setnence htat semes ot ekep oging fro veer snice ew ened quiet soem owrds\n"
     ]
    }
   ],
   "source": [
    "def count_changes(orig_sentences, new_sentence):\n",
    "    count = 0\n",
    "    for orig_word, new_word in zip(orig_sentences.split(),\n",
    "                                   new_sentence.split()):\n",
    "        if orig_word != new_word:\n",
    "            count += 1\n",
    "    return count\n",
    "\n",
    "sentence = ('This is an example I think with a very long '\n",
    "            'sentence that seems to keep going for ever since '\n",
    "            'we need quite some words')\n",
    "nr_words = len([1 for word in sentence.split() if len(word) > 1])\n",
    "for prob in [0.0, 0.2, 0.5, 1.0]:\n",
    "    new_sentence = scramble(sentence, prob)\n",
    "    msg = 'probability = {0:.1%}, {1:.1%} words changed:'\n",
    "    nr_words_changed =  count_changes(sentence, new_sentence)\n",
    "    print(msg.format(prob, nr_words_changed/nr_words))\n",
    "    print(new_sentence)"
   ]
  }
 ],
 "metadata": {
  "kernelspec": {
   "display_name": "Python 3",
   "language": "python",
   "name": "python3"
  },
  "language_info": {
   "codemirror_mode": {
    "name": "ipython",
    "version": 3
   },
   "file_extension": ".py",
   "mimetype": "text/x-python",
   "name": "python",
   "nbconvert_exporter": "python",
   "pygments_lexer": "ipython3",
   "version": "3.6.6"
  }
 },
 "nbformat": 4,
 "nbformat_minor": 2
}
