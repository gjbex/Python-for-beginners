{
 "cells": [
  {
   "cell_type": "markdown",
   "metadata": {},
   "source": [
    "# Extra exercises"
   ]
  },
  {
   "cell_type": "markdown",
   "metadata": {},
   "source": [
    "## Leap years"
   ]
  },
  {
   "cell_type": "markdown",
   "metadata": {},
   "source": [
    "Implement the function `is_leap_year` so that it returns `True` when the year is a leap year, `False` otherwise.  Check the Wikipedia article on leap years for the definition. Hint: the modulo operator in Python is %, it can be used to compute the remainder of a division. If you get it right, the script will print 'okay' for all test cases."
   ]
  },
  {
   "cell_type": "code",
   "execution_count": 4,
   "metadata": {
    "collapsed": true
   },
   "outputs": [],
   "source": [
    "def is_leap_year(year):\n",
    "    if year % 400 == 0:\n",
    "        return True\n",
    "    elif year % 100 == 0:\n",
    "        return False\n",
    "    elif year % 4 == 0:\n",
    "        return True\n",
    "    else:\n",
    "        return False"
   ]
  },
  {
   "cell_type": "code",
   "execution_count": 5,
   "metadata": {},
   "outputs": [
    {
     "name": "stdout",
     "output_type": "stream",
     "text": [
      "okay for 1971\n",
      "okay for 1972\n",
      "okay for 1980\n",
      "okay for 1990\n",
      "okay for 2000\n",
      "okay for 2004\n",
      "okay for 2100\n"
     ]
    }
   ],
   "source": [
    "years = [1971, 1972, 1980, 1990, 2000, 2004, 2100]\n",
    "expected_results = [False, True, True, False, True, True, False]\n",
    "for year, expected_result in zip(years, expected_results):\n",
    "    if is_leap_year(year) == expected_result:\n",
    "        print('okay for', year)\n",
    "    else:\n",
    "        print('not okay for', year)"
   ]
  },
  {
   "cell_type": "markdown",
   "metadata": {},
   "source": [
    "## Factorial function"
   ]
  },
  {
   "cell_type": "markdown",
   "metadata": {},
   "source": [
    "Define a function that, given a positive integer, returns the factorial of that number.  The factorial is defined as:\n",
    "\n",
    "$0! = 1$\n",
    "\n",
    "$n! = n(n-1)!$\n",
    "\n",
    "Define two versions, one that is recursive (i.e., the function calls itself), the other iterative.  If you get it right, the last cell in this section will print 'okay' for all values."
   ]
  },
  {
   "cell_type": "code",
   "execution_count": 10,
   "metadata": {
    "collapsed": true
   },
   "outputs": [],
   "source": [
    "def fac_rec(n):\n",
    "    if n == 0:\n",
    "        return 1\n",
    "    elif n > 0:\n",
    "        return n*fac_rec(n - 1)\n",
    "    else:\n",
    "        print('### error: fac_rec must be positive')\n",
    "        return None"
   ]
  },
  {
   "cell_type": "code",
   "execution_count": 18,
   "metadata": {
    "collapsed": true
   },
   "outputs": [],
   "source": [
    "def fac_iter(n):\n",
    "    if n == 0:\n",
    "        return 1\n",
    "    else:\n",
    "        fac = n\n",
    "        for i in range(1, n):\n",
    "            fac *= i\n",
    "        return fac"
   ]
  },
  {
   "cell_type": "code",
   "execution_count": 25,
   "metadata": {
    "collapsed": true
   },
   "outputs": [],
   "source": [
    "def fac_iter(n):\n",
    "    if n < 0:\n",
    "        print('### error:  fac_iter must be positive')\n",
    "        return None\n",
    "    else:\n",
    "        fac = 1\n",
    "        for i in range(2, n + 1):\n",
    "            fac *= i\n",
    "        return fac"
   ]
  },
  {
   "cell_type": "code",
   "execution_count": 26,
   "metadata": {},
   "outputs": [
    {
     "name": "stdout",
     "output_type": "stream",
     "text": [
      "### error:  fac_iter must be positive\n"
     ]
    }
   ],
   "source": [
    "fac_iter(-4)"
   ]
  },
  {
   "cell_type": "code",
   "execution_count": 27,
   "metadata": {},
   "outputs": [
    {
     "name": "stdout",
     "output_type": "stream",
     "text": [
      "recursive okay for 0\n",
      "recursive okay for 1\n",
      "recursive okay for 2\n",
      "recursive okay for 3\n",
      "recursive okay for 4\n",
      "recursive okay for 5\n",
      "recursive okay for 6\n",
      "recursive okay for 7\n",
      "recursive okay for 8\n",
      "recursive okay for 9\n",
      "iterative okay for 0\n",
      "iterative okay for 1\n",
      "iterative okay for 2\n",
      "iterative okay for 3\n",
      "iterative okay for 4\n",
      "iterative okay for 5\n",
      "iterative okay for 6\n",
      "iterative okay for 7\n",
      "iterative okay for 8\n",
      "iterative okay for 9\n"
     ]
    }
   ],
   "source": [
    "import math\n",
    "for i in range(10):\n",
    "    if fac_rec(i) == math.factorial(i):\n",
    "        print('recursive okay for {0}'.format(i))\n",
    "    else:\n",
    "        print('recursive not okay for {0}'.format(i))\n",
    "for i in range(10):\n",
    "    if fac_iter(i) == math.factorial(i):\n",
    "        print('iterative okay for {0}'.format(i))\n",
    "    else:\n",
    "        print('iterative not okay for {0}'.format(i))"
   ]
  },
  {
   "cell_type": "code",
   "execution_count": 12,
   "metadata": {},
   "outputs": [
    {
     "name": "stdout",
     "output_type": "stream",
     "text": [
      "### error: fac_rec must be positive\n"
     ]
    }
   ],
   "source": [
    "fac_rec(-1)"
   ]
  },
  {
   "cell_type": "markdown",
   "metadata": {},
   "source": [
    "## Count uppercase"
   ]
  },
  {
   "cell_type": "markdown",
   "metadata": {},
   "source": [
    "Write a function that, given a string, returns the number of upper case characters in that string.\n",
    "\n",
    "Hint: check the documentation on strings in Python for a method to check whether a string consists entirely of upper case letters.\n",
    "\n",
    "If you get it right, the last cell in this section will print 'okay' for all test cases.\n"
   ]
  },
  {
   "cell_type": "code",
   "execution_count": 37,
   "metadata": {
    "collapsed": true
   },
   "outputs": [],
   "source": [
    "def count_upper(s):\n",
    "    count = 0\n",
    "    for letter in s:\n",
    "        if letter.isupper():\n",
    "            count += 1\n",
    "    return count"
   ]
  },
  {
   "cell_type": "code",
   "execution_count": 38,
   "metadata": {},
   "outputs": [
    {
     "name": "stdout",
     "output_type": "stream",
     "text": [
      "okay for ''\n",
      "okay for 'Abc'\n",
      "okay for 'ABc'\n",
      "okay for '99485'\n",
      "okay for 'A5b'\n",
      "okay for 'ABCD'\n"
     ]
    }
   ],
   "source": [
    "str_examples = ['', 'Abc', 'ABc', '99485', 'A5b', 'ABCD']\n",
    "expected_counts = [0, 1, 2, 0, 1, 4]\n",
    "for str_example, expected_count in zip(str_examples, expected_counts):\n",
    "    if count_upper(str_example) == expected_count:\n",
    "        print(\"okay for '{0}'\".format(str_example))\n",
    "    else:\n",
    "        print(\"not okay for '{0}'\".format(str_example))"
   ]
  },
  {
   "cell_type": "markdown",
   "metadata": {},
   "source": [
    "## Palindromes"
   ]
  },
  {
   "cell_type": "markdown",
   "metadata": {},
   "source": [
    "Define a fucntion that, given a string, returns True is that string is a palindrom, Falose otherwise., e.g., 'radar' is a palindrome, 'boxer' is not."
   ]
  },
  {
   "cell_type": "code",
   "execution_count": 39,
   "metadata": {
    "collapsed": true
   },
   "outputs": [],
   "source": [
    "def is_palindrome(word):\n",
    "    rev = ''\n",
    "    for i in range(len(word) - 1, -1, -1):\n",
    "        rev += word[i]\n",
    "    if rev == word:\n",
    "        return True\n",
    "    else:\n",
    "        return False"
   ]
  },
  {
   "cell_type": "code",
   "execution_count": 41,
   "metadata": {
    "collapsed": true
   },
   "outputs": [],
   "source": [
    "def is_palindrome(word):\n",
    "    if word == ''.join(reversed(word)):\n",
    "        return True\n",
    "    else:\n",
    "        return False"
   ]
  },
  {
   "cell_type": "code",
   "execution_count": 51,
   "metadata": {
    "collapsed": true
   },
   "outputs": [],
   "source": [
    "def is_palindrome(word):\n",
    "    if word == word[::-1]:\n",
    "        return True\n",
    "    else:\n",
    "        return False"
   ]
  },
  {
   "cell_type": "code",
   "execution_count": 89,
   "metadata": {
    "collapsed": true
   },
   "outputs": [],
   "source": [
    "def is_palindrome(word):\n",
    "    return word == word[::-1]"
   ]
  },
  {
   "cell_type": "code",
   "execution_count": 90,
   "metadata": {},
   "outputs": [
    {
     "data": {
      "text/plain": [
       "10000000"
      ]
     },
     "execution_count": 90,
     "metadata": {},
     "output_type": "execute_result"
    }
   ],
   "source": [
    "long_str = 'A'*10_000_000\n",
    "len(long_str)"
   ]
  },
  {
   "cell_type": "code",
   "execution_count": 91,
   "metadata": {},
   "outputs": [
    {
     "name": "stdout",
     "output_type": "stream",
     "text": [
      "16.7 ms ± 544 µs per loop (mean ± std. dev. of 7 runs, 10 loops each)\n"
     ]
    }
   ],
   "source": [
    "%timeit is_palindrome(long_str)"
   ]
  },
  {
   "cell_type": "code",
   "execution_count": 101,
   "metadata": {
    "collapsed": true
   },
   "outputs": [],
   "source": [
    "def is_palindrome(word):\n",
    "    for i in range(len(word)//2):\n",
    "        if word[i] != word[-i - 1]:\n",
    "            return False\n",
    "    return True"
   ]
  },
  {
   "cell_type": "code",
   "execution_count": 98,
   "metadata": {
    "collapsed": true
   },
   "outputs": [],
   "source": [
    "def is_palindrome(word):\n",
    "    return not any(word[i] != word[-i - 1] for i in range(len(word)//2))"
   ]
  },
  {
   "cell_type": "code",
   "execution_count": 102,
   "metadata": {},
   "outputs": [
    {
     "name": "stdout",
     "output_type": "stream",
     "text": [
      "1 s ± 16.7 ms per loop (mean ± std. dev. of 7 runs, 1 loop each)\n"
     ]
    }
   ],
   "source": [
    "%timeit is_palindrome(long_str)"
   ]
  },
  {
   "cell_type": "code",
   "execution_count": 64,
   "metadata": {},
   "outputs": [
    {
     "name": "stdout",
     "output_type": "stream",
     "text": [
      "okay for radar\n",
      "okay for boxer\n",
      "okay for \n",
      "okay for a\n",
      "okay for QQ\n",
      "okay for acracadacarca\n",
      "okay for abccba\n",
      "okay for abcdba\n"
     ]
    }
   ],
   "source": [
    "words = ['radar', 'boxer', '', 'a', 'QQ', 'acracadacarca',\n",
    "         'abccba', 'abcdba']\n",
    "expected_results = [True, False, True, True, True, True,\n",
    "                    True, False]\n",
    "for word, expected_result in zip(words, expected_results):\n",
    "    if is_palindrome(word) == expected_result:\n",
    "        print('okay for', word)\n",
    "    else:\n",
    "        print('not okay for', word)"
   ]
  },
  {
   "cell_type": "markdown",
   "metadata": {},
   "source": [
    "## Number of illegals"
   ]
  },
  {
   "cell_type": "markdown",
   "metadata": {},
   "source": [
    "Define a function that given a string, counts the number of charactes that do not represent nucleotides in DNA.\n",
    "\n",
    "If you get it right, the last cell will print 'okay' for all test cases."
   ]
  },
  {
   "cell_type": "code",
   "execution_count": 112,
   "metadata": {
    "collapsed": true
   },
   "outputs": [],
   "source": [
    "def count_illegal_chars(dna):\n",
    "    count = 0\n",
    "    for nucl in dna.upper():\n",
    "        if nucl not in 'ACGT':\n",
    "            count += 1\n",
    "    return count"
   ]
  },
  {
   "cell_type": "code",
   "execution_count": 114,
   "metadata": {},
   "outputs": [
    {
     "name": "stdout",
     "output_type": "stream",
     "text": [
      "okay for ACGTTAGC\n",
      "okay for ACewla\n",
      "okay for acccgv\n",
      "okay for \n"
     ]
    }
   ],
   "source": [
    "dnas = ['ACGTTAGC', 'ACewla', 'acccgv', '']\n",
    "expected_illegals_counts = [0, 3, 1, 0]\n",
    "for dna, expected_illegals_count in zip(dnas, expected_illegals_counts):\n",
    "    if count_illegal_chars(dna) == expected_illegals_count:\n",
    "        print('okay for', dna)\n",
    "    else:\n",
    "        print('not okay for', dna)"
   ]
  },
  {
   "cell_type": "markdown",
   "metadata": {},
   "source": [
    "## Make legal"
   ]
  },
  {
   "cell_type": "markdown",
   "metadata": {},
   "source": [
    "Define a function that given a string that represents DNA, creates a new string that only contains the character 'A', 'C', 'G', 'T'.  If the original string contains lower case letters 'a', 'c', 'g', 't', replace those with upper case.  All other characters are left out.\n",
    "\n",
    "If you get it right, the script will print 'okay' for all test cases."
   ]
  },
  {
   "cell_type": "code",
   "execution_count": 109,
   "metadata": {
    "collapsed": true
   },
   "outputs": [],
   "source": [
    "def make_legal(dna):\n",
    "    s = ''\n",
    "    for nucl in dna.upper():\n",
    "        if nucl in 'ACGT':\n",
    "            s += nucl\n",
    "    return s"
   ]
  },
  {
   "cell_type": "code",
   "execution_count": 110,
   "metadata": {},
   "outputs": [
    {
     "name": "stdout",
     "output_type": "stream",
     "text": [
      "okay for 'ACGTTAGC'\n",
      "okay for 'ACewla'\n",
      "okay for 'acccgv'\n",
      "okay for ''\n",
      "okay for 'fkjrk'\n"
     ]
    }
   ],
   "source": [
    "dnas = ['ACGTTAGC', 'ACewla', 'acccgv', '', 'fkjrk']\n",
    "expected_legals = ['ACGTTAGC', 'ACA', 'ACCCG', '', '']\n",
    "for dna, expected_legal in zip(dnas, expected_legals):\n",
    "    if make_legal(dna) == expected_legal:\n",
    "        print(\"okay for '{0}'\".format(dna))\n",
    "    else:\n",
    "        print(\"not okay for '{0}'\".format(dna))"
   ]
  },
  {
   "cell_type": "markdown",
   "metadata": {},
   "source": [
    "## Is complement?"
   ]
  },
  {
   "cell_type": "markdown",
   "metadata": {},
   "source": [
    "Define a function that, given two DNA sequences returns True if the first sequence is the complement of the second, False otherwise.  You can assume that the DNA strings only contain A, C, G, and T.\n",
    "\n",
    "Hint: define a function that returns the complement of a given nucleotide."
   ]
  },
  {
   "cell_type": "code",
   "execution_count": 117,
   "metadata": {
    "collapsed": true
   },
   "outputs": [],
   "source": [
    "def compute_complement(dna):\n",
    "    compl = ''\n",
    "    for nucl in dna.upper():\n",
    "        if nucl == 'A':\n",
    "            compl += 'T'\n",
    "        elif nucl == 'C':\n",
    "            compl += 'G'\n",
    "        elif nucl == 'G':\n",
    "            compl += 'C'\n",
    "        elif nucl == 'T':\n",
    "            compl += 'A'\n",
    "        else:\n",
    "            print(f'### error: {nucl} is not a nucleotide')\n",
    "            return None\n",
    "    return compl"
   ]
  },
  {
   "cell_type": "code",
   "execution_count": 118,
   "metadata": {},
   "outputs": [
    {
     "data": {
      "text/plain": [
       "'TGGCA'"
      ]
     },
     "execution_count": 118,
     "metadata": {},
     "output_type": "execute_result"
    }
   ],
   "source": [
    "compute_complement('ACCGT')"
   ]
  },
  {
   "cell_type": "code",
   "execution_count": 122,
   "metadata": {
    "collapsed": true
   },
   "outputs": [],
   "source": [
    "def is_complement(dna1, dna2):\n",
    "    return compute_complement(dna1) == dna2"
   ]
  },
  {
   "cell_type": "code",
   "execution_count": 130,
   "metadata": {
    "collapsed": true
   },
   "outputs": [],
   "source": [
    "from Bio.Seq import Seq\n",
    "from Bio.Alphabet import generic_dna"
   ]
  },
  {
   "cell_type": "code",
   "execution_count": 135,
   "metadata": {
    "collapsed": true
   },
   "outputs": [],
   "source": [
    "def is_complement(dna1, dna2):\n",
    "    seq1 = Seq(dna1, alphabet=generic_dna)\n",
    "    seq2 = Seq(dna2, alphabet=generic_dna)\n",
    "    return seq1 == seq2.complement()"
   ]
  },
  {
   "cell_type": "code",
   "execution_count": 136,
   "metadata": {},
   "outputs": [
    {
     "name": "stdout",
     "output_type": "stream",
     "text": [
      "okay for ('ACCGT', 'TGGCA')\n",
      "okay for ('GA', 'CT')\n",
      "okay for ('ACG', 'CGC')\n",
      "okay for ('', '')\n"
     ]
    }
   ],
   "source": [
    "dna_tuples = [('ACCGT', 'TGGCA'), ('GA', 'CT'), ('ACG', 'CGC'),\n",
    "              ('', '')]\n",
    "expected_results = [True, True, False, True]\n",
    "for dna_tuple, expected_result in zip(dna_tuples, expected_results):\n",
    "    if is_complement(dna_tuple[0], dna_tuple[1]) == expected_result:\n",
    "        print('okay for', dna_tuple)\n",
    "    else:\n",
    "        print('not okay for', dna_tuple)"
   ]
  },
  {
   "cell_type": "markdown",
   "metadata": {},
   "source": [
    "## Find longest"
   ]
  },
  {
   "cell_type": "markdown",
   "metadata": {},
   "source": [
    "Define a function that given a string that represents DNA, finds the longest sequence of identical nucleotides, e.g.,\n",
    "\n",
    "`AACCCGACGGT -> CCC`\n",
    "\n",
    "`AAACCAAAA -> AAAA`\n",
    "\n",
    "If there are multiple subsequences of the same length, return the first, e.g.,\n",
    "\n",
    "`ACCCGTTTA -> CCC`"
   ]
  },
  {
   "cell_type": "code",
   "execution_count": 139,
   "metadata": {
    "collapsed": true
   },
   "outputs": [],
   "source": [
    "def longest_identical(dna):\n",
    "    longest = ''\n",
    "    curr_nucl = None\n",
    "    curr_longest = ''\n",
    "    for nucl in dna:\n",
    "        if nucl == curr_nucl:\n",
    "            curr_longest += nucl\n",
    "        else:\n",
    "            if len(curr_longest) > len(longest):\n",
    "                longest = curr_longest\n",
    "            curr_longest = nucl\n",
    "            curr_nucl = nucl\n",
    "    if len(curr_longest) > len(longest):\n",
    "        return curr_longest\n",
    "    else:\n",
    "        return longest"
   ]
  },
  {
   "cell_type": "code",
   "execution_count": 140,
   "metadata": {},
   "outputs": [
    {
     "name": "stdout",
     "output_type": "stream",
     "text": [
      "okay for 'AACCCGACCGGT'\n",
      "okay for 'AAACGAAAAT'\n",
      "okay for 'CAAGTTG'\n",
      "okay for 'CAGT'\n",
      "okay for ''\n",
      "okay for 'CAAGAAA'\n",
      "okay for 'CCAAAGGTTTG'\n"
     ]
    }
   ],
   "source": [
    "dnas = ['AACCCGACCGGT', 'AAACGAAAAT', 'CAAGTTG', 'CAGT', '',\n",
    "        'CAAGAAA', 'CCAAAGGTTTG']\n",
    "expected_subseqs = ['CCC', 'AAAA', 'AA', 'C', '', 'AAA', 'AAA']\n",
    "for dna, expected_subseq in zip(dnas, expected_subseqs):\n",
    "    if longest_identical(dna) == expected_subseq:\n",
    "        print(\"okay for '{0}'\".format(dna))\n",
    "    else:\n",
    "        print(\"not okay for '{0}'\".format(dna))"
   ]
  },
  {
   "cell_type": "markdown",
   "metadata": {},
   "source": [
    "## Scramble"
   ]
  },
  {
   "cell_type": "markdown",
   "metadata": {},
   "source": [
    "Define a function that given a string representing a text consisting of sentences in a natural language, at random switches two consecutive characters in words.  Add an optional argument for the probability to exchange character in a word, defaults to 20 %. You can assume that the text contains only words and whitespace, no other characters.\n",
    "\n",
    "E.g.,  'This is an example' -> 'hTis is an exapmle'\n",
    "\n",
    "Hint: look at the documentation of the functions `random` and `randint` in the standard library module `random`."
   ]
  },
  {
   "cell_type": "code",
   "execution_count": 1,
   "metadata": {
    "collapsed": true
   },
   "outputs": [],
   "source": [
    "import random"
   ]
  },
  {
   "cell_type": "code",
   "execution_count": 7,
   "metadata": {
    "collapsed": true
   },
   "outputs": [],
   "source": [
    "def scramble_word(word, prob):\n",
    "    if random.random() < prob:\n",
    "        pos = random.randint(0, len(word) - 2)\n",
    "        new_word = ''\n",
    "        for i, letter in enumerate(word):\n",
    "            if i == pos:\n",
    "                new_word += word[i + 1]\n",
    "            elif i - 1 == pos:\n",
    "                new_word += word[i - 1]\n",
    "            else:\n",
    "                new_word += letter\n",
    "        return new_word\n",
    "    else:\n",
    "        return word"
   ]
  },
  {
   "cell_type": "code",
   "execution_count": 33,
   "metadata": {
    "collapsed": true
   },
   "outputs": [],
   "source": [
    "def scramble_word(word, prob):\n",
    "    if random.random() < prob and len(word) > 1:\n",
    "        pos = random.randint(0, len(word) - 2)\n",
    "        return word[:pos] + word[pos + 1] + word[pos] + word[pos + 2:]\n",
    "    else:\n",
    "        return word"
   ]
  },
  {
   "cell_type": "code",
   "execution_count": 34,
   "metadata": {},
   "outputs": [
    {
     "data": {
      "text/plain": [
       "'bacde'"
      ]
     },
     "execution_count": 34,
     "metadata": {},
     "output_type": "execute_result"
    }
   ],
   "source": [
    "scramble_word('abcde', 1.0)"
   ]
  },
  {
   "cell_type": "code",
   "execution_count": 35,
   "metadata": {},
   "outputs": [
    {
     "data": {
      "text/plain": [
       "'a'"
      ]
     },
     "execution_count": 35,
     "metadata": {},
     "output_type": "execute_result"
    }
   ],
   "source": [
    "scramble_word('a', 1.0)"
   ]
  },
  {
   "cell_type": "code",
   "execution_count": 36,
   "metadata": {
    "collapsed": true
   },
   "outputs": [],
   "source": [
    "def scramble(sentence, prob=0.2):\n",
    "    new_words = []\n",
    "    for word in sentence.split():\n",
    "        new_words.append(scramble_word(word, prob))\n",
    "    return ' '.join(new_words)"
   ]
  },
  {
   "cell_type": "code",
   "execution_count": 40,
   "metadata": {},
   "outputs": [
    {
     "name": "stdout",
     "output_type": "stream",
     "text": [
      "probability = 0.0%, 0.0% words changed:\n",
      "This is an example I think with a very long sentence that seems to keep going for ever since we need quite some words\n",
      "probability = 20.0%, 27.3% words changed:\n",
      "Thsi is an example I htink with a very long esntence that seems to keep going for ever sicne ew need quite some worsd\n",
      "probability = 50.0%, 59.1% words changed:\n",
      "This is an example I think wiht a vrey logn esntence thta seesm to keep going for eevr isnce ew nede uqite smoe worsd\n",
      "probability = 100.0%, 90.9% words changed:\n",
      "hTis si na eaxmple I htink iwth a evry olng sentenec thta semes ot keep oging ofr eevr isnce ew need qutie soem wodrs\n"
     ]
    }
   ],
   "source": [
    "def count_changes(orig_sentences, new_sentence):\n",
    "    count = 0\n",
    "    for orig_word, new_word in zip(orig_sentences.split(),\n",
    "                                   new_sentence.split()):\n",
    "        if orig_word != new_word:\n",
    "            count += 1\n",
    "    return count\n",
    "\n",
    "sentence = ('This is an example I think with a very long '\n",
    "            'sentence that seems to keep going for ever since '\n",
    "            'we need quite some words')\n",
    "nr_words = len([1 for word in sentence.split() if len(word) > 1])\n",
    "for prob in [0.0, 0.2, 0.5, 1.0]:\n",
    "    new_sentence = scramble(sentence, prob)\n",
    "    msg = 'probability = {0:.1%}, {1:.1%} words changed:'\n",
    "    nr_words_changed =  count_changes(sentence, new_sentence)\n",
    "    print(msg.format(prob, nr_words_changed/nr_words))\n",
    "    print(new_sentence)"
   ]
  }
 ],
 "metadata": {
  "kernelspec": {
   "display_name": "Python 3",
   "language": "python",
   "name": "python3"
  },
  "language_info": {
   "codemirror_mode": {
    "name": "ipython",
    "version": 3
   },
   "file_extension": ".py",
   "mimetype": "text/x-python",
   "name": "python",
   "nbconvert_exporter": "python",
   "pygments_lexer": "ipython3",
   "version": "3.6.2"
  }
 },
 "nbformat": 4,
 "nbformat_minor": 2
}
