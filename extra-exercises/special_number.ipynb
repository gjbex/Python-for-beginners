{
 "cells": [
  {
   "cell_type": "markdown",
   "metadata": {},
   "source": [
    "# Problem setting"
   ]
  },
  {
   "cell_type": "markdown",
   "metadata": {},
   "source": [
    "A number consists of 10 digits, `a`, `b`, `c`, ..., `h`, `i`, `j` that are distinct, so we know they take a value from the set ${0, 1, 2, ..., 9}$.  The digits are subject to the following conditions:\n",
    "\n",
    "1. `a` is divisible by 1,\n",
    "2. `ab` is divisible by 2,\n",
    "3. `abc` is divisible by 3,\n",
    "4. `abcd` is divisible by 4,\n",
    "5. `abcde` is divisible by  5,\n",
    "6. `abcdef` is divisible by 6,\n",
    "7. `abcdefg` is divisible by 7,\n",
    "8. `abcdefgh` is divisible by 8,\n",
    "9. `abcdefghi` is divisible by 9, and\n",
    "10. `abcdefhij` is divisible by 10."
   ]
  },
  {
   "cell_type": "markdown",
   "metadata": {},
   "source": [
    "# Solutions"
   ]
  },
  {
   "cell_type": "markdown",
   "metadata": {},
   "source": [
    "It is clear from condition 10 that the least significant digit `j` has to be equal to 10.  This implies that all other digits take values in the set ${1, 2, ..., 8, 9}$.\n",
    "\n",
    "Additionally, any number is divisible by 1, so condition 1 can be ignored."
   ]
  },
  {
   "cell_type": "markdown",
   "metadata": {},
   "source": [
    "## Solution 1"
   ]
  },
  {
   "cell_type": "code",
   "execution_count": 14,
   "metadata": {},
   "outputs": [],
   "source": [
    "def has_duplicates(digits):\n",
    "    return len(set(digits)) != len(digits)"
   ]
  },
  {
   "cell_type": "code",
   "execution_count": 15,
   "metadata": {},
   "outputs": [],
   "source": [
    "def check_solution(a, b, c, d, e, f, g, h, i):\n",
    "    digits = [b, c, d, e, f, g, h, i]\n",
    "    if has_duplicates([a] + digits):\n",
    "        return None\n",
    "    number = a\n",
    "    for index, digit in enumerate(digits):\n",
    "        number = 10*number + digit\n",
    "        if number % (index + 2) != 0:\n",
    "            return None\n",
    "    return number"
   ]
  },
  {
   "cell_type": "markdown",
   "metadata": {},
   "source": [
    "The total number of iterations will be $9^9$, or 387420489, to monitor progress, a mesage is printed very 10 million iteratoins."
   ]
  },
  {
   "cell_type": "code",
   "execution_count": 3,
   "metadata": {},
   "outputs": [
    {
     "name": "stdout",
     "output_type": "stream",
     "text": [
      "10000000 checked\n",
      "20000000 checked\n",
      "30000000 checked\n",
      "40000000 checked\n",
      "50000000 checked\n",
      "60000000 checked\n",
      "70000000 checked\n",
      "80000000 checked\n",
      "90000000 checked\n",
      "100000000 checked\n",
      "110000000 checked\n",
      "120000000 checked\n",
      "130000000 checked\n",
      "140000000 checked\n",
      "150000000 checked\n",
      "160000000 checked\n",
      "170000000 checked\n",
      "180000000 checked\n",
      "190000000 checked\n",
      "200000000 checked\n",
      "210000000 checked\n",
      "220000000 checked\n",
      "230000000 checked\n",
      "240000000 checked\n",
      "250000000 checked\n",
      "260000000 checked\n",
      "270000000 checked\n",
      "280000000 checked\n",
      "290000000 checked\n",
      "300000000 checked\n",
      "310000000 checked\n",
      "320000000 checked\n",
      "330000000 checked\n",
      "340000000 checked\n",
      "350000000 checked\n",
      "360000000 checked\n",
      "370000000 checked\n",
      "380000000 checked\n",
      "CPU times: user 10min 28s, sys: 2.04 s, total: 10min 30s\n",
      "Wall time: 10min 42s\n"
     ]
    }
   ],
   "source": [
    "%%time\n",
    "count = 0\n",
    "solutions = list()\n",
    "for a in range(1, 10):\n",
    "    for b in range (1, 10):\n",
    "        for c in range (1, 10):\n",
    "            for d in range(1, 10):\n",
    "                for e in range(1, 10):\n",
    "                    for f in range(1, 10):\n",
    "                        for g in range(1, 10):\n",
    "                            for h in range(1, 10):\n",
    "                                for i in range(1, 10):\n",
    "                                    count += 1\n",
    "                                    if count % 10_000_000 == 0:\n",
    "                                        print(f'{count} checked')\n",
    "                                    number = check_solution(a, b, c, d, e, f, g, h, i)\n",
    "                                    if number is not None:\n",
    "                                        solutions.append(10*number)"
   ]
  },
  {
   "cell_type": "markdown",
   "metadata": {},
   "source": [
    "There is just a single solution found."
   ]
  },
  {
   "cell_type": "code",
   "execution_count": 4,
   "metadata": {},
   "outputs": [
    {
     "data": {
      "text/plain": [
       "1"
      ]
     },
     "execution_count": 4,
     "metadata": {},
     "output_type": "execute_result"
    }
   ],
   "source": [
    "len(solutions)"
   ]
  },
  {
   "cell_type": "code",
   "execution_count": 5,
   "metadata": {},
   "outputs": [
    {
     "data": {
      "text/plain": [
       "3816547290"
      ]
     },
     "execution_count": 5,
     "metadata": {},
     "output_type": "execute_result"
    }
   ],
   "source": [
    "solutions[0]"
   ]
  },
  {
   "cell_type": "markdown",
   "metadata": {},
   "source": [
    "Some optimizations are possible.\n",
    "* Condition 9 is trivially fulfilled, since the sum of the digits from 1 to 9 is 45, which is divisible by 9.\n",
    "* Since `abcde` has to be divisible by 5, this implies that `e` can only be 5.\n",
    "* Since `ab` has to be divisible by 2, `b` can only be 2, 4, 6 or 8.\n",
    "\n",
    "However, the main optimization is elsewhere."
   ]
  },
  {
   "cell_type": "markdown",
   "metadata": {},
   "source": [
    "## Solution 2"
   ]
  },
  {
   "cell_type": "markdown",
   "metadata": {},
   "source": [
    "The code is really ugly, using 9 nested for-loops.  If we find ourselves writing code like this, it is quite likely that there is a better solution.  The `itertools` module in the Python standard library contains a function `product` that is quite useful in this respect."
   ]
  },
  {
   "cell_type": "code",
   "execution_count": 16,
   "metadata": {},
   "outputs": [],
   "source": [
    "from itertools import product"
   ]
  },
  {
   "cell_type": "code",
   "execution_count": 19,
   "metadata": {},
   "outputs": [
    {
     "name": "stdout",
     "output_type": "stream",
     "text": [
      "10000000 checked\n",
      "20000000 checked\n",
      "30000000 checked\n",
      "40000000 checked\n",
      "50000000 checked\n",
      "60000000 checked\n",
      "70000000 checked\n",
      "80000000 checked\n",
      "90000000 checked\n",
      "100000000 checked\n",
      "110000000 checked\n",
      "120000000 checked\n",
      "130000000 checked\n",
      "140000000 checked\n",
      "150000000 checked\n",
      "160000000 checked\n",
      "170000000 checked\n",
      "180000000 checked\n",
      "190000000 checked\n",
      "200000000 checked\n",
      "210000000 checked\n",
      "220000000 checked\n",
      "230000000 checked\n",
      "240000000 checked\n",
      "250000000 checked\n",
      "260000000 checked\n",
      "270000000 checked\n",
      "280000000 checked\n",
      "290000000 checked\n",
      "300000000 checked\n",
      "310000000 checked\n",
      "320000000 checked\n",
      "330000000 checked\n",
      "340000000 checked\n",
      "350000000 checked\n",
      "360000000 checked\n",
      "370000000 checked\n",
      "380000000 checked\n",
      "CPU times: user 13min 24s, sys: 7.45 s, total: 13min 32s\n",
      "Wall time: 14min 9s\n"
     ]
    }
   ],
   "source": [
    "%%time\n",
    "count = 0\n",
    "solutions = list()\n",
    "for digits in product(list(range(1, 10)), repeat=9):\n",
    "    count += 1\n",
    "    if count % 10_000_000 == 0:\n",
    "        print(f'{count} checked')\n",
    "    solution = check_solution(*digits)\n",
    "    if solution is not None:\n",
    "        solutions.append(10*solution)"
   ]
  },
  {
   "cell_type": "code",
   "execution_count": 20,
   "metadata": {},
   "outputs": [
    {
     "data": {
      "text/plain": [
       "1"
      ]
     },
     "execution_count": 20,
     "metadata": {},
     "output_type": "execute_result"
    }
   ],
   "source": [
    "len(solutions)"
   ]
  },
  {
   "cell_type": "code",
   "execution_count": 21,
   "metadata": {},
   "outputs": [
    {
     "data": {
      "text/plain": [
       "3816547290"
      ]
     },
     "execution_count": 21,
     "metadata": {},
     "output_type": "execute_result"
    }
   ],
   "source": [
    "solutions[0]"
   ]
  },
  {
   "cell_type": "markdown",
   "metadata": {},
   "source": [
    "## Solution 3"
   ]
  },
  {
   "cell_type": "markdown",
   "metadata": {},
   "source": [
    "The base line solution checks all combinations of digits, but we only need combinations that have only distinct digits.  Hence all valid combinations are permutations of `[1, 2, ..., 8, 9]`.  The number of iterations for this approach is $9!$ or"
   ]
  },
  {
   "cell_type": "code",
   "execution_count": 6,
   "metadata": {},
   "outputs": [],
   "source": [
    "import math"
   ]
  },
  {
   "cell_type": "code",
   "execution_count": 7,
   "metadata": {},
   "outputs": [
    {
     "data": {
      "text/plain": [
       "362880"
      ]
     },
     "execution_count": 7,
     "metadata": {},
     "output_type": "execute_result"
    }
   ],
   "source": [
    "math.factorial(9)"
   ]
  },
  {
   "cell_type": "code",
   "execution_count": 8,
   "metadata": {},
   "outputs": [],
   "source": [
    "from itertools import permutations"
   ]
  },
  {
   "cell_type": "code",
   "execution_count": 9,
   "metadata": {},
   "outputs": [],
   "source": [
    "def check_solution2(digits):\n",
    "    number = digits[0]\n",
    "    for index, digit in enumerate(digits[1:]):\n",
    "        number = 10*number + digit\n",
    "        if number % (index + 2) != 0:\n",
    "            return None\n",
    "    return number"
   ]
  },
  {
   "cell_type": "code",
   "execution_count": 10,
   "metadata": {},
   "outputs": [
    {
     "name": "stdout",
     "output_type": "stream",
     "text": [
      "CPU times: user 408 ms, sys: 6.57 ms, total: 415 ms\n",
      "Wall time: 480 ms\n"
     ]
    }
   ],
   "source": [
    "%%time\n",
    "solutions = list()\n",
    "for digits in permutations(range(1, 10)):\n",
    "    solution = check_solution2(digits)\n",
    "    if solution is not None:\n",
    "        solutions.append(10*solution)"
   ]
  },
  {
   "cell_type": "code",
   "execution_count": 11,
   "metadata": {},
   "outputs": [
    {
     "data": {
      "text/plain": [
       "1"
      ]
     },
     "execution_count": 11,
     "metadata": {},
     "output_type": "execute_result"
    }
   ],
   "source": [
    "len(solutions)"
   ]
  },
  {
   "cell_type": "code",
   "execution_count": 12,
   "metadata": {},
   "outputs": [
    {
     "data": {
      "text/plain": [
       "3816547290"
      ]
     },
     "execution_count": 12,
     "metadata": {},
     "output_type": "execute_result"
    }
   ],
   "source": [
    "solutions[0]"
   ]
  }
 ],
 "metadata": {
  "kernelspec": {
   "display_name": "Python 3",
   "language": "python",
   "name": "python3"
  },
  "language_info": {
   "codemirror_mode": {
    "name": "ipython",
    "version": 3
   },
   "file_extension": ".py",
   "mimetype": "text/x-python",
   "name": "python",
   "nbconvert_exporter": "python",
   "pygments_lexer": "ipython3",
   "version": "3.8.5"
  }
 },
 "nbformat": 4,
 "nbformat_minor": 4
}
