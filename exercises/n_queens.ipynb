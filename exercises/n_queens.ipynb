{
 "cells": [
  {
   "cell_type": "markdown",
   "metadata": {},
   "source": [
    "# $N$ queens"
   ]
  },
  {
   "cell_type": "markdown",
   "metadata": {},
   "source": [
    "Load relevant modules."
   ]
  },
  {
   "cell_type": "code",
   "execution_count": 87,
   "metadata": {
    "ExecuteTime": {
     "end_time": "2018-12-20T14:27:14.249541Z",
     "start_time": "2018-12-20T14:27:14.231644Z"
    }
   },
   "outputs": [],
   "source": [
    "import matplotlib.pyplot as plt\n",
    "%matplotlib inline\n",
    "import numpy as np\n",
    "import sys"
   ]
  },
  {
   "cell_type": "markdown",
   "metadata": {},
   "source": [
    "Consider an $N \\times N$ chess board.  We want to place $N$ queens on that board such that none of them can take any of the other $N - 1$."
   ]
  },
  {
   "cell_type": "markdown",
   "metadata": {},
   "source": [
    "Define a function that creates a new, empty board and ditto position list.  Free positions on the board are encoded as `True`, positions that are taken by queens, or that a queen on the board can reach are encoded by `False`."
   ]
  },
  {
   "cell_type": "code",
   "execution_count": 66,
   "metadata": {
    "ExecuteTime": {
     "end_time": "2018-12-20T14:17:52.079815Z",
     "start_time": "2018-12-20T14:17:52.069579Z"
    }
   },
   "outputs": [],
   "source": [
    "def create_board(N):\n",
    "    return np.ones((N, N), dtype=np.int)"
   ]
  },
  {
   "cell_type": "markdown",
   "metadata": {},
   "source": [
    "Find the first free board position."
   ]
  },
  {
   "cell_type": "code",
   "execution_count": 67,
   "metadata": {
    "ExecuteTime": {
     "end_time": "2018-12-20T14:18:13.626529Z",
     "start_time": "2018-12-20T14:18:13.613714Z"
    }
   },
   "outputs": [],
   "source": [
    "def first_free(board):\n",
    "    N, _ = board.shape\n",
    "    for row in range(N):\n",
    "        for col in range(N):\n",
    "            if board[row, col] == 1:\n",
    "                return row, col\n",
    "    return None"
   ]
  },
  {
   "cell_type": "markdown",
   "metadata": {},
   "source": [
    "Place a queen on the board, marking all positions that she can reach as no longer free.  These positions are the row, the column, and both diagonals the new queen is on."
   ]
  },
  {
   "cell_type": "code",
   "execution_count": 68,
   "metadata": {
    "ExecuteTime": {
     "end_time": "2018-12-20T14:18:15.759890Z",
     "start_time": "2018-12-20T14:18:15.731734Z"
    }
   },
   "outputs": [],
   "source": [
    "def place_queen(board, queens, row, col):\n",
    "    N, _ = board.shape\n",
    "    # mark column as taken\n",
    "    board[:, col] = 0\n",
    "    # mark row as taken\n",
    "    board[row, :] = 0\n",
    "    # mark principal diagonal as taken\n",
    "    for i, j in zip(range(max((0, row - col)), min((N + row - col, N))),\n",
    "                    range(max((0, col - row)), min((N + col - row, N)))):\n",
    "        board[i, j] = 0\n",
    "    # mark minor diagonal as taken\n",
    "    for i, j in zip(range(min((row + col, N - 1)), max((-1, col + row - N - 1)), -1),\n",
    "                    range(max((0, col + row - N + 1)), min((row + col + 1, N)))):\n",
    "        board[i, j] = 0\n",
    "    queens.append((row, col))"
   ]
  },
  {
   "cell_type": "markdown",
   "metadata": {},
   "source": [
    "When placing quees, sometimes wrong choices are made so that no valid positions remain for the last few queens.  In that case, one has to remove previously placed queens, and try the next free position for them.  This process is called backtracking, and to do such a computation, one needs to keep track of the state of the board before each placement of a queen in order to be able to get back to that state, marking a \"wrong choice\" and proceeding."
   ]
  },
  {
   "cell_type": "markdown",
   "metadata": {},
   "source": [
    "Define a function that, given the states of the board until now, and the positions of the queens, discards the last board (that has no free positions that lead to success), removes the queen added most recently from the list of queen positions, and marks the position it took as taken."
   ]
  },
  {
   "cell_type": "code",
   "execution_count": 70,
   "metadata": {
    "ExecuteTime": {
     "end_time": "2018-12-20T14:18:40.465776Z",
     "start_time": "2018-12-20T14:18:40.433135Z"
    }
   },
   "outputs": [],
   "source": [
    "class NoSolutionError(Exception):\n",
    "    pass"
   ]
  },
  {
   "cell_type": "code",
   "execution_count": 71,
   "metadata": {
    "ExecuteTime": {
     "end_time": "2018-12-20T14:18:41.936061Z",
     "start_time": "2018-12-20T14:18:41.921402Z"
    }
   },
   "outputs": [],
   "source": [
    "def backtrack(boards, queens):\n",
    "    if boards:\n",
    "        boards.pop()\n",
    "    else:\n",
    "        raise NoSolutionError('no solution')\n",
    "    if queens:\n",
    "        row, col = queens.pop()\n",
    "    else:\n",
    "        raise NoSolutionError('no solution')\n",
    "    if boards:\n",
    "        boards[-1][row, col] = 0\n",
    "    else:\n",
    "        raise NoSolutionError('no solution')"
   ]
  },
  {
   "cell_type": "markdown",
   "metadata": {},
   "source": [
    "Define a function to place all queens, backtracking as necessary."
   ]
  },
  {
   "cell_type": "code",
   "execution_count": 82,
   "metadata": {
    "ExecuteTime": {
     "end_time": "2018-12-20T14:26:28.452580Z",
     "start_time": "2018-12-20T14:26:28.414581Z"
    }
   },
   "outputs": [],
   "source": [
    "def place_queens(N, is_verbose=True):\n",
    "    boards = [create_board(N)]\n",
    "    queens = list()\n",
    "    while len(queens) < N:\n",
    "        pos = first_free(boards[-1])\n",
    "        if pos is not None:\n",
    "            new_board = boards[-1].copy()\n",
    "            place_queen(new_board, queens, pos[0], pos[1])\n",
    "            boards.append(new_board)\n",
    "        else:\n",
    "            try:\n",
    "                backtrack(boards, queens)\n",
    "            except NoSolutionError:\n",
    "                if is_verbose:\n",
    "                    print('no solution', file=sys.stderr)\n",
    "                return None\n",
    "    return queens"
   ]
  },
  {
   "cell_type": "markdown",
   "metadata": {},
   "source": [
    "Find a solution for an $8 \\times 8$ board."
   ]
  },
  {
   "cell_type": "code",
   "execution_count": 83,
   "metadata": {
    "ExecuteTime": {
     "end_time": "2018-12-20T14:26:38.706316Z",
     "start_time": "2018-12-20T14:26:38.393422Z"
    }
   },
   "outputs": [],
   "source": [
    "queens = place_queens(8)"
   ]
  },
  {
   "cell_type": "markdown",
   "metadata": {},
   "source": [
    "Define a function to visualize the board."
   ]
  },
  {
   "cell_type": "code",
   "execution_count": 84,
   "metadata": {
    "ExecuteTime": {
     "end_time": "2018-12-20T14:26:42.204959Z",
     "start_time": "2018-12-20T14:26:42.161367Z"
    }
   },
   "outputs": [],
   "source": [
    "def vis_board(queens):\n",
    "    N = len(queens)\n",
    "    board = np.zeros((N, N), dtype=np.int)\n",
    "    for row, col in queens:\n",
    "        board[row, col] = 1\n",
    "    plt.imshow(board, aspect='equal', interpolation='none', extent=(0, N, 0, N))\n",
    "    plt.xticks(range(N))\n",
    "    plt.yticks(range(N))\n",
    "    plt.grid(True, color='r', linestyle='-', linewidth=1);"
   ]
  },
  {
   "cell_type": "code",
   "execution_count": 85,
   "metadata": {
    "ExecuteTime": {
     "end_time": "2018-12-20T14:26:43.248453Z",
     "start_time": "2018-12-20T14:26:42.923839Z"
    }
   },
   "outputs": [
    {
     "data": {
      "image/png": "[encoded data removed]",
      "text/plain": [
       "<Figure size 432x288 with 1 Axes>"
      ]
     },
     "metadata": {
      "needs_background": "light"
     },
     "output_type": "display_data"
    }
   ],
   "source": [
    "vis_board(queens)"
   ]
  },
  {
   "cell_type": "markdown",
   "metadata": {},
   "source": [
    "For a $3 \\times 3$ board, no solution can be found."
   ]
  },
  {
   "cell_type": "code",
   "execution_count": 88,
   "metadata": {
    "ExecuteTime": {
     "end_time": "2018-12-20T14:27:24.902392Z",
     "start_time": "2018-12-20T14:27:24.867268Z"
    },
    "scrolled": true
   },
   "outputs": [
    {
     "name": "stderr",
     "output_type": "stream",
     "text": [
      "no solution\n"
     ]
    }
   ],
   "source": [
    "queens = place_queens(3)"
   ]
  }
 ],
 "metadata": {
  "kernelspec": {
   "display_name": "Python 3",
   "language": "python",
   "name": "python3"
  },
  "language_info": {
   "codemirror_mode": {
    "name": "ipython",
    "version": 3
   },
   "file_extension": ".py",
   "mimetype": "text/x-python",
   "name": "python",
   "nbconvert_exporter": "python",
   "pygments_lexer": "ipython3",
   "version": "3.7.2"
  }
 },
 "nbformat": 4,
 "nbformat_minor": 1
}
