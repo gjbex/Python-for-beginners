{
 "cells": [
  {
   "cell_type": "markdown",
   "metadata": {
    "slideshow": {
     "slide_type": "slide"
    }
   },
   "source": [
    "# Python for biologists, chapter 3"
   ]
  },
  {
   "cell_type": "markdown",
   "metadata": {},
   "source": [
    "Geert Jan Bex ([geertjan.bex@uhasselt.be](mailto:geertjan.bex@uhasselt.be))"
   ]
  },
  {
   "cell_type": "markdown",
   "metadata": {},
   "source": [
    "Exercises taken from 'Python for biologists', Martin Jones."
   ]
  },
  {
   "cell_type": "markdown",
   "metadata": {
    "slideshow": {
     "slide_type": "slide"
    }
   },
   "source": [
    "## Splitting genomic DNA"
   ]
  },
  {
   "cell_type": "markdown",
   "metadata": {},
   "source": [
    "The file `genomic_dna_3.txt` contains a DNA sequence that has two exons, separated by an intron.  The first exon starts at the beginning of the sequence, and ends at the 63rd character, the second exon starts at the 91st character, and runs up to the end of the sequence.  Read the file, and write the coding and non-coding regions to two files, `genomic_dna_3_coding.txt` and `genomic_dna_3_noncoding.txt` respectively."
   ]
  },
  {
   "cell_type": "code",
   "execution_count": 1,
   "metadata": {
    "collapsed": true
   },
   "outputs": [],
   "source": [
    "seq_filename = 'genomic_dna_3.txt'\n",
    "coding_seq_filename = 'genomic_dna_3_coding.txt'\n",
    "noncoding_seq_filename = 'genomic_dna_3_noncoding.txt'"
   ]
  },
  {
   "cell_type": "code",
   "execution_count": 4,
   "metadata": {
    "collapsed": false,
    "slideshow": {
     "slide_type": "subslide"
    }
   },
   "outputs": [],
   "source": [
    "with open(seq_filename, 'r') as seq_file:\n",
    "    dna = seq_file.read()\n",
    "exon1, intron, exon2 = dna[:63], dna[63:90], dna[90:]\n",
    "with open(coding_seq_filename, 'w') as seq_file:\n",
    "    seq_file.write(exon1 + exon2)\n",
    "with open(noncoding_seq_filename, 'w') as seq_file:\n",
    "    seq_file.write(intron)"
   ]
  },
  {
   "cell_type": "code",
   "execution_count": 6,
   "metadata": {
    "collapsed": false,
    "slideshow": {
     "slide_type": "fragment"
    }
   },
   "outputs": [
    {
     "name": "stdout",
     "output_type": "stream",
     "text": [
      "ATCGATCGATCGATCGACTGACTAGTCATAGCTATGCATGTAGCTACTCGATCGATCGATCGAATCATCGATCGATATCGATGCATCGACTACTAT\r\n"
     ]
    }
   ],
   "source": [
    "%cat genomic_dna_3_coding.txt"
   ]
  },
  {
   "cell_type": "code",
   "execution_count": 7,
   "metadata": {
    "collapsed": false
   },
   "outputs": [
    {
     "name": "stdout",
     "output_type": "stream",
     "text": [
      "TCGATCGATCGATCGATCGATCATGCT"
     ]
    }
   ],
   "source": [
    "%cat genomic_dna_3_noncoding.txt"
   ]
  },
  {
   "cell_type": "markdown",
   "metadata": {
    "slideshow": {
     "slide_type": "slide"
    }
   },
   "source": [
    "## Writing a FASTA file"
   ]
  },
  {
   "cell_type": "markdown",
   "metadata": {},
   "source": [
    "Write a file `sequences_3.fasta` in FASTA format for the following three sequences and their respective headers.  Sequences must consist only of the symbols A, C, G, and T."
   ]
  },
  {
   "cell_type": "code",
   "execution_count": 8,
   "metadata": {
    "collapsed": true
   },
   "outputs": [],
   "source": [
    "headers = ['ABC123', 'DEF456', 'HIJ789']\n",
    "seqs = ['ATCGTACGATCGATCGATCGCTAGACGTATCG', 'actgatcgacgatcgatcgatcacgact', 'ACTGAC-ACTGT--ACTGTA----CATGTG']\n",
    "fasta_filename = 'sequences_3.fasta'"
   ]
  },
  {
   "cell_type": "code",
   "execution_count": 9,
   "metadata": {
    "collapsed": false,
    "slideshow": {
     "slide_type": "subslide"
    }
   },
   "outputs": [],
   "source": [
    "with open(fasta_filename, 'w') as fasta_file:\n",
    "    for i in range(len(headers)):\n",
    "        seq = seqs[i].replace('-', '').upper()\n",
    "        fasta_file.write('>{0}\\n{1}\\n'.format(headers[i], seq))"
   ]
  },
  {
   "cell_type": "code",
   "execution_count": 10,
   "metadata": {
    "collapsed": false,
    "slideshow": {
     "slide_type": "fragment"
    }
   },
   "outputs": [
    {
     "name": "stdout",
     "output_type": "stream",
     "text": [
      ">ABC123\r\n",
      "ATCGTACGATCGATCGATCGCTAGACGTATCG\r\n",
      ">DEF456\r\n",
      "ACTGATCGACGATCGATCGATCACGACT\r\n",
      ">HIJ789\r\n",
      "ACTGACACTGTACTGTACATGTG\r\n"
     ]
    }
   ],
   "source": [
    "%cat sequences_3.fasta"
   ]
  },
  {
   "cell_type": "markdown",
   "metadata": {},
   "source": [
    "## Writing multiple FASTA files"
   ]
  },
  {
   "cell_type": "markdown",
   "metadata": {},
   "source": [
    "Using the data for the previous part, write three, rather than one file, i.e., a FASTA file per sequence. Use the sequence headers as the respective file names, adding the `.fasta` extension at the end."
   ]
  },
  {
   "cell_type": "code",
   "execution_count": 8,
   "metadata": {
    "collapsed": true
   },
   "outputs": [],
   "source": [
    "headers = ['ABC123', 'DEF456', 'HIJ789']\n",
    "seqs = ['ATCGTACGATCGATCGATCGCTAGACGTATCG', 'actgatcgacgatcgatcgatcacgact', 'ACTGAC-ACTGT--ACTGTA----CATGTG']"
   ]
  },
  {
   "cell_type": "code",
   "execution_count": 18,
   "metadata": {
    "collapsed": false,
    "slideshow": {
     "slide_type": "subslide"
    }
   },
   "outputs": [],
   "source": [
    "for i in range(len(headers)):\n",
    "    file_name = '{0}.fasta'.format(headers[i])\n",
    "    with open(file_name, 'w') as fasta_file:\n",
    "        seq = seqs[i].replace('-', '').upper()\n",
    "        fasta_file.write('>{0}\\n{1}\\n'.format(headers[i], seq))"
   ]
  },
  {
   "cell_type": "code",
   "execution_count": 19,
   "metadata": {
    "collapsed": false,
    "slideshow": {
     "slide_type": "fragment"
    }
   },
   "outputs": [
    {
     "name": "stdout",
     "output_type": "stream",
     "text": [
      ">ABC123\n",
      "ATCGTACGATCGATCGATCGCTAGACGTATCG\n",
      ">DEF456\n",
      "ACTGATCGACGATCGATCGATCACGACT\n",
      ">HIJ789\n",
      "ACTGACACTGTACTGTACATGTG\n"
     ]
    }
   ],
   "source": [
    "%cat ABC123.fasta\n",
    "%cat DEF456.fasta\n",
    "%cat HIJ789.fasta"
   ]
  }
 ],
 "metadata": {
  "celltoolbar": "Slideshow",
  "kernelspec": {
   "display_name": "Python [default]",
   "language": "python",
   "name": "python3"
  },
  "language_info": {
   "codemirror_mode": {
    "name": "ipython",
    "version": 3
   },
   "file_extension": ".py",
   "mimetype": "text/x-python",
   "name": "python",
   "nbconvert_exporter": "python",
   "pygments_lexer": "ipython3",
   "version": "3.5.2"
  }
 },
 "nbformat": 4,
 "nbformat_minor": 0
}
