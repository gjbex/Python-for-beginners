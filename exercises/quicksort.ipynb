{
 "cells": [
  {
   "cell_type": "markdown",
   "metadata": {},
   "source": [
    "# Quicksort"
   ]
  },
  {
   "cell_type": "markdown",
   "metadata": {},
   "source": [
    "Importrequired modules."
   ]
  },
  {
   "cell_type": "code",
   "execution_count": 1,
   "metadata": {
    "collapsed": true
   },
   "outputs": [],
   "source": [
    "import random"
   ]
  },
  {
   "cell_type": "markdown",
   "metadata": {},
   "source": [
    "Define a function to create a list of given length $k$ out of the integers for $0$ upto and including $n - 1$."
   ]
  },
  {
   "cell_type": "code",
   "execution_count": 18,
   "metadata": {
    "collapsed": true
   },
   "outputs": [],
   "source": [
    "def create_list(k, n):\n",
    "    data = []\n",
    "    for _ in range(k):\n",
    "        data.append(random.randint(0, n-1))\n",
    "    return data"
   ]
  },
  {
   "cell_type": "markdown",
   "metadata": {},
   "source": [
    "Ramdomly choose a pivot, all list items that are less than the pivot go into one list, all that are larger into another, those lists are sorted in turn using quicksort.  If a list has a single element, or is empty, nothing needs to be done."
   ]
  },
  {
   "cell_type": "code",
   "execution_count": 42,
   "metadata": {
    "collapsed": false
   },
   "outputs": [],
   "source": [
    "def quicksort(data, verbose=False):\n",
    "    if len(data) <= 1:\n",
    "        return data\n",
    "    else:\n",
    "        less, equal, greater = [], [], []\n",
    "        pivot = data[random.randint(0, len(data) - 1)]\n",
    "        for item in data:\n",
    "            if item < pivot:\n",
    "                less.append(item)\n",
    "            elif item > pivot:\n",
    "                greater.append(item)\n",
    "            else:\n",
    "                equal.append(item)\n",
    "        if verbose:\n",
    "            print(less, equal, greater)\n",
    "        return quicksort(less) + equal + quicksort(greater)"
   ]
  },
  {
   "cell_type": "markdown",
   "metadata": {},
   "source": [
    "Test the algorithm."
   ]
  },
  {
   "cell_type": "code",
   "execution_count": 37,
   "metadata": {
    "collapsed": true
   },
   "outputs": [],
   "source": [
    "data = create_list(10, 5)"
   ]
  },
  {
   "cell_type": "code",
   "execution_count": 38,
   "metadata": {
    "collapsed": false,
    "scrolled": true
   },
   "outputs": [
    {
     "name": "stdout",
     "output_type": "stream",
     "text": [
      "[0, 0, 0, 0, 0] [1, 1, 1] [2, 2]\n",
      "[] [0, 0, 0, 0, 0] []\n",
      "[] [2, 2] []\n"
     ]
    },
    {
     "data": {
      "text/plain": [
       "[0, 0, 0, 0, 0, 1, 1, 1, 2, 2]"
      ]
     },
     "execution_count": 38,
     "metadata": {},
     "output_type": "execute_result"
    }
   ],
   "source": [
    "quicksort(data)"
   ]
  },
  {
   "cell_type": "markdown",
   "metadata": {},
   "source": [
    "For a more systematic test, define a function that checks whether a list is sorted."
   ]
  },
  {
   "cell_type": "code",
   "execution_count": 39,
   "metadata": {
    "collapsed": true
   },
   "outputs": [],
   "source": [
    "def is_sorted(data):\n",
    "    for i in range(1, len(data)):\n",
    "        if data[i - 1] > data[i]:\n",
    "            return False\n",
    "    return True"
   ]
  },
  {
   "cell_type": "code",
   "execution_count": 43,
   "metadata": {
    "collapsed": false
   },
   "outputs": [],
   "source": [
    "for n in range(1, 20):\n",
    "    for k in range(5, 40):\n",
    "        data = create_list(k, n)\n",
    "        if not is_sorted(quicksort(data)):\n",
    "            print('not sorted: {0}'.format(str(data)))"
   ]
  },
  {
   "cell_type": "code",
   "execution_count": null,
   "metadata": {
    "collapsed": true
   },
   "outputs": [],
   "source": []
  }
 ],
 "metadata": {
  "kernelspec": {
   "display_name": "Python 3",
   "language": "python",
   "name": "python3"
  },
  "language_info": {
   "codemirror_mode": {
    "name": "ipython",
    "version": 3
   },
   "file_extension": ".py",
   "mimetype": "text/x-python",
   "name": "python",
   "nbconvert_exporter": "python",
   "pygments_lexer": "ipython3",
   "version": "3.5.2"
  }
 },
 "nbformat": 4,
 "nbformat_minor": 0
}
