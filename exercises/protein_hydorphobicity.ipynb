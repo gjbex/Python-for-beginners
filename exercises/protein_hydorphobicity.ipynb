{
 "cells": [
  {
   "cell_type": "markdown",
   "metadata": {},
   "source": [
    "# Protein hydrophobicity"
   ]
  },
  {
   "cell_type": "markdown",
   "metadata": {},
   "source": [
    "Define GES hydrophobicity scale, higher values are more hydrophobic."
   ]
  },
  {
   "cell_type": "code",
   "execution_count": 1,
   "metadata": {
    "ExecuteTime": {
     "end_time": "2018-11-09T06:41:56.158608Z",
     "start_time": "2018-11-09T06:41:56.145173Z"
    }
   },
   "outputs": [],
   "source": [
    "ges_scale = {\n",
    "    'F': -3.7, 'M': -3.4, 'I': -3.1, 'L': -2.8, 'V': -2.6,\n",
    "\t'C': -2.0, 'W': -1.9, 'A': -1.6, 'T': -1.2, 'G': -1.0,\n",
    "\t'S': -0.4, 'P':  0.2, 'Y':  0.7, 'H':  3.0, 'Q':  4.1,\n",
    "\t'N':  3.8, 'E':  8.2, 'K':  8.8, 'D':  9.2, 'R': 12.3,\n",
    "}"
   ]
  },
  {
   "cell_type": "markdown",
   "metadata": {},
   "source": [
    "Define a function that computes the GES hydrophobicity over a window for a given protein sequence."
   ]
  },
  {
   "cell_type": "code",
   "execution_count": 13,
   "metadata": {
    "ExecuteTime": {
     "end_time": "2018-11-09T07:03:55.438349Z",
     "start_time": "2018-11-09T07:03:55.418170Z"
    }
   },
   "outputs": [],
   "source": [
    "def hydrophobicity_search(seq, scale, window=15):\n",
    "    scores = [0.0]\n",
    "    for acid in seq[:min(window, len(seq))]:\n",
    "        scores[0] += scale[acid]\n",
    "    for start_idx in range(1, len(seq) - window + 1):\n",
    "        scores.append(scores[start_idx - 1])\n",
    "        scores[start_idx] -= scale[seq[start_idx - 1]]\n",
    "        scores[start_idx] += scale[seq[start_idx + window - 1]]\n",
    "    return scores"
   ]
  },
  {
   "cell_type": "markdown",
   "metadata": {},
   "source": [
    "Check the case that the sequence is shorter than the window size (default is 15)."
   ]
  },
  {
   "cell_type": "code",
   "execution_count": 14,
   "metadata": {
    "ExecuteTime": {
     "end_time": "2018-11-09T07:03:56.576463Z",
     "start_time": "2018-11-09T07:03:56.568545Z"
    }
   },
   "outputs": [
    {
     "data": {
      "text/plain": [
       "[-10.2]"
      ]
     },
     "execution_count": 14,
     "metadata": {},
     "output_type": "execute_result"
    }
   ],
   "source": [
    "hydrophobicity_search('FMI', ges_scale)"
   ]
  },
  {
   "cell_type": "markdown",
   "metadata": {},
   "source": [
    "Check the case that the window size is equal to the sequence length."
   ]
  },
  {
   "cell_type": "code",
   "execution_count": 16,
   "metadata": {
    "ExecuteTime": {
     "end_time": "2018-11-09T07:08:27.360125Z",
     "start_time": "2018-11-09T07:08:27.350040Z"
    }
   },
   "outputs": [
    {
     "data": {
      "text/plain": [
       "[-10.2]"
      ]
     },
     "execution_count": 16,
     "metadata": {},
     "output_type": "execute_result"
    }
   ],
   "source": [
    "hydrophobicity_search('FMI', ges_scale, 3)"
   ]
  },
  {
   "cell_type": "markdown",
   "metadata": {},
   "source": [
    "For the general case, we expect sequence length - window size + 1 scores.  So for a sequence of length 2, and a window size of 3, we should get 2 scores."
   ]
  },
  {
   "cell_type": "code",
   "execution_count": 17,
   "metadata": {
    "ExecuteTime": {
     "end_time": "2018-11-09T07:09:47.840310Z",
     "start_time": "2018-11-09T07:09:47.818950Z"
    }
   },
   "outputs": [
    {
     "data": {
      "text/plain": [
       "[-10.2, -9.299999999999999]"
      ]
     },
     "execution_count": 17,
     "metadata": {},
     "output_type": "execute_result"
    }
   ],
   "source": [
    "hydrophobicity_search('FMIL', ges_scale, 3)"
   ]
  },
  {
   "cell_type": "markdown",
   "metadata": {},
   "source": [
    "Check a more genral case."
   ]
  },
  {
   "cell_type": "code",
   "execution_count": 18,
   "metadata": {
    "ExecuteTime": {
     "end_time": "2018-11-09T07:14:12.567918Z",
     "start_time": "2018-11-09T07:14:12.551354Z"
    }
   },
   "outputs": [],
   "source": [
    "sequence = 'FMILVCWATG'\n",
    "window = 3\n",
    "scores = hydrophobicity_search(sequence, ges_scale, 3)"
   ]
  },
  {
   "cell_type": "code",
   "execution_count": 19,
   "metadata": {
    "ExecuteTime": {
     "end_time": "2018-11-09T07:14:32.970506Z",
     "start_time": "2018-11-09T07:14:32.947250Z"
    }
   },
   "outputs": [
    {
     "data": {
      "text/plain": [
       "True"
      ]
     },
     "execution_count": 19,
     "metadata": {},
     "output_type": "execute_result"
    }
   ],
   "source": [
    "len(sequence) - window + 1 == len(scores)"
   ]
  },
  {
   "cell_type": "markdown",
   "metadata": {},
   "source": [
    "Generate a random, longer sequence, and compute its scores."
   ]
  },
  {
   "cell_type": "code",
   "execution_count": 20,
   "metadata": {
    "ExecuteTime": {
     "end_time": "2018-11-09T07:17:55.451563Z",
     "start_time": "2018-11-09T07:17:55.434931Z"
    }
   },
   "outputs": [],
   "source": [
    "import random"
   ]
  },
  {
   "cell_type": "code",
   "execution_count": 23,
   "metadata": {
    "ExecuteTime": {
     "end_time": "2018-11-09T07:20:56.889364Z",
     "start_time": "2018-11-09T07:20:56.884155Z"
    }
   },
   "outputs": [],
   "source": [
    "sequence = random.choices(list(ges_scale), k=100)"
   ]
  },
  {
   "cell_type": "code",
   "execution_count": 24,
   "metadata": {
    "ExecuteTime": {
     "end_time": "2018-11-09T07:21:25.433259Z",
     "start_time": "2018-11-09T07:21:25.427026Z"
    }
   },
   "outputs": [],
   "source": [
    "scores = hydrophobicity_search(sequence, ges_scale)"
   ]
  },
  {
   "cell_type": "markdown",
   "metadata": {},
   "source": [
    "Plot the scores."
   ]
  },
  {
   "cell_type": "code",
   "execution_count": 25,
   "metadata": {
    "ExecuteTime": {
     "end_time": "2018-11-09T07:22:22.913201Z",
     "start_time": "2018-11-09T07:22:22.481916Z"
    }
   },
   "outputs": [],
   "source": [
    "import matplotlib.pyplot as plt\n",
    "%matplotlib inline"
   ]
  },
  {
   "cell_type": "code",
   "execution_count": 26,
   "metadata": {
    "ExecuteTime": {
     "end_time": "2018-11-09T07:22:35.045341Z",
     "start_time": "2018-11-09T07:22:34.658062Z"
    }
   },
   "outputs": [
    {
     "data": {
      "image/png": "[encoded data removed]",
      "text/plain": [
       "<Figure size 432x288 with 1 Axes>"
      ]
     },
     "metadata": {
      "needs_background": "light"
     },
     "output_type": "display_data"
    }
   ],
   "source": [
    "_ = plt.plot(scores)"
   ]
  }
 ],
 "metadata": {
  "kernelspec": {
   "display_name": "Python 3",
   "language": "python",
   "name": "python3"
  },
  "language_info": {
   "codemirror_mode": {
    "name": "ipython",
    "version": 3
   },
   "file_extension": ".py",
   "mimetype": "text/x-python",
   "name": "python",
   "nbconvert_exporter": "python",
   "pygments_lexer": "ipython3",
   "version": "3.6.6"
  }
 },
 "nbformat": 4,
 "nbformat_minor": 2
}
