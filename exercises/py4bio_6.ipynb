{
 "cells": [
  {
   "cell_type": "markdown",
   "metadata": {},
   "source": [
    "# Python for biologists, chapter 6"
   ]
  },
  {
   "cell_type": "markdown",
   "metadata": {},
   "source": [
    "Geert Jan Bex ([geertjan.bex@uhasselt.be](mailto:geertjan.bex@uhasselt.be))"
   ]
  },
  {
   "cell_type": "markdown",
   "metadata": {},
   "source": [
    "Exercises taken from 'Python for biologists', Martin Jones."
   ]
  },
  {
   "cell_type": "markdown",
   "metadata": {
    "slideshow": {
     "slide_type": "slide"
    }
   },
   "source": [
    "## Several species"
   ]
  },
  {
   "cell_type": "markdown",
   "metadata": {},
   "source": [
    "The file `data_6.csv` contains data on a number of genes.  Print the gene names for all genes belonging to *Drosophila melanogaster* and *Drosophila smiulans*."
   ]
  },
  {
   "cell_type": "code",
   "execution_count": 11,
   "metadata": {
    "collapsed": true
   },
   "outputs": [],
   "source": [
    "target_species = ['Drosophila melanogaster', 'Drosophila simulans']\n",
    "data_filename = 'data_6.csv'"
   ]
  },
  {
   "cell_type": "code",
   "execution_count": 1,
   "metadata": {
    "collapsed": false
   },
   "outputs": [
    {
     "name": "stdout",
     "output_type": "stream",
     "text": [
      "Drosophila melanogaster,atatatatatcgcgtatatatacgactatatgcattaattatagcatatcgatatatatatcgatattatatcgcattatacgcgcgtaattatatcgcgtaattacga,kdy647,264\r\n",
      "Drosophila melanogaster,actgtgacgtgtactgtacgactatcgatacgtagtactgatcgctactgtaatgcatccatgctgacgtatctaagt,jdg766,185\r\n",
      "Drosophila simulans,atcgatcatgtcgatcgatgatgcatccgactatcgtcgatcgtgatcgatcgatcgatcatcgatcgatgtcgatcatgtcgatatcgt,kdy533,485\r\n",
      "Drosophila yakuba,cgcgcgctcgcgcatacggcctaatgcgcgcgctagcgatgc,hdt739,85\r\n",
      "Drosophila ananassae,ttacgatcgatcgatcgatcgatcgtcgatcgtcgatgctacatcgatcatcatcggattagtcacatcgatcgatcatcgactgatcgtcgatcgtagatgctgacatcgatagca,hdu045,356\r\n"
     ]
    }
   ],
   "source": [
    "!head -5 data_6.csv"
   ]
  },
  {
   "cell_type": "code",
   "execution_count": 14,
   "metadata": {
    "collapsed": false,
    "slideshow": {
     "slide_type": "subslide"
    }
   },
   "outputs": [
    {
     "name": "stdout",
     "output_type": "stream",
     "text": [
      "kdy647\n",
      "jdg766\n",
      "kdy533\n"
     ]
    }
   ],
   "source": [
    "with open(data_filename, 'r') as data_file:\n",
    "    for line in data_file:\n",
    "        species, dna, gene_name, expr_level = line.rstrip().split(',')\n",
    "        if species in target_species:\n",
    "           print(gene_name)"
   ]
  },
  {
   "cell_type": "markdown",
   "metadata": {},
   "source": [
    "## Length range"
   ]
  },
  {
   "cell_type": "markdown",
   "metadata": {},
   "source": [
    "The file `data_6.csv` contains data on a number of genes.  Print the gene names for all genes with sequence length between 90 and 110 base pairs."
   ]
  },
  {
   "cell_type": "code",
   "execution_count": 15,
   "metadata": {
    "collapsed": false,
    "slideshow": {
     "slide_type": "subslide"
    }
   },
   "outputs": [
    {
     "name": "stdout",
     "output_type": "stream",
     "text": [
      "kdy647\n",
      "kdy533\n",
      "teg436\n"
     ]
    }
   ],
   "source": [
    "with open(data_filename, 'r') as data_file:\n",
    "    for line in data_file:\n",
    "        species, dna, gene_name, expr_level = line.rstrip().split(',')\n",
    "        dna_length = len(dna)\n",
    "        if 90 <= dna_length and dna_length <= 110:\n",
    "           print(gene_name)"
   ]
  },
  {
   "cell_type": "markdown",
   "metadata": {},
   "source": [
    "## AT content"
   ]
  },
  {
   "cell_type": "markdown",
   "metadata": {},
   "source": [
    "The file `data_6.csv` contains data on a number of genes.  Print the gene names for all genes with AT content of less than 0.5, and an expression level larger than 200."
   ]
  },
  {
   "cell_type": "code",
   "execution_count": 16,
   "metadata": {
    "collapsed": true,
    "slideshow": {
     "slide_type": "subslide"
    }
   },
   "outputs": [],
   "source": [
    "def at_content(dna):\n",
    "    dna = dna.upper()\n",
    "    return (dna.count('A') + dna.count('T'))/len(dna)"
   ]
  },
  {
   "cell_type": "code",
   "execution_count": 18,
   "metadata": {
    "collapsed": false,
    "slideshow": {
     "slide_type": "fragment"
    }
   },
   "outputs": [
    {
     "name": "stdout",
     "output_type": "stream",
     "text": [
      "teg436\n"
     ]
    }
   ],
   "source": [
    "with open(data_filename, 'r') as data_file:\n",
    "    for line in data_file:\n",
    "        species, dna, gene_name, expr_level = line.rstrip().split(',')\n",
    "        if at_content(dna) < 0.5 and 200 < int(expr_level):\n",
    "           print(gene_name)"
   ]
  },
  {
   "cell_type": "markdown",
   "metadata": {},
   "source": [
    "## Complex condition"
   ]
  },
  {
   "cell_type": "markdown",
   "metadata": {},
   "source": [
    "The file `data_6.csv` contains data on a number of genes.  Print the gene names for which the name starts with either 'k', or 'h', except for *Drosophila melanogaster*."
   ]
  },
  {
   "cell_type": "code",
   "execution_count": 20,
   "metadata": {
    "collapsed": false,
    "slideshow": {
     "slide_type": "subslide"
    }
   },
   "outputs": [
    {
     "name": "stdout",
     "output_type": "stream",
     "text": [
      "kdy533\n",
      "hdt739\n",
      "hdu045\n"
     ]
    }
   ],
   "source": [
    "with open(data_filename, 'r') as data_file:\n",
    "    for line in data_file:\n",
    "        species, dna, gene_name, expr_level = line.rstrip().split(',')\n",
    "        if (gene_name.startswith('k') or gene_name.startswith('h')) and species != 'Drosophila melanogaster':\n",
    "           print(gene_name)"
   ]
  },
  {
   "cell_type": "markdown",
   "metadata": {},
   "source": [
    "## High, low, medium"
   ]
  },
  {
   "cell_type": "markdown",
   "metadata": {},
   "source": [
    "The file `data_6.csv` contains data on a number of genes.  Print for each gene its name, and whether its AT content is high (i.e., larger than 0.65, low (i.e., less than 0.45), medium otherwise."
   ]
  },
  {
   "cell_type": "code",
   "execution_count": 21,
   "metadata": {
    "collapsed": true,
    "slideshow": {
     "slide_type": "subslide"
    }
   },
   "outputs": [],
   "source": [
    "def at_content(dna):\n",
    "    dna = dna.upper()\n",
    "    return (dna.count('A') + dna.count('T'))/len(dna)"
   ]
  },
  {
   "cell_type": "code",
   "execution_count": 23,
   "metadata": {
    "collapsed": false,
    "slideshow": {
     "slide_type": "subslide"
    }
   },
   "outputs": [
    {
     "name": "stdout",
     "output_type": "stream",
     "text": [
      "kdy647: high\n",
      "jdg766: medium\n",
      "kdy533: medium\n",
      "hdt739: low\n",
      "hdu045: medium\n",
      "teg436: medium\n"
     ]
    }
   ],
   "source": [
    "with open(data_filename, 'r') as data_file:\n",
    "    for line in data_file:\n",
    "        species, dna, gene_name, expr_level = line.rstrip().split(',')\n",
    "        at = at_content(dna)\n",
    "        print('{0}: '.format(gene_name), end='')\n",
    "        if at < 0.45:\n",
    "            print('low')\n",
    "        elif at > 0.65:\n",
    "            print('high')\n",
    "        else:\n",
    "            print('medium')"
   ]
  }
 ],
 "metadata": {
  "anaconda-cloud": {},
  "celltoolbar": "Slideshow",
  "kernelspec": {
   "display_name": "Python [default]",
   "language": "python",
   "name": "python3"
  },
  "language_info": {
   "codemirror_mode": {
    "name": "ipython",
    "version": 3
   },
   "file_extension": ".py",
   "mimetype": "text/x-python",
   "name": "python",
   "nbconvert_exporter": "python",
   "pygments_lexer": "ipython3",
   "version": "3.5.2"
  }
 },
 "nbformat": 4,
 "nbformat_minor": 0
}
