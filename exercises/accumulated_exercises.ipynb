{
 "cells": [
  {
   "cell_type": "markdown",
   "metadata": {},
   "source": [
    "# Exercises"
   ]
  },
  {
   "cell_type": "markdown",
   "metadata": {},
   "source": [
    "## AT content"
   ]
  },
  {
   "cell_type": "markdown",
   "metadata": {},
   "source": [
    "Given a string that contains a representation of an DNA sequence, compute the AT content, i.e., the fraction of nucleotides that are either A or T."
   ]
  },
  {
   "cell_type": "code",
   "execution_count": null,
   "metadata": {},
   "outputs": [],
   "source": [
    "dna = 'ACTGATCGATTACGTATAGTATTTGCTATCATACATATATATCGATGCGTTCAT'"
   ]
  },
  {
   "cell_type": "markdown",
   "metadata": {},
   "source": [
    "## Complementing DNA"
   ]
  },
  {
   "cell_type": "markdown",
   "metadata": {},
   "source": [
    "Given a string representing a DNA sequence, compute its complement."
   ]
  },
  {
   "cell_type": "code",
   "execution_count": null,
   "metadata": {},
   "outputs": [],
   "source": [
    "dna = 'ACTGATCGATTACGTATAGTATTTGCTATCATACATATATATCGATGCGTTCAT'"
   ]
  },
  {
   "cell_type": "markdown",
   "metadata": {},
   "source": [
    "## Restriction fragment lengths"
   ]
  },
  {
   "cell_type": "markdown",
   "metadata": {},
   "source": [
    "Given a string representing a DNA sequence that contains a recognition site for the EcoRI restriction enzyme, compute the lengths of the resulting fragments.  The motif is `G*AATTC` where `*` indicates the position of the cut."
   ]
  },
  {
   "cell_type": "code",
   "execution_count": null,
   "metadata": {},
   "outputs": [],
   "source": [
    "dna = 'ACTGATCGATTACGTATAGTAGAATTCTATCATACATATATATCGATGCGTTCAT'\n",
    "motif = 'GAATTC'"
   ]
  },
  {
   "cell_type": "markdown",
   "metadata": {},
   "source": [
    "## Splicing out introns"
   ]
  },
  {
   "cell_type": "markdown",
   "metadata": {},
   "source": [
    "### Part I"
   ]
  },
  {
   "cell_type": "markdown",
   "metadata": {},
   "source": [
    "The given DNA sequence contains to exons, separated by an intron.  The first exon runs from the start of the sequence to 63rd character, while the second starts at the 91st and contains the remainder of the sequence.  Print the coding region only.  To make it easier to check, print a `*` between the two exons."
   ]
  },
  {
   "cell_type": "code",
   "execution_count": null,
   "metadata": {},
   "outputs": [],
   "source": [
    "dna = ('ATCGATCGATCGATCGACTGACTAGTCATAGCTATGCATGTAGCTACTCGATCGATCGATCGAT'\n",
    "       'CGATCGATCGATCGATCGATCATGCTATCATCGATCGATATCGATGCATCGACTACTAT')"
   ]
  },
  {
   "cell_type": "markdown",
   "metadata": {},
   "source": [
    "### Part II"
   ]
  },
  {
   "cell_type": "markdown",
   "metadata": {},
   "source": [
    "Given the previous DNA sequence, compute the fraction of the DNA that is coding."
   ]
  },
  {
   "cell_type": "code",
   "execution_count": null,
   "metadata": {},
   "outputs": [],
   "source": [
    "dna = ('ATCGATCGATCGATCGACTGACTAGTCATAGCTATGCATGTAGCTACTCGATCGATCGATCGAT'\n",
    "       'CGATCGATCGATCGATCGATCATGCTATCATCGATCGATATCGATGCATCGACTACTAT')"
   ]
  },
  {
   "cell_type": "markdown",
   "metadata": {},
   "source": [
    "### Part III"
   ]
  },
  {
   "cell_type": "markdown",
   "metadata": {
    "ExecuteTime": {
     "end_time": "2018-11-14T20:28:29.248915Z",
     "start_time": "2018-11-14T20:28:29.234911Z"
    }
   },
   "source": [
    "Given the DNA sequence of the previous part, write out the DNA with the exons in upper case characters, and the intron in lower case."
   ]
  },
  {
   "cell_type": "code",
   "execution_count": null,
   "metadata": {},
   "outputs": [],
   "source": [
    "dna = ('ATCGATCGATCGATCGACTGACTAGTCATAGCTATGCATGTAGCTACTCGATCGATCGATCGAT'\n",
    "       'CGATCGATCGATCGATCGATCATGCTATCATCGATCGATATCGATGCATCGACTACTAT'"
   ]
  },
  {
   "cell_type": "markdown",
   "metadata": {},
   "source": [
    "## Splitting genomic DNA"
   ]
  },
  {
   "cell_type": "markdown",
   "metadata": {},
   "source": [
    "The file `genomic_dna_3.txt` contains a DNA sequence that has two exons, separated by an intron.  The first exon starts at the beginning of the sequence, and ends at the 63rd character, the second exon starts at the 91st character, and runs up to the end of the sequence.  Read the file, and write the coding and non-coding regions to two files, `genomic_dna_3_coding.txt` and `genomic_dna_3_noncoding.txt` respectively."
   ]
  },
  {
   "cell_type": "markdown",
   "metadata": {},
   "source": [
    "## Writing a FASTA file"
   ]
  },
  {
   "cell_type": "markdown",
   "metadata": {},
   "source": [
    "Write a file `sequences_3.fasta` in FASTA format for the following three sequences and their respective headers.  Sequences must consist only of the symbols A, C, G, and T."
   ]
  },
  {
   "cell_type": "code",
   "execution_count": null,
   "metadata": {},
   "outputs": [],
   "source": [
    "headers = ['ABC123', 'DEF456', 'HIJ789']\n",
    "seqs = ['ATCGTACGATCGATCGATCGCTAGACGTATCG', 'actgatcgacgatcgatcgatcacgact', 'ACTGAC-ACTGT--ACTGTA----CATGTG']\n",
    "fasta_filename = 'sequences_3.fasta'"
   ]
  },
  {
   "cell_type": "markdown",
   "metadata": {},
   "source": [
    "## Writing multiple FASTA files"
   ]
  },
  {
   "cell_type": "markdown",
   "metadata": {},
   "source": [
    "Using the data for the previous part, write three, rather than one file, i.e., a FASTA file per sequence. Use the sequence headers as the respective file names, adding the `.fasta` extension at the end."
   ]
  },
  {
   "cell_type": "code",
   "execution_count": null,
   "metadata": {},
   "outputs": [],
   "source": [
    "headers = ['ABC123', 'DEF456', 'HIJ789']\n",
    "seqs = ['ATCGTACGATCGATCGATCGCTAGACGTATCG', 'actgatcgacgatcgatcgatcacgact', 'ACTGAC-ACTGT--ACTGTA----CATGTG']"
   ]
  },
  {
   "cell_type": "markdown",
   "metadata": {},
   "source": [
    "## Processing DNA in a file"
   ]
  },
  {
   "cell_type": "markdown",
   "metadata": {},
   "source": [
    "The file `dna_seqs_4.txt` contains DNA sequences, one per line.  Each sequence starts with the same 14 base pair fragment, a sequencing adapter that should be removed. Writa a program that reads the sequences from the input file, and writes the trimmed sequences to a new file `trimmed_dna_seqs_4.txt`, and prints the length of the original and the new sequences to the screen."
   ]
  },
  {
   "cell_type": "code",
   "execution_count": null,
   "metadata": {},
   "outputs": [],
   "source": [
    "seqs_filename = 'dna_seqs_4.txt'\n",
    "trimmed_seqs_filename = 'trimmed_dna_seqs_4.txt'"
   ]
  },
  {
   "cell_type": "markdown",
   "metadata": {},
   "source": [
    "## Multiple exons from genomic data"
   ]
  },
  {
   "cell_type": "markdown",
   "metadata": {},
   "source": [
    "Given a file `genomic_dna_4.txt` containing a DNA sequence, and a file `exons_4.txt` with exon positions, one start and end position per line.  Write a program that reads the positions, and splices out the introns in the given DNA sequence, writing the output to `genomic_dna_4_coding.txt`."
   ]
  },
  {
   "cell_type": "code",
   "execution_count": null,
   "metadata": {},
   "outputs": [],
   "source": [
    "seq_filename = 'genomic_dna_4.txt'\n",
    "exons_filename = 'exons_4.txt'\n",
    "coding_seq_filename = 'genomic_dna_4_coding.txt'"
   ]
  },
  {
   "cell_type": "markdown",
   "metadata": {},
   "source": [
    "## Percentage of amino acids"
   ]
  },
  {
   "cell_type": "markdown",
   "metadata": {},
   "source": [
    "### Part I"
   ]
  },
  {
   "cell_type": "markdown",
   "metadata": {},
   "source": [
    "Write a function that computes the percentage of amino acid residues.  It takes two arguments, the protein sequence, and an amino acid residue.  Test the function for the given input and output."
   ]
  },
  {
   "cell_type": "code",
   "execution_count": null,
   "metadata": {},
   "outputs": [],
   "source": [
    "input = [\n",
    "    ('MSRSLLLRFLLFLLLLPPLP', 'M'),\n",
    "    ('MSRSLLLRFLLFLLLLPPLP', 'R'),\n",
    "    ('msrslllrfllfllllpplp', 'L'),\n",
    "    ('MSRSLLLRFLLFLLLLPPLP', 'Y'),\n",
    "]\n",
    "output = [5, 10, 50, 0]"
   ]
  },
  {
   "cell_type": "markdown",
   "metadata": {},
   "source": [
    "### Part II"
   ]
  },
  {
   "cell_type": "markdown",
   "metadata": {},
   "source": [
    "Write a function that computes the percentage of amino acid residues.  It takes two arguments, the protein sequence, and, optionally, a list of amino acids.  If no list of amino acids is given, the function should compute the percentage for hydrophobic amino acid residues, i.e., A, I, L, M, F, W, Y, and V.  Test the function for the given input and output."
   ]
  },
  {
   "cell_type": "code",
   "execution_count": null,
   "metadata": {},
   "outputs": [],
   "source": [
    "input = [\n",
    "    ('MSRSLLLRFLLFLLLLPPLP', ['M']),                                            \n",
    "    ('MSRSLLLRFLLFLLLLPPLP', ['M', 'L']),\n",
    "    ('MSRSLLLRFLLFLLLLPPLP', ['F', 'S', 'L']),\n",
    "    ('MSRSLLLRFLLFLLLLPPLP', ),\n",
    "]\n",
    "output = [5, 55, 70, 65]"
   ]
  }
 ],
 "metadata": {
  "kernelspec": {
   "display_name": "Python 3",
   "language": "python",
   "name": "python3"
  },
  "language_info": {
   "codemirror_mode": {
    "name": "ipython",
    "version": 3
   },
   "file_extension": ".py",
   "mimetype": "text/x-python",
   "name": "python",
   "nbconvert_exporter": "python",
   "pygments_lexer": "ipython3",
   "version": "3.6.6"
  }
 },
 "nbformat": 4,
 "nbformat_minor": 2
}
