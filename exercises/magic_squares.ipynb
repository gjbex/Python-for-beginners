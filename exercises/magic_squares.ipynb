{
 "cells": [
  {
   "cell_type": "markdown",
   "metadata": {},
   "source": [
    "# Magic squares"
   ]
  },
  {
   "cell_type": "markdown",
   "metadata": {},
   "source": [
    "A magic square is an $n \\times n$ matrix with integer elements from 1 to $n \\times n$ arranged in such a way that the sum of the rows, columns, diagonals is equal."
   ]
  },
  {
   "cell_type": "code",
   "execution_count": 8,
   "metadata": {
    "ExecuteTime": {
     "end_time": "2018-12-14T06:11:38.785560Z",
     "start_time": "2018-12-14T06:11:38.779577Z"
    }
   },
   "outputs": [],
   "source": [
    "import numpy as np\n",
    "from itertools import permutations"
   ]
  },
  {
   "cell_type": "markdown",
   "metadata": {},
   "source": [
    "Define a function that checks whether a given 2D array is a magic scuare."
   ]
  },
  {
   "cell_type": "code",
   "execution_count": 12,
   "metadata": {
    "ExecuteTime": {
     "end_time": "2018-12-14T06:56:49.434933Z",
     "start_time": "2018-12-14T06:56:49.411215Z"
    }
   },
   "outputs": [],
   "source": [
    "def is_magic(square):\n",
    "    n = square.shape[0]\n",
    "    target = sum(square[i, n - 1 - i] for i in range(n))\n",
    "    return (np.all(square.sum(axis=1) == target) and\n",
    "            np.all(square.sum(axis=0) == target) and\n",
    "            square.trace() == target)"
   ]
  },
  {
   "cell_type": "markdown",
   "metadata": {},
   "source": [
    "Define a function that returns a list of all $n \\times n$ magic square squares."
   ]
  },
  {
   "cell_type": "code",
   "execution_count": 14,
   "metadata": {
    "ExecuteTime": {
     "end_time": "2018-12-14T06:59:01.836873Z",
     "start_time": "2018-12-14T06:59:01.816517Z"
    }
   },
   "outputs": [],
   "source": [
    "def all_magic_squares(dim):\n",
    "    magic = list()\n",
    "    for elements in permutations(range(1, 1 + dim**2)):\n",
    "        square = np.array(elements).reshape((dim, dim))\n",
    "        if is_magic(square):\n",
    "            magic.append(square)\n",
    "    return magic"
   ]
  },
  {
   "cell_type": "markdown",
   "metadata": {},
   "source": [
    "Compute the $2 \\times 2$ magic squares."
   ]
  },
  {
   "cell_type": "code",
   "execution_count": 15,
   "metadata": {
    "ExecuteTime": {
     "end_time": "2018-12-14T06:59:10.818568Z",
     "start_time": "2018-12-14T06:59:10.806861Z"
    }
   },
   "outputs": [
    {
     "data": {
      "text/plain": [
       "[]"
      ]
     },
     "execution_count": 15,
     "metadata": {},
     "output_type": "execute_result"
    }
   ],
   "source": [
    "all_magic_squares(2)"
   ]
  },
  {
   "cell_type": "markdown",
   "metadata": {},
   "source": [
    "There are no $2 \\times 2$ magic squares."
   ]
  },
  {
   "cell_type": "markdown",
   "metadata": {},
   "source": [
    "Compute the $3 \\times 3$ magic squares."
   ]
  },
  {
   "cell_type": "code",
   "execution_count": 32,
   "metadata": {
    "ExecuteTime": {
     "end_time": "2018-12-14T07:54:03.582537Z",
     "start_time": "2018-12-14T07:53:57.312436Z"
    }
   },
   "outputs": [],
   "source": [
    "squares3 = all_magic_squares(3)"
   ]
  },
  {
   "cell_type": "code",
   "execution_count": 33,
   "metadata": {
    "ExecuteTime": {
     "end_time": "2018-12-14T07:54:15.456400Z",
     "start_time": "2018-12-14T07:54:15.448398Z"
    }
   },
   "outputs": [
    {
     "data": {
      "text/plain": [
       "8"
      ]
     },
     "execution_count": 33,
     "metadata": {},
     "output_type": "execute_result"
    }
   ],
   "source": [
    "len(squares3)"
   ]
  },
  {
   "cell_type": "markdown",
   "metadata": {},
   "source": [
    "There are only 8 magic squares out of  $3^2!$ squares, displayed below."
   ]
  },
  {
   "cell_type": "code",
   "execution_count": 36,
   "metadata": {
    "ExecuteTime": {
     "end_time": "2018-12-14T07:55:19.808844Z",
     "start_time": "2018-12-14T07:55:19.786914Z"
    }
   },
   "outputs": [
    {
     "name": "stdout",
     "output_type": "stream",
     "text": [
      "[[2 7 6]\n",
      " [9 5 1]\n",
      " [4 3 8]]\n",
      "\n",
      "[[2 9 4]\n",
      " [7 5 3]\n",
      " [6 1 8]]\n",
      "\n",
      "[[4 3 8]\n",
      " [9 5 1]\n",
      " [2 7 6]]\n",
      "\n",
      "[[4 9 2]\n",
      " [3 5 7]\n",
      " [8 1 6]]\n",
      "\n",
      "[[6 1 8]\n",
      " [7 5 3]\n",
      " [2 9 4]]\n",
      "\n",
      "[[6 7 2]\n",
      " [1 5 9]\n",
      " [8 3 4]]\n",
      "\n",
      "[[8 1 6]\n",
      " [3 5 7]\n",
      " [4 9 2]]\n",
      "\n",
      "[[8 3 4]\n",
      " [1 5 9]\n",
      " [6 7 2]]\n",
      "\n"
     ]
    }
   ],
   "source": [
    "for square in squares3:\n",
    "    print(square, end='\\n\\n')"
   ]
  },
  {
   "cell_type": "markdown",
   "metadata": {},
   "source": [
    "Let's estimate how long it would take to compute all $4 \\times 4$ magic squares."
   ]
  },
  {
   "cell_type": "code",
   "execution_count": 25,
   "metadata": {
    "ExecuteTime": {
     "end_time": "2018-12-14T07:35:42.561053Z",
     "start_time": "2018-12-14T07:35:42.176521Z"
    }
   },
   "outputs": [],
   "source": [
    "from math import factorial\n",
    "import matplotlib.pyplot as plt\n",
    "%matplotlib inline"
   ]
  },
  {
   "cell_type": "markdown",
   "metadata": {},
   "source": [
    "Plot the number of squares as a function of the shape."
   ]
  },
  {
   "cell_type": "code",
   "execution_count": 29,
   "metadata": {
    "ExecuteTime": {
     "end_time": "2018-12-14T07:47:27.226859Z",
     "start_time": "2018-12-14T07:47:26.791154Z"
    }
   },
   "outputs": [
    {
     "data": {
      "image/png": "[encoded data removed]",
      "text/plain": [
       "<Figure size 432x288 with 1 Axes>"
      ]
     },
     "metadata": {
      "needs_background": "light"
     },
     "output_type": "display_data"
    }
   ],
   "source": [
    "n = range(1, 5)\n",
    "f = [factorial(i**2) for i in n]\n",
    "_ = plt.semilogy(n, f)\n",
    "_ = plt.xticks(n, [str(i) for i in n])\n",
    "_ = plt.xlabel('$n$')\n",
    "_ = plt.ylabel('number of squares')"
   ]
  },
  {
   "cell_type": "markdown",
   "metadata": {},
   "source": [
    "It seems that the number of squares increases sharply as a function of $n$.  Time the generation of $3 \\times 3$ squares, and use this to estimate the number of days required for computing the $4 \\times 4$ squares."
   ]
  },
  {
   "cell_type": "code",
   "execution_count": 37,
   "metadata": {
    "ExecuteTime": {
     "end_time": "2018-12-14T07:57:43.573629Z",
     "start_time": "2018-12-14T07:56:53.982280Z"
    }
   },
   "outputs": [
    {
     "name": "stdout",
     "output_type": "stream",
     "text": [
      "6.17 s ± 146 ms per loop (mean ± std. dev. of 7 runs, 1 loop each)\n"
     ]
    }
   ],
   "source": [
    "%timeit all_magic_squares(3)"
   ]
  },
  {
   "cell_type": "code",
   "execution_count": 40,
   "metadata": {
    "ExecuteTime": {
     "end_time": "2018-12-14T08:00:36.376851Z",
     "start_time": "2018-12-14T08:00:36.367856Z"
    }
   },
   "outputs": [
    {
     "name": "stdout",
     "output_type": "stream",
     "text": [
      "4137\n"
     ]
    }
   ],
   "source": [
    "print(f'{(6.2*factorial(4**2)//factorial(3**2))/(3600*24):.0f}')"
   ]
  }
 ],
 "metadata": {
  "kernelspec": {
   "display_name": "Python 3",
   "language": "python",
   "name": "python3"
  },
  "language_info": {
   "codemirror_mode": {
    "name": "ipython",
    "version": 3
   },
   "file_extension": ".py",
   "mimetype": "text/x-python",
   "name": "python",
   "nbconvert_exporter": "python",
   "pygments_lexer": "ipython3",
   "version": "3.6.6"
  }
 },
 "nbformat": 4,
 "nbformat_minor": 2
}
