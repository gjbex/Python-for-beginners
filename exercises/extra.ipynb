{
 "cells": [
  {
   "cell_type": "markdown",
   "metadata": {},
   "source": [
    "# Challenges"
   ]
  },
  {
   "cell_type": "markdown",
   "metadata": {},
   "source": [
    "## Challenge 1"
   ]
  },
  {
   "cell_type": "markdown",
   "metadata": {},
   "source": [
    "Write a function that given a DNA sequence and a recognition site for a restriction enzyme returns a list of subsequences split by that enzyme."
   ]
  },
  {
   "cell_type": "code",
   "execution_count": 1,
   "metadata": {
    "collapsed": true
   },
   "outputs": [],
   "source": [
    "dna = 'ACTGATCGATTACGTATAGTAGAATTCTATCATACATATATATCGATGCGTTCAT'\n",
    "motif = 'G*AATTC'"
   ]
  },
  {
   "cell_type": "code",
   "execution_count": 18,
   "metadata": {
    "collapsed": true
   },
   "outputs": [],
   "source": [
    "def cut_restriction_enzyme(dna, motif):\n",
    "    fragments = []\n",
    "    left_len = motif.find('*')\n",
    "    print(motif[:left_len], motif[left_len + 1:])   \n",
    "    search_motif = motif.replace('*', '')\n",
    "    while (True):\n",
    "        pos = dna.find(search_motif)\n",
    "        if pos < 0:\n",
    "            break\n",
    "        cut_index = pos + left_len\n",
    "        fragment = dna[:cut_index]\n",
    "        dna = dna[cut_index:]\n",
    "        fragments.append(fragment)\n",
    "    fragments.append(dna)\n",
    "    return fragments"
   ]
  },
  {
   "cell_type": "code",
   "execution_count": 19,
   "metadata": {
    "collapsed": false
   },
   "outputs": [
    {
     "name": "stdout",
     "output_type": "stream",
     "text": [
      "G AATTC\n"
     ]
    },
    {
     "data": {
      "text/plain": [
       "['ACTGATCGATTACGTATAGTAG', 'AATTCTATCATACATATATATCGATGCGTTCAT']"
      ]
     },
     "execution_count": 19,
     "metadata": {},
     "output_type": "execute_result"
    }
   ],
   "source": [
    "cut_restriction_enzyme(dna, motif)"
   ]
  },
  {
   "cell_type": "code",
   "execution_count": null,
   "metadata": {
    "collapsed": true
   },
   "outputs": [],
   "source": []
  }
 ],
 "metadata": {
  "anaconda-cloud": {},
  "kernelspec": {
   "display_name": "Python [conda env:py35]",
   "language": "python",
   "name": "conda-env-py35-py"
  },
  "language_info": {
   "codemirror_mode": {
    "name": "ipython",
    "version": 3
   },
   "file_extension": ".py",
   "mimetype": "text/x-python",
   "name": "python",
   "nbconvert_exporter": "python",
   "pygments_lexer": "ipython3",
   "version": "3.5.2"
  }
 },
 "nbformat": 4,
 "nbformat_minor": 1
}
