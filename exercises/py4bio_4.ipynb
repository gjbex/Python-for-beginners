{
 "cells": [
  {
   "cell_type": "markdown",
   "metadata": {
    "slideshow": {
     "slide_type": "slide"
    }
   },
   "source": [
    "# Python for biologists, chapter 4"
   ]
  },
  {
   "cell_type": "markdown",
   "metadata": {},
   "source": [
    "Geert Jan  Bex ([geertjan.bex@uhasselt.be](mailto:geertjan.bex@uhasselt.be))"
   ]
  },
  {
   "cell_type": "markdown",
   "metadata": {},
   "source": [
    "Exercises taken from 'Python for biologists', Martin Jones."
   ]
  },
  {
   "cell_type": "markdown",
   "metadata": {
    "slideshow": {
     "slide_type": "slide"
    }
   },
   "source": [
    "## Processing DNA in a file"
   ]
  },
  {
   "cell_type": "markdown",
   "metadata": {},
   "source": [
    "The file `dna_seqs_4.txt` contains DNA sequences, one per line.  Each sequence starts with the same 14 base pair fragment, a sequencing adapter that should be removed. Writa a program that reads the sequences from the input file, and writes the trimmed sequences to a new file `trimmed_dna_seqs_4.txt`, and prints the length of the original and the new sequences to the screen."
   ]
  },
  {
   "cell_type": "code",
   "execution_count": 9,
   "metadata": {
    "collapsed": true
   },
   "outputs": [],
   "source": [
    "seqs_filename = 'dna_seqs_4.txt'\n",
    "trimmed_seqs_filename = 'trimmed_dna_seqs_4.txt'"
   ]
  },
  {
   "cell_type": "code",
   "execution_count": 10,
   "metadata": {
    "collapsed": false,
    "slideshow": {
     "slide_type": "subslide"
    }
   },
   "outputs": [
    {
     "name": "stdout",
     "output_type": "stream",
     "text": [
      "length 56 -> 42\n",
      "length 51 -> 37\n",
      "length 62 -> 48\n",
      "length 47 -> 33\n",
      "length 61 -> 47\n"
     ]
    }
   ],
   "source": [
    "with open(seqs_filename, 'r') as seq_file:\n",
    "    with open(trimmed_seqs_filename, 'w') as trimmed_seqs_file:\n",
    "        for seq in seq_file:\n",
    "            seq = seq.rstrip()\n",
    "            new_seq = seq[14:]\n",
    "            print('length {0:d} -> {1:d}'.format(len(seq), len(new_seq)))\n",
    "            print(new_seq, file=trimmed_seqs_file)\n",
    "    "
   ]
  },
  {
   "cell_type": "code",
   "execution_count": 11,
   "metadata": {
    "collapsed": false,
    "slideshow": {
     "slide_type": "fragment"
    }
   },
   "outputs": [
    {
     "name": "stdout",
     "output_type": "stream",
     "text": [
      "TCGATCGATCGATCGATCGATCGATCGATCGATCGATCGATC\r\n",
      "ACTGATCGATCGATCGATCGATCGATGCTATCGTCGT\r\n",
      "ATCGATCACGATCTATCGTACGTATGCATATCGATATCGATCGTAGTC\r\n",
      "ACTATCGATGATCTAGCTACGATCGTAGCTGTA\r\n",
      "ACTAGCTAGTCTCGATGCATGATCAGCTTAGCTGATGATGCTATGCA\r\n"
     ]
    }
   ],
   "source": [
    "%cat trimmed_dna_seqs.txt"
   ]
  },
  {
   "cell_type": "markdown",
   "metadata": {
    "slideshow": {
     "slide_type": "slide"
    }
   },
   "source": [
    "## Multiple exons from genomic data"
   ]
  },
  {
   "cell_type": "markdown",
   "metadata": {},
   "source": [
    "Given a file `genomic_dna_4.txt` containing a DNA sequence, and a file `exons_4.txt` with exon positions, one start and end position per line.  Write a program that reads the positions, and splices out the introns in the given DNA sequence, writing the output to `genomic_dna_4_coding.txt`."
   ]
  },
  {
   "cell_type": "code",
   "execution_count": 16,
   "metadata": {
    "collapsed": false
   },
   "outputs": [
    {
     "name": "stdout",
     "output_type": "stream",
     "text": [
      "5,58\r\n",
      "72,133\r\n",
      "190,276\r\n",
      "340,398\r\n"
     ]
    }
   ],
   "source": [
    "%cat exons_4.txt"
   ]
  },
  {
   "cell_type": "code",
   "execution_count": 13,
   "metadata": {
    "collapsed": true
   },
   "outputs": [],
   "source": [
    "seq_filename = 'genomic_dna_4.txt'\n",
    "exons_filename = 'exons_4.txt'\n",
    "coding_seq_filename = 'genomic_dna_4_coding.txt'"
   ]
  },
  {
   "cell_type": "code",
   "execution_count": 18,
   "metadata": {
    "collapsed": false,
    "slideshow": {
     "slide_type": "subslide"
    }
   },
   "outputs": [],
   "source": [
    "exon_pos = []\n",
    "with open(exons_filename, 'r') as exons_file:\n",
    "    for line in exons_file:\n",
    "        start_str, end_str = line.rstrip().split(',')\n",
    "        exon_pos.append((int(start_str), int(end_str)))\n",
    "with open(seq_filename, 'r') as seq_file:\n",
    "    dna = seq_file.read().rstrip()\n",
    "with open(coding_seq_filename, 'w') as coding_seq_file:\n",
    "    for start_pos, end_pos in exon_pos:\n",
    "        coding_seq_file.write(dna[start_pos - 1:end_pos])"
   ]
  },
  {
   "cell_type": "code",
   "execution_count": 19,
   "metadata": {
    "collapsed": false,
    "slideshow": {
     "slide_type": "fragment"
    }
   },
   "outputs": [
    {
     "name": "stdout",
     "output_type": "stream",
     "text": [
      "TCGTACCGTCGACGATGCTACGATCGTCGATCGTAGTCGATCATCGATCGATCGTCGATCGATCGATATCGATCGATATCATCGATGCATCGATCATCGATCGATCGATCGATCGATCGATCGATCGATCGTAGCTAGCTAGCTAGATCGATCATCATCGTAGCTAGCTCGACTAGCTACGTACGATCGATGCATCGATCGTAACGATCGATCGATCGATCGATCGATCGATCGATCGATCGATCGTAGCTAGCTACGATCG"
     ]
    }
   ],
   "source": [
    "%cat genomic_dna_4_coding.txt"
   ]
  }
 ],
 "metadata": {
  "celltoolbar": "Slideshow",
  "kernelspec": {
   "display_name": "Python 3",
   "language": "python",
   "name": "python3"
  },
  "language_info": {
   "codemirror_mode": {
    "name": "ipython",
    "version": 3
   },
   "file_extension": ".py",
   "mimetype": "text/x-python",
   "name": "python",
   "nbconvert_exporter": "python",
   "pygments_lexer": "ipython3",
   "version": "3.5.2"
  }
 },
 "nbformat": 4,
 "nbformat_minor": 0
}
