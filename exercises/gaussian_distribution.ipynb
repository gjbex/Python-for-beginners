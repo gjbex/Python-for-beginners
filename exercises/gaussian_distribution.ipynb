{
 "cells": [
  {
   "cell_type": "markdown",
   "metadata": {},
   "source": [
    "# Gaussian distributions"
   ]
  },
  {
   "cell_type": "markdown",
   "metadata": {},
   "source": [
    "Import the required modules."
   ]
  },
  {
   "cell_type": "code",
   "execution_count": 15,
   "metadata": {
    "ExecuteTime": {
     "end_time": "2019-11-09T16:58:41.691668Z",
     "start_time": "2019-11-09T16:58:41.668232Z"
    }
   },
   "outputs": [],
   "source": [
    "import matplotlib.pyplot as plt\n",
    "%matplotlib inline\n",
    "import numpy as np\n",
    "import random"
   ]
  },
  {
   "cell_type": "markdown",
   "metadata": {},
   "source": [
    "Students are doing an exam, marked between 0 and 20, and rounded to half a point.  Since we simulate the exam, we assume that the scores will be distributed according to a Gauss distribution with mean value `mu` and standard deviation `sigma`.  The number of students participating in the exam is `nr_results`."
   ]
  },
  {
   "cell_type": "code",
   "execution_count": 17,
   "metadata": {
    "ExecuteTime": {
     "end_time": "2019-11-09T16:59:44.685134Z",
     "start_time": "2019-11-09T16:59:44.651979Z"
    }
   },
   "outputs": [],
   "source": [
    "mu = 16.0\n",
    "sigma = 1.5\n",
    "nr_results = 200"
   ]
  },
  {
   "cell_type": "markdown",
   "metadata": {},
   "source": [
    "Since it is possible that when we sample from a Gaussian distribution we will get negative scores, or scores above 20, we reject those, and continue to sample until we have `nr_results` scores."
   ]
  },
  {
   "cell_type": "code",
   "execution_count": 18,
   "metadata": {
    "ExecuteTime": {
     "end_time": "2019-11-09T16:59:45.798543Z",
     "start_time": "2019-11-09T16:59:45.783883Z"
    }
   },
   "outputs": [],
   "source": [
    "results = list()\n",
    "while len(results) < nr_results:\n",
    "    result = random.gauss(mu, sigma)\n",
    "    if 0.0 <= result <= 20.0:\n",
    "        results.append(round(2*result)/2)"
   ]
  },
  {
   "cell_type": "markdown",
   "metadata": {},
   "source": [
    "We can visualize the scores using a histogram."
   ]
  },
  {
   "cell_type": "code",
   "execution_count": 21,
   "metadata": {
    "ExecuteTime": {
     "end_time": "2019-11-09T17:10:12.802010Z",
     "start_time": "2019-11-09T17:10:12.219837Z"
    }
   },
   "outputs": [
    {
     "data": {
      "image/png": "[encoded data removed]",
      "text/plain": [
       "<Figure size 432x288 with 1 Axes>"
      ]
     },
     "metadata": {
      "needs_background": "light"
     },
     "output_type": "display_data"
    }
   ],
   "source": [
    "plt.hist(results, bins=np.linspace(0.0, 20.0, 41));\n",
    "plt.xlabel('score');\n",
    "plt.ylabel('nr. students');"
   ]
  },
  {
   "cell_type": "markdown",
   "metadata": {},
   "source": [
    "However, school management prefers scores that are on average somewhat lower, and have a larger standard deviation, i.e., `mu_req` and `sigma_req`.  We can rescale the scores so that the new scores meet these criteria.  Using the formula\n",
    "$$\n",
    "\\frac{x - \\mu}{\\sigma} = \\frac{x_{\\rm new} - \\mu_{\\rm new}}{\\sigma_{\\rm new}}\n",
    "$$\n",
    "we can obtain the new score as follows:\n",
    "$$\n",
    "x_{\\rm new} = \\frac{\\sigma_{\\rm new}}{\\sigma}(x - \\mu) + \\mu_{\\rm new}\n",
    "$$"
   ]
  },
  {
   "cell_type": "code",
   "execution_count": 22,
   "metadata": {
    "ExecuteTime": {
     "end_time": "2019-11-09T17:19:14.065703Z",
     "start_time": "2019-11-09T17:19:14.055171Z"
    }
   },
   "outputs": [],
   "source": [
    "mu_new = 14.0\n",
    "sigma_new = 4.0"
   ]
  },
  {
   "cell_type": "markdown",
   "metadata": {},
   "source": [
    "Rescale and round the results."
   ]
  },
  {
   "cell_type": "code",
   "execution_count": 35,
   "metadata": {
    "ExecuteTime": {
     "end_time": "2019-11-09T17:26:39.742326Z",
     "start_time": "2019-11-09T17:26:39.734579Z"
    }
   },
   "outputs": [],
   "source": [
    "new_results = map(lambda x: sigma_new*(x - mu)/sigma + mu_new, results)\n",
    "new_results = list(map(lambda x: round(2*x)/2, new_results))"
   ]
  },
  {
   "cell_type": "markdown",
   "metadata": {},
   "source": [
    "Plot the resullts."
   ]
  },
  {
   "cell_type": "code",
   "execution_count": 36,
   "metadata": {
    "ExecuteTime": {
     "end_time": "2019-11-09T17:26:48.848992Z",
     "start_time": "2019-11-09T17:26:48.435659Z"
    },
    "scrolled": false
   },
   "outputs": [
    {
     "data": {
      "image/png": "[encoded data removed]",
      "text/plain": [
       "<Figure size 432x288 with 1 Axes>"
      ]
     },
     "metadata": {
      "needs_background": "light"
     },
     "output_type": "display_data"
    }
   ],
   "source": [
    "plt.hist(new_results, bins=np.linspace(0.0, 20.0, 41));\n",
    "plt.xlabel('score');\n",
    "plt.ylabel('nr. students');"
   ]
  },
  {
   "cell_type": "code",
   "execution_count": 39,
   "metadata": {
    "ExecuteTime": {
     "end_time": "2019-11-09T17:28:39.443021Z",
     "start_time": "2019-11-09T17:28:39.435494Z"
    }
   },
   "outputs": [
    {
     "name": "stdout",
     "output_type": "stream",
     "text": [
      "mean = 14.3, stddev = 4.14\n"
     ]
    }
   ],
   "source": [
    "print(f'mean = {np.mean(new_results):.1f}, stddev = {np.std(new_results):.2f}')"
   ]
  }
 ],
 "metadata": {
  "kernelspec": {
   "display_name": "Python 3",
   "language": "python",
   "name": "python3"
  },
  "language_info": {
   "codemirror_mode": {
    "name": "ipython",
    "version": 3
   },
   "file_extension": ".py",
   "mimetype": "text/x-python",
   "name": "python",
   "nbconvert_exporter": "python",
   "pygments_lexer": "ipython3",
   "version": "3.7.5"
  }
 },
 "nbformat": 4,
 "nbformat_minor": 2
}
