{
 "cells": [
  {
   "cell_type": "markdown",
   "metadata": {
    "slideshow": {
     "slide_type": "slide"
    }
   },
   "source": [
    "\n",
    "# Python for biologists, chapter 5"
   ]
  },
  {
   "cell_type": "markdown",
   "metadata": {},
   "source": [
    "Geert Jan Bex ([geertjan.bex@uhasselt.be](mailto:geertjan.bex@uhasselt.be))"
   ]
  },
  {
   "cell_type": "markdown",
   "metadata": {},
   "source": [
    "Exercises taken from 'Python for biologists', Martin Jones."
   ]
  },
  {
   "cell_type": "markdown",
   "metadata": {
    "slideshow": {
     "slide_type": "slide"
    }
   },
   "source": [
    "## Percentage of amino acid residues, part one\n"
   ]
  },
  {
   "cell_type": "markdown",
   "metadata": {},
   "source": [
    "Write a function that computes the percentage of amino acid residues.  It takes two arguments, the protein sequence, and an amino acid residue.  Test the function for the given input and output."
   ]
  },
  {
   "cell_type": "code",
   "execution_count": 2,
   "metadata": {
    "collapsed": true
   },
   "outputs": [],
   "source": [
    "input = [\n",
    "    ('MSRSLLLRFLLFLLLLPPLP', 'M'),\n",
    "    ('MSRSLLLRFLLFLLLLPPLP', 'r'),\n",
    "    ('msrslllrfllfllllpplp', 'L'),\n",
    "    ('MSRSLLLRFLLFLLLLPPLP', 'Y'),\n",
    "]\n",
    "output = [5, 10, 50, 0]"
   ]
  },
  {
   "cell_type": "code",
   "execution_count": 5,
   "metadata": {
    "collapsed": true,
    "slideshow": {
     "slide_type": "subslide"
    }
   },
   "outputs": [],
   "source": [
    "def acid_residue_percentage(protein, amino_acid):\n",
    "    match_count = protein.upper().count(amino_acid.upper())\n",
    "    return int(round(100.0*match_count/len(protein)))"
   ]
  },
  {
   "cell_type": "code",
   "execution_count": 6,
   "metadata": {
    "collapsed": false,
    "slideshow": {
     "slide_type": "fragment"
    }
   },
   "outputs": [],
   "source": [
    "for args, result in zip(input, output):\n",
    "    assert acid_residue_percentage(*args) == result"
   ]
  },
  {
   "cell_type": "markdown",
   "metadata": {
    "slideshow": {
     "slide_type": "slide"
    }
   },
   "source": [
    "## Percentage of amino acid residues, part two"
   ]
  },
  {
   "cell_type": "markdown",
   "metadata": {},
   "source": [
    "Write a function that computes the percentage of amino acid residues.  It takes two arguments, the protein sequence, and, optionally, a list of amino acids.  If no list of amino acids is given, the function should compute the percentage for hydrophobic amino acid residues, i.e., A, I, L, M, F, W, Y, and V.  Test the function for the given input and output."
   ]
  },
  {
   "cell_type": "code",
   "execution_count": 32,
   "metadata": {
    "collapsed": false
   },
   "outputs": [],
   "source": [
    "input = [\n",
    "    ('MSRSLLLRFLLFLLLLPPLP', ['M']),                                            \n",
    "    ('MSRSLLLRFLLFLLLLPPLP', ['M', 'L']),\n",
    "    ('MSRSLLLRFLLFLLLLPPLP', ['F', 'S', 'L']),\n",
    "    ('MSRSLLLRFLLFLLLLPPLP', ),\n",
    "]\n",
    "output = [5, 55, 70, 65]"
   ]
  },
  {
   "cell_type": "code",
   "execution_count": 33,
   "metadata": {
    "collapsed": false,
    "slideshow": {
     "slide_type": "subslide"
    }
   },
   "outputs": [],
   "source": [
    "default_amino_acides = ['A', 'I', 'L', 'M', 'F', 'W', 'Y', 'V']\n",
    "def acid_residues_percentage(protein, amino_acids=default_amino_acides):\n",
    "    protein = protein.upper()\n",
    "    total_count = 0\n",
    "    for amino_acid in amino_acids:\n",
    "        total_count += protein.count(amino_acid.upper())\n",
    "    return int(round(100.0*total_count/len(protein)))"
   ]
  },
  {
   "cell_type": "code",
   "execution_count": 34,
   "metadata": {
    "collapsed": false,
    "slideshow": {
     "slide_type": "fragment"
    }
   },
   "outputs": [],
   "source": [
    "for args, result in zip(input, output):\n",
    "    assert acid_residues_percentage(*args) == result"
   ]
  }
 ],
 "metadata": {
  "anaconda-cloud": {},
  "celltoolbar": "Slideshow",
  "kernelspec": {
   "display_name": "Python [default]",
   "language": "python",
   "name": "python3"
  },
  "language_info": {
   "codemirror_mode": {
    "name": "ipython",
    "version": 3
   },
   "file_extension": ".py",
   "mimetype": "text/x-python",
   "name": "python",
   "nbconvert_exporter": "python",
   "pygments_lexer": "ipython3",
   "version": "3.5.2"
  }
 },
 "nbformat": 4,
 "nbformat_minor": 0
}
