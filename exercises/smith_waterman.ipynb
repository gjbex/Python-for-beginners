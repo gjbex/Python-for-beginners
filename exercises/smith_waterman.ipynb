{
 "cells": [
  {
   "cell_type": "markdown",
   "metadata": {},
   "source": [
    "# Smith-Waterman local alignment algorithm"
   ]
  },
  {
   "cell_type": "markdown",
   "metadata": {},
   "source": [
    "Load modules required for the implementation."
   ]
  },
  {
   "cell_type": "code",
   "execution_count": 1,
   "metadata": {
    "collapsed": true
   },
   "outputs": [],
   "source": [
    "import numpy as np\n",
    "from operator import itemgetter"
   ]
  },
  {
   "cell_type": "markdown",
   "metadata": {},
   "source": [
    "For a high-level description of the Smith-Waterman algorithm, see, e.g., the [Wikipedia entry](https://en.wikipedia.org/wiki/Smith%E2%80%93Waterman_algorithm)."
   ]
  },
  {
   "cell_type": "markdown",
   "metadata": {},
   "source": [
    "Define two sequences to align."
   ]
  },
  {
   "cell_type": "code",
   "execution_count": 2,
   "metadata": {
    "collapsed": true
   },
   "outputs": [],
   "source": [
    "seq1 = 'AGCACACA'\n",
    "seq2 = 'ACACACTA'"
   ]
  },
  {
   "cell_type": "markdown",
   "metadata": {},
   "source": [
    "Define similarity function."
   ]
  },
  {
   "cell_type": "code",
   "execution_count": 3,
   "metadata": {
    "collapsed": true
   },
   "outputs": [],
   "source": [
    "def similarity(a, b):\n",
    "    return 2 if a == b else -1"
   ]
  },
  {
   "cell_type": "markdown",
   "metadata": {},
   "source": [
    "Define gap scoring."
   ]
  },
  {
   "cell_type": "code",
   "execution_count": 4,
   "metadata": {
    "collapsed": true
   },
   "outputs": [],
   "source": [
    "gap_scoring = -1"
   ]
  },
  {
   "cell_type": "markdown",
   "metadata": {},
   "source": [
    "Define function to initalize the scoring matrix."
   ]
  },
  {
   "cell_type": "code",
   "execution_count": 5,
   "metadata": {
    "collapsed": true
   },
   "outputs": [],
   "source": [
    "def init_scoring_matrix(m, n):\n",
    "    matrix = np.empty((m + 1, n + 1), dtype=int, order='C')\n",
    "    matrix[0, :] = 0\n",
    "    matrix[:, 0] = 0\n",
    "    return matrix"
   ]
  },
  {
   "cell_type": "markdown",
   "metadata": {},
   "source": [
    "Define the function that initializes the data structure to hold the path through the scoring matrix. This will be a matrix of tuples, where each tuple denotes a position in the scoring matrix, i.e., the one it was derived from. Note that this  could be implemented as an `(m, n, 2)` matrix as well."
   ]
  },
  {
   "cell_type": "code",
   "execution_count": 6,
   "metadata": {
    "collapsed": false
   },
   "outputs": [],
   "source": [
    "def init_path_matrix(m, n):\n",
    "    return [[(-1, -1) for j in range(n)] for i in range(m)]"
   ]
  },
  {
   "cell_type": "markdown",
   "metadata": {},
   "source": [
    "Define the function to compute the score at a given matrix position."
   ]
  },
  {
   "cell_type": "code",
   "execution_count": 7,
   "metadata": {
    "collapsed": true
   },
   "outputs": [],
   "source": [
    "def compute_score(seq1, seq2, matrix, i, j):\n",
    "    upper_left = (matrix[i - 1, j - 1] + similarity(seq1[i - 1], seq2[j - 1]), (i - 1, j - 1))\n",
    "    upper = (max([matrix[i -  k, j] + gap_scoring for k in range(1, i + 1)]), (i - 1, j))\n",
    "    left = (max([matrix[i, j - l] + gap_scoring for l in range(1, j + 1)]), (i, j - 1))\n",
    "    return max([(0, (i - 1, j - 1)), upper_left, upper, left], key=itemgetter(0))"
   ]
  },
  {
   "cell_type": "markdown",
   "metadata": {},
   "source": [
    "Function to compute the scoring matrix for two given sequences."
   ]
  },
  {
   "cell_type": "code",
   "execution_count": 8,
   "metadata": {
    "collapsed": true
   },
   "outputs": [],
   "source": [
    "def compute_scoring(seq1, seq2):\n",
    "    scoring_matrix = init_scoring_matrix(len(seq1), len(seq2))\n",
    "    path_matrix = init_path_matrix(len(seq1), len(seq2))\n",
    "    for i in range(1, len(seq1) + 1):\n",
    "        for j in range(1, len(seq2) + 1):\n",
    "            scoring_matrix[i, j], path_matrix[i - 1][j - 1] = compute_score(seq1, seq2, scoring_matrix, i, j)\n",
    "    return scoring_matrix, path_matrix"
   ]
  },
  {
   "cell_type": "markdown",
   "metadata": {},
   "source": [
    "Compute the scoring and the path matrices for the two given sequences."
   ]
  },
  {
   "cell_type": "code",
   "execution_count": 9,
   "metadata": {
    "collapsed": false
   },
   "outputs": [],
   "source": [
    "scoring_matrix, path_matrix = compute_scoring(seq1, seq2)"
   ]
  },
  {
   "cell_type": "code",
   "execution_count": 34,
   "metadata": {
    "collapsed": false
   },
   "outputs": [
    {
     "data": {
      "text/plain": [
       "array([[ 0,  0,  0,  0,  0,  0,  0,  0,  0],\n",
       "       [ 0,  2,  1,  2,  1,  2,  1,  1,  2],\n",
       "       [ 0,  1,  1,  1,  1,  1,  1,  0,  1],\n",
       "       [ 0,  1,  3,  2,  3,  2,  3,  2,  2],\n",
       "       [ 0,  2,  2,  5,  4,  5,  4,  4,  4],\n",
       "       [ 0,  1,  4,  4,  7,  6,  7,  6,  6],\n",
       "       [ 0,  2,  3,  6,  6,  9,  8,  8,  8],\n",
       "       [ 0,  1,  4,  5,  8,  8, 11, 10, 10],\n",
       "       [ 0,  2,  3,  6,  7, 10, 10, 10, 12]])"
      ]
     },
     "execution_count": 34,
     "metadata": {},
     "output_type": "execute_result"
    }
   ],
   "source": [
    "scoring_matrix"
   ]
  },
  {
   "cell_type": "code",
   "execution_count": 10,
   "metadata": {
    "collapsed": false
   },
   "outputs": [
    {
     "data": {
      "text/plain": [
       "[[(0, 0), (1, 1), (0, 2), (1, 3), (0, 4), (1, 5), (1, 6), (0, 7)],\n",
       " [(1, 1), (1, 1), (1, 3), (1, 3), (1, 5), (1, 5), (1, 6), (1, 8)],\n",
       " [(2, 1), (2, 1), (3, 2), (2, 3), (3, 4), (2, 5), (3, 6), (3, 7)],\n",
       " [(3, 0), (3, 2), (3, 2), (4, 3), (3, 4), (4, 5), (4, 6), (3, 7)],\n",
       " [(4, 1), (4, 1), (4, 3), (4, 3), (5, 4), (4, 5), (5, 6), (5, 7)],\n",
       " [(5, 0), (5, 2), (5, 2), (5, 4), (5, 4), (6, 5), (6, 6), (5, 7)],\n",
       " [(6, 1), (6, 1), (6, 3), (6, 3), (6, 5), (6, 5), (7, 6), (7, 7)],\n",
       " [(7, 0), (7, 2), (7, 2), (7, 4), (7, 4), (7, 6), (7, 6), (7, 7)]]"
      ]
     },
     "execution_count": 10,
     "metadata": {},
     "output_type": "execute_result"
    }
   ],
   "source": [
    "path_matrix"
   ]
  },
  {
   "cell_type": "markdown",
   "metadata": {},
   "source": [
    "Define a function that computes the actual alignment based on the scoring and the path matrix."
   ]
  },
  {
   "cell_type": "code",
   "execution_count": 28,
   "metadata": {
    "collapsed": false
   },
   "outputs": [],
   "source": [
    "def compute_alignment(seq1, seq2, scoring_matrix, path_matrix):\n",
    "    a_seq1, a_seq2 = '', ''\n",
    "    max_pos = np.unravel_index(np.argmax(scoring_matrix), scoring_matrix.shape, order='C')\n",
    "    x, y = max_pos[0] - 1, max_pos[1] - 1\n",
    "    while (scoring_matrix[x + 1, y + 1] != 0):\n",
    "        new_x = path_matrix[x][y][0] - 1\n",
    "        new_y = path_matrix[x][y][1] - 1\n",
    "        if x == new_x:\n",
    "            a_seq1 = '-' + a_seq1\n",
    "            a_seq2 = seq2[y] + a_seq2\n",
    "        elif y == new_y:\n",
    "            a_seq1 = seq1[x] + a_seq1\n",
    "            a_seq2 = '-' + a_seq2\n",
    "        else:\n",
    "            a_seq1 = seq1[x] + a_seq1\n",
    "            a_seq2 = seq2[y] + a_seq2\n",
    "        x, y = new_x, new_y\n",
    "    return a_seq1, a_seq2"
   ]
  },
  {
   "cell_type": "markdown",
   "metadata": {},
   "source": [
    "Compute the alignment for the example sequences, and print them aligned."
   ]
  },
  {
   "cell_type": "code",
   "execution_count": 29,
   "metadata": {
    "collapsed": false
   },
   "outputs": [
    {
     "name": "stdout",
     "output_type": "stream",
     "text": [
      "AGCACAC-A\n",
      "A-CACACTA\n"
     ]
    }
   ],
   "source": [
    "print('\\n'.join(compute_alignment(seq1, seq2, scoring_matrix, path_matrix)))"
   ]
  },
  {
   "cell_type": "markdown",
   "metadata": {},
   "source": [
    "Define a function that ties all together."
   ]
  },
  {
   "cell_type": "code",
   "execution_count": 30,
   "metadata": {
    "collapsed": true
   },
   "outputs": [],
   "source": [
    "def align(seq1, seq2):\n",
    "    scoring_matrix, path_matrix = compute_scoring(seq1, seq2)\n",
    "    return compute_alignment(seq1, seq2, scoring_matrix, path_matrix)"
   ]
  }
 ],
 "metadata": {
  "kernelspec": {
   "display_name": "Python 3",
   "language": "python",
   "name": "python3"
  },
  "language_info": {
   "codemirror_mode": {
    "name": "ipython",
    "version": 3
   },
   "file_extension": ".py",
   "mimetype": "text/x-python",
   "name": "python",
   "nbconvert_exporter": "python",
   "pygments_lexer": "ipython3",
   "version": "3.5.2"
  }
 },
 "nbformat": 4,
 "nbformat_minor": 0
}
