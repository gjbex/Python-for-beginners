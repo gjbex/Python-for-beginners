{
 "cells": [
  {
   "cell_type": "markdown",
   "metadata": {},
   "source": [
    "# Introduction"
   ]
  },
  {
   "cell_type": "markdown",
   "metadata": {},
   "source": [
    "A message is coded by changing letters according to the following algorithm.  Number the letters from 0 to 25 and add $a x + b$ to each letter.  $a$ and $b$ are positive integers, as is $x$.  However, $x$ is incremented by one for each character in the message.  The resulting number is reduced to the interval $[0, 25]$ by substracting 26 repeatedly.\n",
    "\n",
    "Decoding the message is similar, bu $a x + b$ is substracted from the letter's number and 26 is added repeatedly until the resulting number represents a letter.\n",
    "\n",
    "To decode a coded message, you need the values $a$ and $b$, so they form the encryption key."
   ]
  },
  {
   "cell_type": "markdown",
   "metadata": {},
   "source": [
    "# Encoding/decoding characters"
   ]
  },
  {
   "cell_type": "markdown",
   "metadata": {},
   "source": [
    "## Test for correctness"
   ]
  },
  {
   "cell_type": "markdown",
   "metadata": {},
   "source": [
    "To verify this implementation, we can encode and decode the lowercase letters for a range of values of $a$, $b$ and $x$, and check that the original character is recovered when it is decoded."
   ]
  },
  {
   "cell_type": "code",
   "execution_count": 1,
   "metadata": {},
   "outputs": [],
   "source": [
    "import string"
   ]
  },
  {
   "cell_type": "code",
   "execution_count": 2,
   "metadata": {},
   "outputs": [],
   "source": [
    "def test_char_encryption(encrypt, decrypt, max_x=100):\n",
    "    for char in string.ascii_lowercase:\n",
    "        for a in range(20):\n",
    "            for b in range(20):\n",
    "                for x in range(max_x):\n",
    "                    coded = encrypt(char, a, b, x)\n",
    "                    if not coded.islower():\n",
    "                        print(f'problem for {char} -> {coded} with {a}, {b}, {x}')\n",
    "                    decoded = decrypt(coded, a, b, x)\n",
    "                    if decoded != char:\n",
    "                        print(f'problem for {char} -> {coded} -> {decoded} using {a}, {b}, {x}')"
   ]
  },
  {
   "cell_type": "markdown",
   "metadata": {},
   "source": [
    "## Simple solution"
   ]
  },
  {
   "cell_type": "markdown",
   "metadata": {},
   "source": [
    "Simple implementation to encode and decode a single character could be the following."
   ]
  },
  {
   "cell_type": "code",
   "execution_count": 3,
   "metadata": {},
   "outputs": [],
   "source": [
    "def encode_simple(char, a, b, x):\n",
    "    new_char_ascii = ord(char) + a*x + b\n",
    "    while new_char_ascii > ord('z'):\n",
    "        new_char_ascii -= 26\n",
    "    return chr(new_char_ascii)"
   ]
  },
  {
   "cell_type": "code",
   "execution_count": 4,
   "metadata": {},
   "outputs": [
    {
     "data": {
      "text/plain": [
       "'w'"
      ]
     },
     "execution_count": 4,
     "metadata": {},
     "output_type": "execute_result"
    }
   ],
   "source": [
    "encode_simple('a', 5, 7, 3)"
   ]
  },
  {
   "cell_type": "code",
   "execution_count": 5,
   "metadata": {},
   "outputs": [],
   "source": [
    "def decode_simple(char, a, b, x):\n",
    "    new_char_ascii = ord(char) - (a*x + b)\n",
    "    while new_char_ascii < ord('a'):\n",
    "        new_char_ascii += 26\n",
    "    return chr(new_char_ascii)"
   ]
  },
  {
   "cell_type": "code",
   "execution_count": 6,
   "metadata": {},
   "outputs": [
    {
     "data": {
      "text/plain": [
       "'a'"
      ]
     },
     "execution_count": 6,
     "metadata": {},
     "output_type": "execute_result"
    }
   ],
   "source": [
    "decode_simple('w', 5, 7, 3)"
   ]
  },
  {
   "cell_type": "markdown",
   "metadata": {},
   "source": [
    "Run the test and time."
   ]
  },
  {
   "cell_type": "code",
   "execution_count": 7,
   "metadata": {},
   "outputs": [
    {
     "name": "stdout",
     "output_type": "stream",
     "text": [
      "CPU times: user 5.38 s, sys: 46 ms, total: 5.42 s\n",
      "Wall time: 5.59 s\n"
     ]
    }
   ],
   "source": [
    "%time test_char_encryption(encode_simple, decode_simple)"
   ]
  },
  {
   "cell_type": "markdown",
   "metadata": {},
   "source": [
    "A drawback of this approach is that many iterations of the while loop are required for long messages, as $x$ increases linearly with the length of the message."
   ]
  },
  {
   "cell_type": "markdown",
   "metadata": {},
   "source": [
    "## Implementation using modulo operator"
   ]
  },
  {
   "cell_type": "markdown",
   "metadata": {},
   "source": [
    "The modulo operator can be used to simplify the implementation and eliminate the issue that is inherent in the starightforward implementation."
   ]
  },
  {
   "cell_type": "code",
   "execution_count": 8,
   "metadata": {},
   "outputs": [],
   "source": [
    "def encode_char(char, a, b, x):\n",
    "    delta = a*x + b\n",
    "    return chr(ord('a') + (ord(char) - ord('a') + delta) % 26)"
   ]
  },
  {
   "cell_type": "code",
   "execution_count": 9,
   "metadata": {},
   "outputs": [
    {
     "data": {
      "text/plain": [
       "'w'"
      ]
     },
     "execution_count": 9,
     "metadata": {},
     "output_type": "execute_result"
    }
   ],
   "source": [
    "encode_char('a', 5, 7, 3)"
   ]
  },
  {
   "cell_type": "code",
   "execution_count": 10,
   "metadata": {},
   "outputs": [],
   "source": [
    "def decode_char(char, a, b, x):\n",
    "    delta = a*x + b\n",
    "    return chr(ord('a') + (ord(char) - ord('a') - delta) % 26)"
   ]
  },
  {
   "cell_type": "code",
   "execution_count": 11,
   "metadata": {},
   "outputs": [
    {
     "data": {
      "text/plain": [
       "'a'"
      ]
     },
     "execution_count": 11,
     "metadata": {},
     "output_type": "execute_result"
    }
   ],
   "source": [
    "decode_char('w', 5, 7, 3)"
   ]
  },
  {
   "cell_type": "markdown",
   "metadata": {},
   "source": [
    "Run the test and time."
   ]
  },
  {
   "cell_type": "code",
   "execution_count": 12,
   "metadata": {},
   "outputs": [
    {
     "name": "stdout",
     "output_type": "stream",
     "text": [
      "CPU times: user 1.23 s, sys: 2.84 ms, total: 1.23 s\n",
      "Wall time: 1.26 s\n"
     ]
    }
   ],
   "source": [
    "%time test_char_encryption(encode_char, decode_char)"
   ]
  },
  {
   "cell_type": "markdown",
   "metadata": {},
   "source": [
    "Note that this implementation is significantly faster for texts that are less than 100 characters long."
   ]
  },
  {
   "cell_type": "markdown",
   "metadata": {},
   "source": [
    "# Encoding/decoding texts"
   ]
  },
  {
   "cell_type": "markdown",
   "metadata": {},
   "source": [
    "## Test for encryption/decryption"
   ]
  },
  {
   "cell_type": "markdown",
   "metadata": {},
   "source": [
    "Test function to encrypt/decrypt text."
   ]
  },
  {
   "cell_type": "code",
   "execution_count": 13,
   "metadata": {},
   "outputs": [],
   "source": [
    "import random"
   ]
  },
  {
   "cell_type": "code",
   "execution_count": 14,
   "metadata": {},
   "outputs": [],
   "source": [
    "def random_text(nr_chars):\n",
    "    return ''.join(random.choices(string.ascii_lowercase, k=nr_chars))"
   ]
  },
  {
   "cell_type": "code",
   "execution_count": 15,
   "metadata": {},
   "outputs": [],
   "source": [
    "def test_text_encryption(crypt_function, nr_chars=10_000):\n",
    "    text = random_text(nr_chars)\n",
    "    for a in range(1, 20):\n",
    "        for b in range(1, 20):\n",
    "            encoding_text = crypt_function(text, a, b, True)\n",
    "            decoding_text = crypt_function(encoding_text, a, b, False)\n",
    "            if  text != decoding_text:\n",
    "                print(f'problem for {a} and {b}')"
   ]
  },
  {
   "cell_type": "markdown",
   "metadata": {},
   "source": [
    "## Crypt function"
   ]
  },
  {
   "cell_type": "markdown",
   "metadata": {},
   "source": [
    "The `crypt` function takes a text to encryp/dectypt and the $a$ and $b$>"
   ]
  },
  {
   "cell_type": "code",
   "execution_count": 16,
   "metadata": {},
   "outputs": [],
   "source": [
    "def crypt(text, a, b, is_encode):\n",
    "    crypt_function = encode_char if is_encode else decode_char\n",
    "    x = 0\n",
    "    new_text = ''\n",
    "    for char in text:\n",
    "        if char.islower():\n",
    "            char = crypt_function(char, a, b, x)\n",
    "            x += 1\n",
    "        new_text += char\n",
    "    return new_text"
   ]
  },
  {
   "cell_type": "code",
   "execution_count": 20,
   "metadata": {},
   "outputs": [
    {
     "name": "stdout",
     "output_type": "stream",
     "text": [
      "atzo jy l jzsy\n"
     ]
    }
   ],
   "source": [
    "encoded = crypt('this is a test', 5, 7, True)\n",
    "print(encoded)"
   ]
  },
  {
   "cell_type": "code",
   "execution_count": 21,
   "metadata": {},
   "outputs": [
    {
     "data": {
      "text/plain": [
       "'this is a test'"
      ]
     },
     "execution_count": 21,
     "metadata": {},
     "output_type": "execute_result"
    }
   ],
   "source": [
    "crypt(encoded, 5, 7, False)"
   ]
  },
  {
   "cell_type": "markdown",
   "metadata": {},
   "source": [
    "Run the test and time."
   ]
  },
  {
   "cell_type": "code",
   "execution_count": 19,
   "metadata": {},
   "outputs": [],
   "source": [
    "test_text_encryption(crypt)"
   ]
  }
 ],
 "metadata": {
  "kernelspec": {
   "display_name": "Python 3",
   "language": "python",
   "name": "python3"
  },
  "language_info": {
   "codemirror_mode": {
    "name": "ipython",
    "version": 3
   },
   "file_extension": ".py",
   "mimetype": "text/x-python",
   "name": "python",
   "nbconvert_exporter": "python",
   "pygments_lexer": "ipython3",
   "version": "3.7.6"
  }
 },
 "nbformat": 4,
 "nbformat_minor": 4
}
