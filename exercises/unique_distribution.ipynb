{
 "cells": [
  {
   "cell_type": "markdown",
   "metadata": {},
   "source": [
    "# Sequence properties"
   ]
  },
  {
   "cell_type": "markdown",
   "metadata": {},
   "source": [
    "Import some required modules."
   ]
  },
  {
   "cell_type": "code",
   "execution_count": 1,
   "metadata": {
    "collapsed": true
   },
   "outputs": [],
   "source": [
    "import matplotlib.pyplot as plt\n",
    "%matplotlib inline\n",
    "import numpy as np"
   ]
  },
  {
   "cell_type": "markdown",
   "metadata": {},
   "source": [
    "We are interested in the properties of sequences of items drawn from a given finite set.  For convenience the set we consider are integers in $A = [0, n - 1}$ which obviously has $n$ elements.  The length of a sequence of elements drawn from $A$ is denoted by $k$."
   ]
  },
  {
   "cell_type": "markdown",
   "metadata": {},
   "source": [
    "## Unique numbers"
   ]
  },
  {
   "cell_type": "markdown",
   "metadata": {},
   "source": [
    "Define a function to generate a sequence of $k$ random integers, independently drawn with uniform probability distribution over $[0, n - 1]$."
   ]
  },
  {
   "cell_type": "code",
   "execution_count": 2,
   "metadata": {
    "collapsed": true
   },
   "outputs": [],
   "source": [
    "def create_random_list(k, n):\n",
    "    return np.random.choice(np.arange(0, n), k)"
   ]
  },
  {
   "cell_type": "markdown",
   "metadata": {},
   "source": [
    "Define a function that computes the average fraction of unique numbers in a sequence of length $k$ over a number of independent runs $M$."
   ]
  },
  {
   "cell_type": "code",
   "execution_count": 3,
   "metadata": {
    "collapsed": false
   },
   "outputs": [],
   "source": [
    "def avg_unique_frac(k, n, M=1000):\n",
    "    avg = 0.0\n",
    "    for _ in range(M):\n",
    "        seq = create_random_list(k, n)\n",
    "        avg += len(set(seq))/len(seq)\n",
    "    return avg/M"
   ]
  },
  {
   "cell_type": "markdown",
   "metadata": {},
   "source": [
    "Define a list of sequence lengths to compute the statitstics for."
   ]
  },
  {
   "cell_type": "code",
   "execution_count": 4,
   "metadata": {
    "collapsed": true
   },
   "outputs": [],
   "source": [
    "k_values = [1] + list(range(10, 200, 10)) + list(range(200, 2001, 200))"
   ]
  },
  {
   "cell_type": "markdown",
   "metadata": {},
   "source": [
    "Compute and plot the fractions of unique elements for $n = 40$ and $n = 80$."
   ]
  },
  {
   "cell_type": "code",
   "execution_count": 5,
   "metadata": {
    "collapsed": false,
    "scrolled": false
   },
   "outputs": [
    {
     "data": {
      "image/png": "[encoded data removed]",
      "text/plain": [
       "<matplotlib.figure.Figure at 0x7f88a9f63780>"
      ]
     },
     "metadata": {},
     "output_type": "display_data"
    }
   ],
   "source": [
    "M = 1000\n",
    "n = 40\n",
    "unique_fracs = [avg_unique_frac(k, n, M) for k in k_values]\n",
    "plt.plot(k_values, unique_fracs, 'bo', label='$n = {0}$'.format(n))\n",
    "n = 80\n",
    "unique_fracs = [avg_unique_frac(k, n, M) for k in k_values]\n",
    "plt.plot(k_values, unique_fracs, 'ro', label='$n = {0}$'.format(n))\n",
    "plt.xlim(0, k_values[-1])\n",
    "plt.xlabel(r'$k$')\n",
    "plt.ylim(0.0, 1.0)\n",
    "plt.ylabel(r'$n_k/k$')\n",
    "plt.legend();"
   ]
  },
  {
   "cell_type": "markdown",
   "metadata": {},
   "source": [
    "The expected number of unique items when drawing a length $k$ sequence from $n$ possible items is given by $n_k = \\frac{n^k - (n - 1)^k}{n^{k-1}}$, hence the fraction of unique items is $\\frac{n_k}{k}$."
   ]
  },
  {
   "cell_type": "code",
   "execution_count": 5,
   "metadata": {
    "collapsed": true
   },
   "outputs": [],
   "source": [
    "def theor_unique_frac(k, n):\n",
    "    return (n**k - (n - 1)**k)/(k*n**(k - 1))"
   ]
  },
  {
   "cell_type": "markdown",
   "metadata": {},
   "source": [
    "Plot the emperical values and the theoretical curve to compare."
   ]
  },
  {
   "cell_type": "code",
   "execution_count": 12,
   "metadata": {
    "collapsed": false,
    "scrolled": false
   },
   "outputs": [
    {
     "data": {
      "image/png": "[encoded data removed]",
      "text/plain": [
       "<matplotlib.figure.Figure at 0x7f88a765fa20>"
      ]
     },
     "metadata": {},
     "output_type": "display_data"
    }
   ],
   "source": [
    "M = 1000\n",
    "n = 40\n",
    "unique_fracs = [avg_unique_frac(k, n, M) for k in k_values]\n",
    "plt.plot(k_values, unique_fracs, 'bo', label='empirical')\n",
    "theor_unique_fracs = [theor_unique_frac(k, n) for k in k_values]\n",
    "plt.plot(k_values, theor_unique_fracs, 'r-', label='theoretical')\n",
    "plt.xlim(0, k_values[-1])\n",
    "plt.xlabel(r'$k$')\n",
    "plt.ylim(0.0, 1.0)\n",
    "plt.ylabel(r'$n_k/k$')\n",
    "plt.legend();"
   ]
  },
  {
   "cell_type": "markdown",
   "metadata": {},
   "source": [
    "## Distribution of non-unique numbers"
   ]
  },
  {
   "cell_type": "markdown",
   "metadata": {},
   "source": [
    "Define a function that for a given length computes the distribution of occurrences."
   ]
  },
  {
   "cell_type": "code",
   "execution_count": 36,
   "metadata": {
    "collapsed": false
   },
   "outputs": [],
   "source": [
    "def count_distr(data, n):\n",
    "    counts = np.zeros(n, dtype=np.int)\n",
    "    for x in data:\n",
    "        counts[x] += 1\n",
    "    c_distr = np.zeros(len(data) + 1)\n",
    "    for count in counts:\n",
    "        c_distr[count] += 1\n",
    "    return c_distr"
   ]
  },
  {
   "cell_type": "code",
   "execution_count": 37,
   "metadata": {
    "collapsed": false
   },
   "outputs": [
    {
     "data": {
      "text/plain": [
       "(array([1, 1, 2, 2, 0, 4, 2, 0, 2, 1]),\n",
       " array([ 1.,  1.,  1.,  1.,  1.,  0.,  0.,  0.,  0.,  0.,  0.]))"
      ]
     },
     "execution_count": 37,
     "metadata": {},
     "output_type": "execute_result"
    }
   ],
   "source": [
    "seq = create_random_list(10, 5)\n",
    "seq, count_distr(seq, 5)"
   ]
  },
  {
   "cell_type": "code",
   "execution_count": 38,
   "metadata": {
    "collapsed": true
   },
   "outputs": [],
   "source": [
    "def check_count(counts, k):\n",
    "    values = np.arange(0, len(counts), dtype=np.int)\n",
    "    return k == np.sum(values*counts)"
   ]
  },
  {
   "cell_type": "code",
   "execution_count": 39,
   "metadata": {
    "collapsed": false,
    "scrolled": true
   },
   "outputs": [
    {
     "data": {
      "text/plain": [
       "True"
      ]
     },
     "execution_count": 39,
     "metadata": {},
     "output_type": "execute_result"
    }
   ],
   "source": [
    "k = 10\n",
    "n = 5\n",
    "seq = create_random_list(k, n)\n",
    "counts = count_distr(seq, n)\n",
    "check_count(counts, k)"
   ]
  },
  {
   "cell_type": "code",
   "execution_count": 46,
   "metadata": {
    "collapsed": false,
    "scrolled": true
   },
   "outputs": [
    {
     "data": {
      "image/png": "[encoded data removed]",
      "text/plain": [
       "<matplotlib.figure.Figure at 0x7fd508c95b70>"
      ]
     },
     "metadata": {},
     "output_type": "display_data"
    }
   ],
   "source": [
    "k = 2000\n",
    "n = 40\n",
    "seq = create_random_list(k, n)\n",
    "counts = count_distr(seq, n)\n",
    "values = np.arange(0, len(counts), dtype=np.int)\n",
    "plt.bar(values, counts, align='center')\n",
    "plt.xlabel('repetitions')\n",
    "plt.xlim(0, 200)\n",
    "plt.ylabel('count');"
   ]
  },
  {
   "cell_type": "code",
   "execution_count": 43,
   "metadata": {
    "collapsed": false
   },
   "outputs": [],
   "source": [
    "def avg_count_distr(k, n, M=1000):\n",
    "    counts = np.zeros(k + 1, dtype=np.float)\n",
    "    for _ in range(M):\n",
    "        seq = create_random_list(k, n)\n",
    "        counts += count_distr(seq, n)\n",
    "    return counts/M"
   ]
  },
  {
   "cell_type": "code",
   "execution_count": 47,
   "metadata": {
    "collapsed": false,
    "scrolled": true
   },
   "outputs": [
    {
     "data": {
      "image/png": "[encoded data removed]",
      "text/plain": [
       "<matplotlib.figure.Figure at 0x7fd508890e10>"
      ]
     },
     "metadata": {},
     "output_type": "display_data"
    }
   ],
   "source": [
    "k = 2000\n",
    "n = 40\n",
    "counts = avg_count_distr(k, n)\n",
    "values = np.arange(0, len(counts), dtype=np.int)\n",
    "plt.bar(values, counts, align='center')\n",
    "plt.xlabel('repetitions')\n",
    "plt.xlim(0, 100)\n",
    "plt.ylabel('count');"
   ]
  },
  {
   "cell_type": "code",
   "execution_count": 49,
   "metadata": {
    "collapsed": false,
    "scrolled": true
   },
   "outputs": [
    {
     "data": {
      "image/png": "[encoded data removed]",
      "text/plain": [
       "<matplotlib.figure.Figure at 0x7fd507feb908>"
      ]
     },
     "metadata": {},
     "output_type": "display_data"
    }
   ],
   "source": [
    "k = 40\n",
    "n = 40\n",
    "counts = avg_count_distr(k, n)\n",
    "values = np.arange(0, len(counts), dtype=np.int)\n",
    "plt.bar(values, counts, align='center')\n",
    "plt.xlabel('repetitions')\n",
    "plt.xlim(0, 10)\n",
    "plt.ylabel('count');"
   ]
  },
  {
   "cell_type": "code",
   "execution_count": null,
   "metadata": {
    "collapsed": true
   },
   "outputs": [],
   "source": []
  }
 ],
 "metadata": {
  "kernelspec": {
   "display_name": "Python 3",
   "language": "python",
   "name": "python3"
  },
  "language_info": {
   "codemirror_mode": {
    "name": "ipython",
    "version": 3
   },
   "file_extension": ".py",
   "mimetype": "text/x-python",
   "name": "python",
   "nbconvert_exporter": "python",
   "pygments_lexer": "ipython3",
   "version": "3.5.2"
  }
 },
 "nbformat": 4,
 "nbformat_minor": 0
}
