{
 "cells": [
  {
   "cell_type": "markdown",
   "metadata": {},
   "source": [
    "# Counting nucleotides"
   ]
  },
  {
   "cell_type": "markdown",
   "metadata": {},
   "source": [
    "## Test code"
   ]
  },
  {
   "cell_type": "markdown",
   "metadata": {},
   "source": [
    "Define a function to test the implementations."
   ]
  },
  {
   "cell_type": "code",
   "execution_count": 1,
   "metadata": {
    "ExecuteTime": {
     "end_time": "2019-10-30T16:00:18.478298Z",
     "start_time": "2019-10-30T16:00:18.459869Z"
    }
   },
   "outputs": [],
   "source": [
    "def test_nucl_count_funcs(func):\n",
    "    test_values = [\n",
    "        ('AACAATG', {'A': 4, 'C': 1, 'G': 1, 'T': 1, 'invalid': 0}),\n",
    "        ('',        {'A': 0, 'C': 0, 'G': 0, 'T': 0, 'invalid': 0}),\n",
    "        ('C',       {'A': 0, 'C': 1, 'G': 0, 'T': 0, 'invalid': 0}),\n",
    "        ('AQTTAC',  {'A': 2, 'C': 1, 'G': 0, 'T': 2, 'invalid': 1}),\n",
    "    ]\n",
    "    for dna_str, target_counts in test_values:\n",
    "        counts = func(dna_str)\n",
    "        if counts != target_counts:\n",
    "            print(f'error for {dna_str}, expecting {str(target_counts)}, got {str(counts)}')"
   ]
  },
  {
   "cell_type": "markdown",
   "metadata": {},
   "source": [
    "## Implementations"
   ]
  },
  {
   "cell_type": "markdown",
   "metadata": {},
   "source": [
    "### Four variables"
   ]
  },
  {
   "cell_type": "code",
   "execution_count": 2,
   "metadata": {
    "ExecuteTime": {
     "end_time": "2019-10-30T16:00:18.502141Z",
     "start_time": "2019-10-30T16:00:18.486231Z"
    }
   },
   "outputs": [],
   "source": [
    "def count_nucl_4_vars(dna_str):\n",
    "    nr_A = nr_C = nr_G = nr_T = nr_invalids = 0\n",
    "    for nucl in dna_str:\n",
    "        if nucl == 'A':\n",
    "            nr_A += 1\n",
    "        elif nucl == 'C':\n",
    "            nr_C += 1\n",
    "        elif nucl == 'G':\n",
    "            nr_G += 1\n",
    "        elif nucl == 'T':\n",
    "            nr_T += 1\n",
    "        else:\n",
    "            nr_invalids += 1\n",
    "    return {'A': nr_A, 'C': nr_C, 'G': nr_G, 'T': nr_T, 'invalid': nr_invalids}"
   ]
  },
  {
   "cell_type": "code",
   "execution_count": 3,
   "metadata": {
    "ExecuteTime": {
     "end_time": "2019-10-30T16:00:18.514093Z",
     "start_time": "2019-10-30T16:00:18.508159Z"
    }
   },
   "outputs": [],
   "source": [
    "test_nucl_count_funcs(count_nucl_4_vars)"
   ]
  },
  {
   "cell_type": "markdown",
   "metadata": {},
   "source": [
    "### Standard `dict`"
   ]
  },
  {
   "cell_type": "code",
   "execution_count": 4,
   "metadata": {
    "ExecuteTime": {
     "end_time": "2019-10-30T16:00:18.532134Z",
     "start_time": "2019-10-30T16:00:18.516922Z"
    }
   },
   "outputs": [],
   "source": [
    "def count_nucl_dict(dna_str):\n",
    "    counts = {\n",
    "        'A': 0,\n",
    "        'C': 0,\n",
    "        'T': 0,\n",
    "        'G': 0,\n",
    "        'invalid': 0,\n",
    "    }\n",
    "    for nucl in dna_str:\n",
    "        if nucl in 'ACGT':\n",
    "            counts[nucl] += 1\n",
    "        else:\n",
    "            counts['invalid'] += 1\n",
    "    return counts"
   ]
  },
  {
   "cell_type": "code",
   "execution_count": 5,
   "metadata": {
    "ExecuteTime": {
     "end_time": "2019-10-30T16:00:18.543004Z",
     "start_time": "2019-10-30T16:00:18.536563Z"
    }
   },
   "outputs": [],
   "source": [
    "test_nucl_count_funcs(count_nucl_dict)"
   ]
  },
  {
   "cell_type": "markdown",
   "metadata": {},
   "source": [
    "### `collentions.Counter`"
   ]
  },
  {
   "cell_type": "code",
   "execution_count": 6,
   "metadata": {
    "ExecuteTime": {
     "end_time": "2019-10-30T16:00:18.562981Z",
     "start_time": "2019-10-30T16:00:18.548008Z"
    }
   },
   "outputs": [],
   "source": [
    "def count_nucl_counter(dna_str):\n",
    "    from collections import Counter\n",
    "    counts = Counter()\n",
    "    for key in ['A', 'C', 'G', 'T', 'invalid']:\n",
    "        counts[key] = 0\n",
    "    for nucl in dna_str:\n",
    "        if nucl in 'ACGT':\n",
    "            counts[nucl] += 1\n",
    "        else:\n",
    "            counts['invalid'] += 1\n",
    "    return counts"
   ]
  },
  {
   "cell_type": "code",
   "execution_count": 7,
   "metadata": {
    "ExecuteTime": {
     "end_time": "2019-10-30T16:00:18.573314Z",
     "start_time": "2019-10-30T16:00:18.564984Z"
    }
   },
   "outputs": [],
   "source": [
    "test_nucl_count_funcs(count_nucl_counter)"
   ]
  },
  {
   "cell_type": "markdown",
   "metadata": {},
   "source": [
    "### `str.count`"
   ]
  },
  {
   "cell_type": "code",
   "execution_count": 8,
   "metadata": {
    "ExecuteTime": {
     "end_time": "2019-10-30T16:00:18.594146Z",
     "start_time": "2019-10-30T16:00:18.580975Z"
    }
   },
   "outputs": [],
   "source": [
    "def count_nucl_str_count(dna_str):\n",
    "    counts = dict()\n",
    "    for key in ['A', 'C', 'G', 'T', 'invalid']:\n",
    "        counts[key] = 0\n",
    "    for nucl in 'ACGT':\n",
    "        counts[nucl] = dna_str.count(nucl)\n",
    "    counts['invalid'] = len(dna_str) - sum(counts.values())\n",
    "    return counts"
   ]
  },
  {
   "cell_type": "code",
   "execution_count": 9,
   "metadata": {
    "ExecuteTime": {
     "end_time": "2019-10-30T16:00:18.611854Z",
     "start_time": "2019-10-30T16:00:18.600592Z"
    }
   },
   "outputs": [],
   "source": [
    "test_nucl_count_funcs(count_nucl_str_count)"
   ]
  },
  {
   "cell_type": "markdown",
   "metadata": {},
   "source": [
    "## Speed comparison"
   ]
  },
  {
   "cell_type": "code",
   "execution_count": 10,
   "metadata": {
    "ExecuteTime": {
     "end_time": "2019-10-30T16:00:18.625846Z",
     "start_time": "2019-10-30T16:00:18.616845Z"
    }
   },
   "outputs": [],
   "source": [
    "import random"
   ]
  },
  {
   "cell_type": "code",
   "execution_count": 11,
   "metadata": {
    "ExecuteTime": {
     "end_time": "2019-10-30T16:00:21.660564Z",
     "start_time": "2019-10-30T16:00:18.628053Z"
    }
   },
   "outputs": [],
   "source": [
    "dna_str = random.choices('ACGT', k=10_000_000)"
   ]
  },
  {
   "cell_type": "code",
   "execution_count": 12,
   "metadata": {
    "ExecuteTime": {
     "end_time": "2019-10-30T16:00:30.455752Z",
     "start_time": "2019-10-30T16:00:21.683724Z"
    }
   },
   "outputs": [
    {
     "name": "stdout",
     "output_type": "stream",
     "text": [
      "1.04 s ± 90.5 ms per loop (mean ± std. dev. of 7 runs, 1 loop each)\n"
     ]
    }
   ],
   "source": [
    "%timeit count_nucl_4_vars(dna_str)"
   ]
  },
  {
   "cell_type": "code",
   "execution_count": 13,
   "metadata": {
    "ExecuteTime": {
     "end_time": "2019-10-30T16:00:40.053983Z",
     "start_time": "2019-10-30T16:00:30.457232Z"
    }
   },
   "outputs": [
    {
     "name": "stdout",
     "output_type": "stream",
     "text": [
      "1.13 s ± 95.8 ms per loop (mean ± std. dev. of 7 runs, 1 loop each)\n"
     ]
    }
   ],
   "source": [
    "%timeit count_nucl_dict(dna_str)"
   ]
  },
  {
   "cell_type": "code",
   "execution_count": 14,
   "metadata": {
    "ExecuteTime": {
     "end_time": "2019-10-30T16:01:01.501687Z",
     "start_time": "2019-10-30T16:00:40.068463Z"
    }
   },
   "outputs": [
    {
     "name": "stdout",
     "output_type": "stream",
     "text": [
      "2.64 s ± 230 ms per loop (mean ± std. dev. of 7 runs, 1 loop each)\n"
     ]
    }
   ],
   "source": [
    "%timeit count_nucl_counter(dna_str)"
   ]
  },
  {
   "cell_type": "code",
   "execution_count": 15,
   "metadata": {
    "ExecuteTime": {
     "end_time": "2019-10-30T16:01:07.606613Z",
     "start_time": "2019-10-30T16:01:01.503438Z"
    }
   },
   "outputs": [
    {
     "name": "stdout",
     "output_type": "stream",
     "text": [
      "698 ms ± 147 ms per loop (mean ± std. dev. of 7 runs, 1 loop each)\n"
     ]
    }
   ],
   "source": [
    "%timeit count_nucl_str_count(dna_str)"
   ]
  },
  {
   "cell_type": "code",
   "execution_count": 16,
   "metadata": {
    "ExecuteTime": {
     "end_time": "2019-10-30T16:01:41.622425Z",
     "start_time": "2019-10-30T16:01:41.479326Z"
    }
   },
   "outputs": [],
   "source": [
    "dna_str = random.choices('ACGT', k=100_000)"
   ]
  },
  {
   "cell_type": "code",
   "execution_count": 17,
   "metadata": {
    "ExecuteTime": {
     "end_time": "2019-10-30T16:01:44.122203Z",
     "start_time": "2019-10-30T16:01:42.221925Z"
    }
   },
   "outputs": [
    {
     "name": "stdout",
     "output_type": "stream",
     "text": [
      "21.6 ms ± 10.1 ms per loop (mean ± std. dev. of 7 runs, 10 loops each)\n"
     ]
    }
   ],
   "source": [
    "%timeit count_nucl_4_vars(dna_str)"
   ]
  },
  {
   "cell_type": "code",
   "execution_count": 18,
   "metadata": {
    "ExecuteTime": {
     "end_time": "2019-10-30T16:01:45.729277Z",
     "start_time": "2019-10-30T16:01:44.130234Z"
    }
   },
   "outputs": [
    {
     "name": "stdout",
     "output_type": "stream",
     "text": [
      "14.8 ms ± 6.71 ms per loop (mean ± std. dev. of 7 runs, 10 loops each)\n"
     ]
    }
   ],
   "source": [
    "%timeit count_nucl_dict(dna_str)"
   ]
  },
  {
   "cell_type": "code",
   "execution_count": 19,
   "metadata": {
    "ExecuteTime": {
     "end_time": "2019-10-30T16:01:48.209947Z",
     "start_time": "2019-10-30T16:01:45.736620Z"
    }
   },
   "outputs": [
    {
     "name": "stdout",
     "output_type": "stream",
     "text": [
      "25.9 ms ± 2.76 ms per loop (mean ± std. dev. of 7 runs, 10 loops each)\n"
     ]
    }
   ],
   "source": [
    "%timeit count_nucl_counter(dna_str)"
   ]
  },
  {
   "cell_type": "code",
   "execution_count": 20,
   "metadata": {
    "ExecuteTime": {
     "end_time": "2019-10-30T16:01:49.154961Z",
     "start_time": "2019-10-30T16:01:48.217530Z"
    }
   },
   "outputs": [
    {
     "name": "stdout",
     "output_type": "stream",
     "text": [
      "9.4 ms ± 5.46 ms per loop (mean ± std. dev. of 7 runs, 10 loops each)\n"
     ]
    }
   ],
   "source": [
    "%timeit count_nucl_str_count(dna_str)"
   ]
  }
 ],
 "metadata": {
  "kernelspec": {
   "display_name": "Python 3",
   "language": "python",
   "name": "python3"
  },
  "language_info": {
   "codemirror_mode": {
    "name": "ipython",
    "version": 3
   },
   "file_extension": ".py",
   "mimetype": "text/x-python",
   "name": "python",
   "nbconvert_exporter": "python",
   "pygments_lexer": "ipython3",
   "version": "3.7.4"
  }
 },
 "nbformat": 4,
 "nbformat_minor": 2
}
