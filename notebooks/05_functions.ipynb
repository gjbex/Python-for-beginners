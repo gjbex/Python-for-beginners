{
 "cells": [
  {
   "cell_type": "markdown",
   "metadata": {},
   "source": [
    "# Functions"
   ]
  },
  {
   "cell_type": "markdown",
   "metadata": {},
   "source": [
    "Very similar to functions in mathematics, Python functions operate on arguments, and use them to compute a value. In programming, functions are used to encapsulate code fragments that we want to run multiple times, but on different values. Concider the mathematical function $f: x \\to 3 x^2 + 2 x + 7$, this would be coded in Python as follows."
   ]
  },
  {
   "cell_type": "code",
   "execution_count": 3,
   "metadata": {
    "collapsed": true
   },
   "outputs": [],
   "source": [
    "def f(x):\n",
    "    return 3*x**2 + 2*x + 7"
   ]
  },
  {
   "cell_type": "markdown",
   "metadata": {},
   "source": [
    "The name of the function is `f`, the name of its argument is `x`, and it returns a value that is the result of some arithmetic operations on `x`."
   ]
  },
  {
   "cell_type": "markdown",
   "metadata": {},
   "source": [
    "Calling the function `f`, or applying it to a value is again quite similar as in mathematics, we would write, e.g., $f(-1)$ to apply the function $f$ to the value $-1$."
   ]
  },
  {
   "cell_type": "code",
   "execution_count": 7,
   "metadata": {},
   "outputs": [
    {
     "name": "stdout",
     "output_type": "stream",
     "text": [
      "8 40 168\n"
     ]
    }
   ],
   "source": [
    "print(f(-1), f(3), f(7))"
   ]
  },
  {
   "cell_type": "markdown",
   "metadata": {},
   "source": [
    "A function can have multiple argument, e.g., $g: (x, y) \\to \\sqrt{x^2 + y^2}$, which would translate to python as follows."
   ]
  },
  {
   "cell_type": "code",
   "execution_count": 8,
   "metadata": {
    "collapsed": true
   },
   "outputs": [],
   "source": [
    "from math import sqrt\n",
    "def g(x, y):\n",
    "    return sqrt(x**2 + y**2)"
   ]
  },
  {
   "cell_type": "code",
   "execution_count": 9,
   "metadata": {},
   "outputs": [
    {
     "name": "stdout",
     "output_type": "stream",
     "text": [
      "2.23606797749979 5.0\n"
     ]
    }
   ],
   "source": [
    "print(g(1, 2), g(3, 4))"
   ]
  },
  {
   "cell_type": "markdown",
   "metadata": {},
   "source": [
    "The exampls so far map floating point number to floating point numbers, but obviously, functions are not restricted in that sense. Simply think of a function we've already used a few times, `len`. It maps strings, lists, tuples, sets and dictionaries to positive integers."
   ]
  },
  {
   "cell_type": "markdown",
   "metadata": {},
   "source": [
    "What makes a good function name? A function performs some action on its arguments, or uses the values do compute something, so it is an action. Hence a verb that describes the action makes a good function name."
   ]
  },
  {
   "cell_type": "markdown",
   "metadata": {},
   "source": [
    "Let's create a function using the code we wrote to count the number of nucleotides in a DNA string, taking into account that invalid characters might be present."
   ]
  },
  {
   "cell_type": "code",
   "execution_count": 11,
   "metadata": {
    "collapsed": true
   },
   "outputs": [],
   "source": [
    "def count_nucl(sequence):\n",
    "    nucl_count = dict()\n",
    "    for i, nucl in enumerate(sequence):\n",
    "        if nucl not in 'ACGT':\n",
    "            print(f'### error: invalid symbol {nucl} at position {i} in {sequence}')\n",
    "            return None\n",
    "        if nucl not in nucl_count:\n",
    "            nucl_count[nucl] = 0\n",
    "        nucl_count[nucl] += 1\n",
    "    return nucl_count"
   ]
  },
  {
   "cell_type": "markdown",
   "metadata": {},
   "source": [
    "The function `count_nucl` takes a DNA sequence as an argument (a `str`), and returns a `dict` with the nucleotide counts if there are no invalid symbols, otherwise it return the special value `None`. Note that the `return` statement has two tasks, it will determine the value produced by the function, and it will end its execution."
   ]
  },
  {
   "cell_type": "code",
   "execution_count": 12,
   "metadata": {},
   "outputs": [
    {
     "name": "stdout",
     "output_type": "stream",
     "text": [
      "{'A': 2, 'G': 2, 'T': 1, 'C': 2}\n",
      "### error: invalid symbol Q at position 1 in AQTTAC\n",
      "{'G': 2, 'A': 2, 'T': 1}\n",
      "### error: invalid symbol Q at position 4 in AATTQ\n"
     ]
    }
   ],
   "source": [
    "sequences = ['AGGTACC', 'AQTTAC', 'GGATA', 'AATTQ']\n",
    "for sequence in sequences:\n",
    "    nucl_count = count_nucl(sequence)\n",
    "    if nucl_count is not None:\n",
    "        print(nucl_count)"
   ]
  },
  {
   "cell_type": "markdown",
   "metadata": {},
   "source": [
    "#### Your turn now: to `count` or not to `count`?"
   ]
  },
  {
   "cell_type": "markdown",
   "metadata": {},
   "source": [
    "In the definition of the function `count_nucl`, we didn't use the `count` method defined on `str`.  Could we and should we?"
   ]
  },
  {
   "cell_type": "markdown",
   "metadata": {},
   "source": [
    "#### Your turn now: count all"
   ]
  },
  {
   "cell_type": "markdown",
   "metadata": {},
   "source": [
    "Let's return to the code fragment we used to illustrate functions. For the sake of the argument, we will now assume that the DNA fragments contain no invalid symbols, so the function implementation can be simplified."
   ]
  },
  {
   "cell_type": "code",
   "execution_count": 24,
   "metadata": {
    "collapsed": true
   },
   "outputs": [],
   "source": [
    "def count_nucl(sequence):\n",
    "    nucl_count = dict()\n",
    "    for nucl in sequence:\n",
    "        if nucl not in nucl_count:\n",
    "            nucl_count[nucl] = 0\n",
    "        nucl_count[nucl] += 1\n",
    "    return nucl_count"
   ]
  },
  {
   "cell_type": "markdown",
   "metadata": {},
   "source": [
    "Let's complicate things a little bit by computing the counts over all sequences together, rather than for the individual sequences. Write a function `count_all_nucl` that takes a list of DNA sequences as an argument, and returns a `dict` with the counts for A, C, G, T. It uses the function `count_nucl` above."
   ]
  },
  {
   "cell_type": "code",
   "execution_count": null,
   "metadata": {
    "collapsed": true
   },
   "outputs": [],
   "source": [
    "def count_all_nucl(dna_sequences):\n",
    "    ____"
   ]
  },
  {
   "cell_type": "markdown",
   "metadata": {},
   "source": [
    "The code fragment below defines a list of DNA sequences, calls the function, and prints the resultng `dict`."
   ]
  },
  {
   "cell_type": "code",
   "execution_count": null,
   "metadata": {
    "collapsed": true
   },
   "outputs": [],
   "source": [
    "sequences = ['AGGTACC', 'AGTTAC', 'GGATA', 'AATTC']\n",
    "nucl_count = count_all_nucl(sequences)\n",
    "print(nucl_count)"
   ]
  },
  {
   "cell_type": "markdown",
   "metadata": {},
   "source": [
    "## Optional arguments"
   ]
  },
  {
   "cell_type": "markdown",
   "metadata": {},
   "source": [
    "Maybe you remember that the `split` method defined on `str` could be called without any arguments, or with the separator string. The argument to `split` is optional, if we do not specify it, a default value will be used (whitespace)."
   ]
  },
  {
   "cell_type": "code",
   "execution_count": 13,
   "metadata": {},
   "outputs": [
    {
     "name": "stdout",
     "output_type": "stream",
     "text": [
      "['3.1;', '5.2;', '7.3']\n",
      "['3.1', ' 5.2', ' 7.3']\n"
     ]
    }
   ],
   "source": [
    "data_str = '3.1; 5.2; 7.3'\n",
    "print(data_str.split())\n",
    "print(data_str.split(';'))"
   ]
  },
  {
   "cell_type": "markdown",
   "metadata": {},
   "source": [
    "If you look a the documentation, you will see that it actually has two optional arguments."
   ]
  },
  {
   "cell_type": "code",
   "execution_count": 14,
   "metadata": {},
   "outputs": [
    {
     "name": "stdout",
     "output_type": "stream",
     "text": [
      "Help on method_descriptor:\n",
      "\n",
      "split(...)\n",
      "    S.split(sep=None, maxsplit=-1) -> list of strings\n",
      "    \n",
      "    Return a list of the words in S, using sep as the\n",
      "    delimiter string.  If maxsplit is given, at most maxsplit\n",
      "    splits are done. If sep is not specified or is None, any\n",
      "    whitespace string is a separator and empty strings are\n",
      "    removed from the result.\n",
      "\n"
     ]
    }
   ],
   "source": [
    "help(str.split)"
   ]
  },
  {
   "cell_type": "markdown",
   "metadata": {},
   "source": [
    "The first optional argument is `sep`, the separator used to split the string, the second is `maxsplit`, the maximum number of splits to do. The fact that those arguments are optional is indicated as, e.g., `sep=None`. The argument `sep` in the function will get the value `None` when it is called with no value for `sep` given. Similarly, if no value is passed for `maxsplit`, it will be assigned `-1` in the function."
   ]
  },
  {
   "cell_type": "markdown",
   "metadata": {},
   "source": [
    "Optional arguments to functions can (and very often have to) be specified by name in function calls, e.g.,"
   ]
  },
  {
   "cell_type": "code",
   "execution_count": 15,
   "metadata": {
    "scrolled": true
   },
   "outputs": [
    {
     "data": {
      "text/plain": [
       "['gjb', 'I like Python programming']"
      ]
     },
     "execution_count": 15,
     "metadata": {},
     "output_type": "execute_result"
    }
   ],
   "source": [
    "'gjb I like Python programming'.split(maxsplit=1)"
   ]
  },
  {
   "cell_type": "markdown",
   "metadata": {},
   "source": [
    "If we wouldn't have named the `maxsplit` value, Python would consider it to be the value of `sep`, and an error would be reported, since `sep` should be an `str` value, or `None`."
   ]
  },
  {
   "cell_type": "code",
   "execution_count": 16,
   "metadata": {},
   "outputs": [
    {
     "ename": "TypeError",
     "evalue": "must be str or None, not int",
     "output_type": "error",
     "traceback": [
      "\u001b[0;31m---------------------------------------------------------------------------\u001b[0m",
      "\u001b[0;31mTypeError\u001b[0m                                 Traceback (most recent call last)",
      "\u001b[0;32m<ipython-input-16-945d7a61ac81>\u001b[0m in \u001b[0;36m<module>\u001b[0;34m()\u001b[0m\n\u001b[0;32m----> 1\u001b[0;31m \u001b[0;34m'gjb I like Python programming'\u001b[0m\u001b[0;34m.\u001b[0m\u001b[0msplit\u001b[0m\u001b[0;34m(\u001b[0m\u001b[0;36m1\u001b[0m\u001b[0;34m)\u001b[0m\u001b[0;34m\u001b[0m\u001b[0m\n\u001b[0m",
      "\u001b[0;31mTypeError\u001b[0m: must be str or None, not int"
     ]
    }
   ],
   "source": [
    "'gjb I like Python programming'.split(1)"
   ]
  },
  {
   "cell_type": "markdown",
   "metadata": {},
   "source": [
    "Your solution to the 'count all' exercise probably looked something like the once below."
   ]
  },
  {
   "cell_type": "code",
   "execution_count": 27,
   "metadata": {
    "collapsed": true
   },
   "outputs": [],
   "source": [
    "def count_all_nucl(dna_sequences):\n",
    "    total_nucl_count = dict()\n",
    "    for sequence in dna_sequences:\n",
    "        nucl_count = count_nucl(sequence)\n",
    "        for nucl in nucl_count:\n",
    "            if nucl not in total_nucl_count:\n",
    "                total_nucl_count[nucl] = 0\n",
    "            total_nucl_count[nucl] += nucl_count[nucl]\n",
    "    return total_nucl_count"
   ]
  },
  {
   "cell_type": "code",
   "execution_count": 28,
   "metadata": {},
   "outputs": [
    {
     "name": "stdout",
     "output_type": "stream",
     "text": [
      "{'A': 8, 'G': 5, 'T': 6, 'C': 4}\n"
     ]
    }
   ],
   "source": [
    "sequences = ['AGGTACC', 'AGTTAC', 'GGATA', 'AATTC']\n",
    "nucl_count = count_all_nucl(sequences)\n",
    "print(nucl_count)"
   ]
  },
  {
   "cell_type": "markdown",
   "metadata": {},
   "source": [
    "Although this works, it is a bit of a hassle. We can simplify matters by modifying `count_nucl` to take an optional second argument, with a default value `None` that can be a `dict` containing nucleotide counts."
   ]
  },
  {
   "cell_type": "code",
   "execution_count": 29,
   "metadata": {
    "collapsed": true
   },
   "outputs": [],
   "source": [
    "def count_nucl(sequence, nucl_count=None):\n",
    "    if nucl_count is None:\n",
    "        nucl_count = dict()\n",
    "    for nucl in sequence:\n",
    "        if nucl not in nucl_count:\n",
    "            nucl_count[nucl] = 0\n",
    "        nucl_count[nucl] += 1\n",
    "    return nucl_count"
   ]
  },
  {
   "cell_type": "markdown",
   "metadata": {},
   "source": [
    "If we use the optional `nucl_count` in a call to the `count_nucl` function, we can keep adding to an exisiting `dict`. This simplifies the code for `count_all_nucl` considerably."
   ]
  },
  {
   "cell_type": "code",
   "execution_count": 30,
   "metadata": {
    "collapsed": true
   },
   "outputs": [],
   "source": [
    "def count_all_nucl(dna_sequences):\n",
    "    total_nucl_count = dict()\n",
    "    for sequence in dna_sequences:\n",
    "        nucl_count = count_nucl(sequence, total_nucl_count)\n",
    "    return total_nucl_count"
   ]
  },
  {
   "cell_type": "code",
   "execution_count": 31,
   "metadata": {},
   "outputs": [
    {
     "name": "stdout",
     "output_type": "stream",
     "text": [
      "{'A': 8, 'G': 5, 'T': 6, 'C': 4}\n"
     ]
    }
   ],
   "source": [
    "sequences = ['AGGTACC', 'AGTTAC', 'GGATA', 'AATTC']\n",
    "nucl_count = count_all_nucl(sequences)\n",
    "print(nucl_count)"
   ]
  },
  {
   "cell_type": "markdown",
   "metadata": {},
   "source": [
    "Note that we can keep calling `count_nucl` as we did before, just with a single DNA sequence as an argument. This will work, since the second argument, `nucl_count` is optonal. If it is not in the function call, the `nucl_count` variable is `None` (the default value), and it will be initialized as an empty `dict`."
   ]
  },
  {
   "cell_type": "markdown",
   "metadata": {},
   "source": [
    "Of course, there is another implementation of `count_all_nucl` you may have come up with, which is even simpler."
   ]
  },
  {
   "cell_type": "code",
   "execution_count": 32,
   "metadata": {
    "collapsed": true
   },
   "outputs": [],
   "source": [
    "def count_all_nucl(dna_sequences):\n",
    "    return count_nucl(''.join(dna_sequences))"
   ]
  },
  {
   "cell_type": "code",
   "execution_count": 33,
   "metadata": {},
   "outputs": [
    {
     "name": "stdout",
     "output_type": "stream",
     "text": [
      "{'A': 8, 'G': 5, 'T': 6, 'C': 4}\n"
     ]
    }
   ],
   "source": [
    "sequences = ['AGGTACC', 'AGTTAC', 'GGATA', 'AATTC']\n",
    "nucl_count = count_all_nucl(sequences)\n",
    "print(nucl_count)"
   ]
  },
  {
   "cell_type": "markdown",
   "metadata": {},
   "source": [
    "Another example of a function that has optional arguments is useful. Up to this point, the DNA sequences we used as examples have been created by hand, which is fine for short sequences, but would be rather tedious for long ones. We will define a function `random_dna_seq` that generates a DNA sequence of a given length, 10 by default."
   ]
  },
  {
   "cell_type": "markdown",
   "metadata": {},
   "source": [
    "Python has a nice choice of functions to generate pseudo-random numbers or sequences in the `random` module of its standard library. One of those functions, `choices`, is very useful for the task at hand."
   ]
  },
  {
   "cell_type": "code",
   "execution_count": 36,
   "metadata": {},
   "outputs": [
    {
     "name": "stdout",
     "output_type": "stream",
     "text": [
      "Help on method choices in module random:\n",
      "\n",
      "choices(population, weights=None, *, cum_weights=None, k=1) method of random.Random instance\n",
      "    Return a k sized list of population elements chosen with replacement.\n",
      "    \n",
      "    If the relative weights or cumulative weights are not specified,\n",
      "    the selections are made with equal probability.\n",
      "\n"
     ]
    }
   ],
   "source": [
    "import random\n",
    "help(random.choices)"
   ]
  },
  {
   "cell_type": "code",
   "execution_count": 37,
   "metadata": {
    "collapsed": true
   },
   "outputs": [],
   "source": [
    "def random_dna_seq(length=10):\n",
    "    return ''.join(random.choices('ACGT', k=length))"
   ]
  },
  {
   "cell_type": "code",
   "execution_count": 39,
   "metadata": {},
   "outputs": [
    {
     "name": "stdout",
     "output_type": "stream",
     "text": [
      "CGCCC AGAGT\n",
      "ACAGGCGG AAATTTCA\n",
      "GAATGTCGTGA TCGTAGCGAAA\n",
      "TTCACTAACCTTAT GCCACAGCACGTGA\n"
     ]
    }
   ],
   "source": [
    "for seq_length in range(5, 15, 3):\n",
    "    print(random_dna_seq(seq_length), random_dna_seq(seq_length))"
   ]
  },
  {
   "cell_type": "markdown",
   "metadata": {},
   "source": [
    "Since there is only a single optional argument, we need not specify its name when calling `random_dna_seq`. As expected, when we omit the argument in the function call, `length` will be assigned the default value 10, and we get a random DNA sequence of that length."
   ]
  },
  {
   "cell_type": "code",
   "execution_count": 40,
   "metadata": {},
   "outputs": [
    {
     "data": {
      "text/plain": [
       "'CCGGAGCCAT'"
      ]
     },
     "execution_count": 40,
     "metadata": {},
     "output_type": "execute_result"
    }
   ],
   "source": [
    "random_dna_seq()"
   ]
  },
  {
   "cell_type": "markdown",
   "metadata": {},
   "source": [
    "#### Your turn now: random length sequences"
   ]
  },
  {
   "cell_type": "markdown",
   "metadata": {},
   "source": [
    "Replace `___` in the function definition below such that the function will generate a random DNA sequence with a length such that `min_length <= length < max_length`. The function should have two optional arguments, `min_length` and `max_length` wth default values of 5 and 10 respectively. To determine a value for the actual random length, you can use a function in the `random` module, look it up in the [documentation](https://docs.python.org/3/library/random.html)."
   ]
  },
  {
   "cell_type": "code",
   "execution_count": null,
   "metadata": {
    "collapsed": true
   },
   "outputs": [],
   "source": [
    "import random\n",
    "def random_dna_seq(____, ____):\n",
    "    length = ____\n",
    "    seq_list = random.choices('ACGT', k=length)\n",
    "    return ____"
   ]
  }
 ],
 "metadata": {
  "kernelspec": {
   "display_name": "Python 3",
   "language": "python",
   "name": "python3"
  },
  "language_info": {
   "codemirror_mode": {
    "name": "ipython",
    "version": 3
   },
   "file_extension": ".py",
   "mimetype": "text/x-python",
   "name": "python",
   "nbconvert_exporter": "python",
   "pygments_lexer": "ipython3",
   "version": "3.7.4"
  }
 },
 "nbformat": 4,
 "nbformat_minor": 2
}
