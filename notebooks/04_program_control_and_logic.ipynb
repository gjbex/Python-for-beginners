{
 "cells": [
  {
   "cell_type": "markdown",
   "metadata": {},
   "source": [
    "# Program control and logic"
   ]
  },
  {
   "cell_type": "markdown",
   "metadata": {},
   "source": [
    "## `if` statement"
   ]
  },
  {
   "cell_type": "markdown",
   "metadata": {},
   "source": [
    "An `if` statement choose a code fragment to execute based on the value of a logical expression."
   ]
  },
  {
   "cell_type": "code",
   "execution_count": 1,
   "metadata": {},
   "outputs": [
    {
     "name": "stdout",
     "output_type": "stream",
     "text": [
      "DNA: 2\n",
      "RNA: 1\n",
      "unknown: 1\n"
     ]
    }
   ],
   "source": [
    "fragments = ['AGGCT', 'UGGCA', 'AGGCC', 'TAATG']\n",
    "nr_dna = 0\n",
    "nr_rna = 0\n",
    "nr_unknown = 0\n",
    "for fragment in fragments:\n",
    "    if 'T' in fragment:\n",
    "        nr_dna += 1\n",
    "    elif 'U' in fragment:\n",
    "        nr_rna += 1\n",
    "    else:\n",
    "        nr_unknown += 1\n",
    "print(f'DNA: {nr_dna:d}')\n",
    "print(f'RNA: {nr_rna:d}')\n",
    "print(f'unknown: {nr_unknown:d}')"
   ]
  },
  {
   "cell_type": "markdown",
   "metadata": {},
   "source": [
    "In the code fragment above, `'T' in fragment` is a logical expression.  If it evaluates to `True`, i.e., if the fragment contains a T nucleotide, the number of DNA fragments `nr_dna` is incremented.  If that is not the case, the logical expression in the `elif` part, `'U' in fragment`, is evaluated, and if `True`, the number of RNA fragments `nr_rna` is incremented. If it evaluates to `False`, the fragment contains neither U, nor T, and hence we don't know for sure, so we increment `nr_unknown`."
   ]
  },
  {
   "cell_type": "markdown",
   "metadata": {},
   "source": [
    "An `if` statement can have zero or more `elif` parts, and optionally an `else` part."
   ]
  },
  {
   "cell_type": "markdown",
   "metadata": {},
   "source": [
    "#### Your turn now: odd and even"
   ]
  },
  {
   "cell_type": "markdown",
   "metadata": {},
   "source": [
    "Replace the `___` in the following code fragment so that it prints odd and even appropriately for integers."
   ]
  },
  {
   "cell_type": "code",
   "execution_count": null,
   "metadata": {
    "collapsed": true
   },
   "outputs": [],
   "source": [
    "numbers = [3, 7, 4, 9, 2]\n",
    "for number in numbers:\n",
    "    if ____:\n",
    "        print(f'{number:d} is even')\n",
    "    else:\n",
    "        print(f'{number:d} is odd')"
   ]
  },
  {
   "cell_type": "markdown",
   "metadata": {},
   "source": [
    "### Comparisons and truth"
   ]
  },
  {
   "cell_type": "markdown",
   "metadata": {},
   "source": [
    "In Python, there is often an automatic conversion of values to `True` or `False` that may seem bizarre, and sometimes counter-intuitive."
   ]
  },
  {
   "cell_type": "code",
   "execution_count": 13,
   "metadata": {},
   "outputs": [
    {
     "name": "stdout",
     "output_type": "stream",
     "text": [
      "None                 NoneType             False\n",
      "0                    int                  False\n",
      "3                    int                  True\n",
      "0.0                  float                False\n",
      "-2.3                 float                True\n",
      "                     str                  False\n",
      "abc                  str                  True\n",
      "[]                   list                 False\n",
      "[1, 2]               list                 True\n",
      "set()                set                  False\n",
      "{1, 2}               set                  True\n",
      "()                   tuple                False\n",
      "(1, 2)               tuple                True\n",
      "{}                   dict                 False\n",
      "{'a': 3, 'b': 7}     dict                 True\n"
     ]
    }
   ],
   "source": [
    "for item in [None, 0, 3, 0.0, -2.3, '', 'abc',\n",
    "             list(), [1, 2],\n",
    "             set(), {1, 2},\n",
    "             tuple(), (1, 2),\n",
    "             dict(), {'a': 3, 'b': 7}]:\n",
    "    print(f'{str(item):20s} {type(item).__name__:20s} {bool(item)}')"
   ]
  },
  {
   "cell_type": "markdown",
   "metadata": {},
   "source": [
    "Strictly speaking, yuo need not know this, since each of these automatic conversions can be expressed as a logical expression, e.g.,"
   ]
  },
  {
   "cell_type": "code",
   "execution_count": 17,
   "metadata": {},
   "outputs": [
    {
     "data": {
      "text/plain": [
       "True"
      ]
     },
     "execution_count": 17,
     "metadata": {},
     "output_type": "execute_result"
    }
   ],
   "source": [
    "len([1, 2]) > 0"
   ]
  },
  {
   "cell_type": "markdown",
   "metadata": {},
   "source": [
    "This is obviously more verbose, and experienced Python programmers will typically use the automatic conversions. However, feel free to be verbose, it is more important that you understand the code, than it is to be brief."
   ]
  },
  {
   "cell_type": "markdown",
   "metadata": {},
   "source": [
    "Values of Python's numerical types (i.e., `int`, 'float`) can be compared using the operators you'd expect: `<`, `<=`, `>`, '>=`, '==', and `!=`. The last two test for equality and inequality."
   ]
  },
  {
   "cell_type": "markdown",
   "metadata": {},
   "source": [
    "However, all these operators also work on strnig values and lists, while equality and inequality can be used on almost all types."
   ]
  },
  {
   "cell_type": "markdown",
   "metadata": {},
   "source": [
    "#### Your turn now: comparing `float`"
   ]
  },
  {
   "cell_type": "markdown",
   "metadata": {},
   "source": [
    "Given what you know about the representation of floating point numbers in Python, would you consider the following fragment of code safe? Assume that the values stored in `x` and `y` are type `float`."
   ]
  },
  {
   "cell_type": "code",
   "execution_count": null,
   "metadata": {
    "collapsed": true
   },
   "outputs": [],
   "source": [
    "x = some_computation()\n",
    "y = some_other_computation\n",
    "if x == y:\n",
    "    do_something()"
   ]
  },
  {
   "cell_type": "markdown",
   "metadata": {},
   "source": [
    "### Logical operations"
   ]
  },
  {
   "cell_type": "markdown",
   "metadata": {},
   "source": [
    "Forget about this section, it leads to code that is quite error prone, and difficult to maintain."
   ]
  },
  {
   "cell_type": "markdown",
   "metadata": {},
   "source": [
    "## `for` statement"
   ]
  },
  {
   "cell_type": "markdown",
   "metadata": {},
   "source": [
    "The `for` statement is an iteration statement, i.e., it will execute a block of code a number of times. It is often used to iterate over elements of `list`, `set`, or other collective types."
   ]
  },
  {
   "cell_type": "code",
   "execution_count": 18,
   "metadata": {},
   "outputs": [
    {
     "name": "stdout",
     "output_type": "stream",
     "text": [
      "11.0\n"
     ]
    }
   ],
   "source": [
    "values = [1.1, 2.2, 3.3, 4.4]\n",
    "total = 0.0\n",
    "for value in values:\n",
    "    total += value\n",
    "print(total)"
   ]
  },
  {
   "cell_type": "markdown",
   "metadata": {},
   "source": [
    "#### Your turn now: product"
   ]
  },
  {
   "cell_type": "markdown",
   "metadata": {},
   "source": [
    "Replace the`____` in the following code fragment so that it will print the product of the elements in `values`."
   ]
  },
  {
   "cell_type": "code",
   "execution_count": 18,
   "metadata": {},
   "outputs": [
    {
     "name": "stdout",
     "output_type": "stream",
     "text": [
      "11.0\n"
     ]
    }
   ],
   "source": [
    "values = [1.1, 2.2, 3.3, 4.4]\n",
    "total = ____\n",
    "for value in values:\n",
    "    total ____\n",
    "print(total)"
   ]
  },
  {
   "cell_type": "markdown",
   "metadata": {},
   "source": [
    "## `while` statement"
   ]
  },
  {
   "cell_type": "markdown",
   "metadata": {},
   "source": [
    "Often, we want something done as long as a condition holds true. This can be done in Python using the `while` statement, the second iteration statement."
   ]
  },
  {
   "cell_type": "markdown",
   "metadata": {},
   "source": [
    "As an example, let's find the first element of a list that is larger than a given value, for example, which number is the first in `[3, 9, 15, 19, 53]` that is larger than 10?"
   ]
  },
  {
   "cell_type": "code",
   "execution_count": 19,
   "metadata": {},
   "outputs": [
    {
     "name": "stdout",
     "output_type": "stream",
     "text": [
      "15\n"
     ]
    }
   ],
   "source": [
    "values = [3, 9, 15, 19, 53]\n",
    "i = 0\n",
    "while i < len(values) and values[i] <= 10:\n",
    "    i += 1\n",
    "if i < len(values):\n",
    "    print(values[i])"
   ]
  },
  {
   "cell_type": "markdown",
   "metadata": {},
   "source": [
    "Okay, this works, but you'll probably not be happy with this code since it looks kind of ugly."
   ]
  },
  {
   "cell_type": "markdown",
   "metadata": {},
   "source": [
    "## Skipping and breaking loops"
   ]
  },
  {
   "cell_type": "markdown",
   "metadata": {},
   "source": [
    "The example of the `while` statement above could be improved a bit."
   ]
  },
  {
   "cell_type": "code",
   "execution_count": 21,
   "metadata": {},
   "outputs": [
    {
     "name": "stdout",
     "output_type": "stream",
     "text": [
      "15\n"
     ]
    }
   ],
   "source": [
    "values = [3, 9, 15, 19, 53]\n",
    "i = 0\n",
    "while i < len(values):\n",
    "    if values[i] > 10:\n",
    "        print(values[i])\n",
    "        break\n",
    "    i += 1"
   ]
  },
  {
   "cell_type": "markdown",
   "metadata": {},
   "source": [
    "In the example above, the `while` loop is interrupted as soon as a value is found that is larger than 10. This is caused by the `break` statement. A `break` can be used in the body of both `for` and `while` statements. To illustrate this, let's rewrite the code fragment to use a `for` loop, rather than a `while` loop."
   ]
  },
  {
   "cell_type": "code",
   "execution_count": 22,
   "metadata": {},
   "outputs": [
    {
     "name": "stdout",
     "output_type": "stream",
     "text": [
      "15\n"
     ]
    }
   ],
   "source": [
    "values = [3, 9, 15, 19, 53]\n",
    "for value in values:\n",
    "    if value > 10:\n",
    "        print(value)\n",
    "        break"
   ]
  },
  {
   "cell_type": "markdown",
   "metadata": {},
   "source": [
    "Sometimes, we want to skip some iterations. For instance, consider a list of DNA/RNA fragments, but we only want to process DNA, not RNA, to compute the total AT-content of all DNA fragments in the list."
   ]
  },
  {
   "cell_type": "code",
   "execution_count": 28,
   "metadata": {},
   "outputs": [
    {
     "name": "stdout",
     "output_type": "stream",
     "text": [
      "skipping UGGACC\n",
      "AT-content: 0.44\n"
     ]
    }
   ],
   "source": [
    "fragments = ['AGGTC', 'TTGCAG', 'UGGACC', 'AAGCC']\n",
    "at_count = 0\n",
    "total_count = 0\n",
    "for fragment in fragments:\n",
    "    if 'U' in fragment:\n",
    "        print(f'skipping {fragment}')\n",
    "        continue\n",
    "    at_count += fragment.count('A') + fragment.count('T')\n",
    "    total_count += len(fragment)\n",
    "at_content = at_count/total_count\n",
    "print(f'AT-content: {at_content:.2f}')"
   ]
  },
  {
   "cell_type": "markdown",
   "metadata": {},
   "source": [
    "When a `continue` statement is executed, the current loop iteration, i.e., all remaining statement in the loop body, are skipped, and the next iteration starts immediately. In this case, the fourth iteration, i.e., the one for `'AAGCC'` is started as soon as `continue` is executed, skipping the assignments to `at_count` and `total_count` for `'UGGACC'`, which is clearly an RNA fragment."
   ]
  },
  {
   "cell_type": "markdown",
   "metadata": {},
   "source": [
    "Note: we are of course assuming that any sequence that does not contain an `U` nucleotide is a DNA fragment, which is clearly not necessarily true."
   ]
  },
  {
   "cell_type": "markdown",
   "metadata": {},
   "source": [
    "#### Your turn now: number of statements"
   ]
  },
  {
   "cell_type": "markdown",
   "metadata": {},
   "source": [
    "In the code fragment above, how many statements has\n",
    "  * the complete fragment,\n",
    "  * the body of the `for` loop, and\n",
    "  * the body o fthe `if` statement?"
   ]
  },
  {
   "cell_type": "markdown",
   "metadata": {},
   "source": [
    "#### Your turn now: counting nucleotides"
   ]
  },
  {
   "cell_type": "markdown",
   "metadata": {},
   "source": [
    "The following code fragment will, given a DNA sequence, count the number of times each nucleotide A, C, G, T occurs. However, if the sequence contains a character that is not a nucleotide, an error message is printed.  Replace the `____` so that the code works appropriately."
   ]
  },
  {
   "cell_type": "code",
   "execution_count": null,
   "metadata": {
    "collapsed": true
   },
   "outputs": [],
   "source": [
    "sequence = 'AGGTACQTTACG'\n",
    "nucl_count = dict()\n",
    "for nucl in sequence:\n",
    "    if nucl not in ____:\n",
    "        print(f'### error sequence contains invalid symbol {nucl}')\n",
    "    if nucl not in ____:\n",
    "        nucl_count[____] = ____\n",
    "    nucl_count[____] += 1"
   ]
  },
  {
   "cell_type": "markdown",
   "metadata": {},
   "source": [
    "## `range` function"
   ]
  },
  {
   "cell_type": "markdown",
   "metadata": {},
   "source": [
    "The range function can be used to generate a sequence of integers, starting at 0, and ending at the specified value, minus 1."
   ]
  },
  {
   "cell_type": "code",
   "execution_count": 29,
   "metadata": {},
   "outputs": [
    {
     "name": "stdout",
     "output_type": "stream",
     "text": [
      "[0, 1, 2, 3, 4]\n"
     ]
    }
   ],
   "source": [
    "print(list(range(5)))"
   ]
  },
  {
   "cell_type": "markdown",
   "metadata": {},
   "source": [
    "Note that we had to create a `list` out of the result of the `range` function. The type of `range` may be somewhat unexpected."
   ]
  },
  {
   "cell_type": "code",
   "execution_count": 30,
   "metadata": {},
   "outputs": [
    {
     "data": {
      "text/plain": [
       "range"
      ]
     },
     "execution_count": 30,
     "metadata": {},
     "output_type": "execute_result"
    }
   ],
   "source": [
    "type(range(5))"
   ]
  },
  {
   "cell_type": "markdown",
   "metadata": {},
   "source": [
    "However, we don't need (and shouldn't) convert a `range` to a `list` when we want to iterate over it with, e.g., a `for` loop."
   ]
  },
  {
   "cell_type": "code",
   "execution_count": 31,
   "metadata": {},
   "outputs": [
    {
     "name": "stdout",
     "output_type": "stream",
     "text": [
      "0**2 = 0\n",
      "1**2 = 1\n",
      "2**2 = 4\n",
      "3**2 = 9\n",
      "4**2 = 16\n"
     ]
    }
   ],
   "source": [
    "for i in range(5):\n",
    "    print(f'{i}**2 = {i**2}')"
   ]
  },
  {
   "cell_type": "markdown",
   "metadata": {},
   "source": [
    "The `range` function can be called with a single, with two, and with three arguments. When multiple arguments are specified, the first is the start value, the second the last vallue, non-inclusive, and the third the step. Compare the result of following function calls."
   ]
  },
  {
   "cell_type": "code",
   "execution_count": 34,
   "metadata": {},
   "outputs": [
    {
     "name": "stdout",
     "output_type": "stream",
     "text": [
      "[0, 1, 2, 3, 4, 5, 6, 7, 8, 9]\n"
     ]
    }
   ],
   "source": [
    "print(list(range(10)))"
   ]
  },
  {
   "cell_type": "code",
   "execution_count": 33,
   "metadata": {},
   "outputs": [
    {
     "name": "stdout",
     "output_type": "stream",
     "text": [
      "[1, 2, 3, 4, 5, 6, 7, 8, 9]\n"
     ]
    }
   ],
   "source": [
    "print(list(range(1, 10)))"
   ]
  },
  {
   "cell_type": "code",
   "execution_count": 35,
   "metadata": {},
   "outputs": [
    {
     "name": "stdout",
     "output_type": "stream",
     "text": [
      "[1, 3, 5, 7, 9]\n"
     ]
    }
   ],
   "source": [
    "print(list(range(1, 10, 2)))"
   ]
  },
  {
   "cell_type": "markdown",
   "metadata": {},
   "source": [
    "Note the similarity between the notation for `str` and `list` slicing, and the `range` function's arguments."
   ]
  },
  {
   "cell_type": "markdown",
   "metadata": {},
   "source": [
    "## `enumerate` function"
   ]
  },
  {
   "cell_type": "markdown",
   "metadata": {},
   "source": [
    "The `enumerate` function is used in `for` loops, and provides both the index and the value of what we iterate over."
   ]
  },
  {
   "cell_type": "code",
   "execution_count": 36,
   "metadata": {},
   "outputs": [
    {
     "name": "stdout",
     "output_type": "stream",
     "text": [
      "3 at index 0\n",
      "5 at index 1\n",
      "7 at index 2\n"
     ]
    }
   ],
   "source": [
    "data = [3, 5, 7]\n",
    "for i, value in enumerate(data):\n",
    "    print(f'{value} at index {i}')"
   ]
  },
  {
   "cell_type": "markdown",
   "metadata": {},
   "source": [
    "#### Your turn now: enumerate and nucleotide counts"
   ]
  },
  {
   "cell_type": "markdown",
   "metadata": {},
   "source": [
    "Modify the code of the previous exercise (counting nucleotides) such that the following `print` call would produce the correct error message. For the value of `sequence`, this should be:\n",
    "\n",
    "`### error: sequence contains invalid symbol Q at index 6`"
   ]
  },
  {
   "cell_type": "code",
   "execution_count": null,
   "metadata": {
    "collapsed": true
   },
   "outputs": [],
   "source": [
    "sequence = 'AGGTACQTTACG'\n",
    "nucl_count = dict()\n",
    "for ____ in ____:\n",
    "    if nucl not in ____:\n",
    "        print(f'### error sequence contains invalid symbol {nucl} at position {i}')\n",
    "    if nucl not in ____:\n",
    "        nucl_count[____] = ____\n",
    "    nucl_count[____] += 1"
   ]
  },
  {
   "cell_type": "markdown",
   "metadata": {},
   "source": [
    "## Exceptions and error handling"
   ]
  },
  {
   "cell_type": "markdown",
   "metadata": {},
   "source": [
    "Let's forget that for the time being."
   ]
  }
 ],
 "metadata": {
  "kernelspec": {
   "display_name": "Python 3",
   "language": "python",
   "name": "python3"
  },
  "language_info": {
   "codemirror_mode": {
    "name": "ipython",
    "version": 3
   },
   "file_extension": ".py",
   "mimetype": "text/x-python",
   "name": "python",
   "nbconvert_exporter": "python",
   "pygments_lexer": "ipython3",
   "version": "3.7.4"
  }
 },
 "nbformat": 4,
 "nbformat_minor": 2
}
