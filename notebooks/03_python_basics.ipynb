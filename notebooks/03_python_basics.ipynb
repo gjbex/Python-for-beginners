{
 "cells": [
  {
   "cell_type": "markdown",
   "metadata": {},
   "source": [
    "# Python basics"
   ]
  },
  {
   "cell_type": "markdown",
   "metadata": {},
   "source": [
    "## Simple data types"
   ]
  },
  {
   "cell_type": "markdown",
   "metadata": {},
   "source": [
    "Python has a small number of basic data types: `bool`, `int`, `float`, `complex`, and `str`."
   ]
  },
  {
   "cell_type": "markdown",
   "metadata": {},
   "source": [
    "### `bool`"
   ]
  },
  {
   "cell_type": "markdown",
   "metadata": {},
   "source": [
    "This type has only two values, `True` and `False`.  Operations are limited to logical `not`, `and`, and `or`."
   ]
  },
  {
   "cell_type": "code",
   "execution_count": 1,
   "metadata": {},
   "outputs": [
    {
     "data": {
      "text/plain": [
       "True"
      ]
     },
     "execution_count": 1,
     "metadata": {},
     "output_type": "execute_result"
    }
   ],
   "source": [
    "a = True\n",
    "b = False\n",
    "a and not b"
   ]
  },
  {
   "cell_type": "code",
   "execution_count": 2,
   "metadata": {},
   "outputs": [
    {
     "data": {
      "text/plain": [
       "False"
      ]
     },
     "execution_count": 2,
     "metadata": {},
     "output_type": "execute_result"
    }
   ],
   "source": [
    "c = False\n",
    "not (a or b) and c"
   ]
  },
  {
   "cell_type": "markdown",
   "metadata": {},
   "source": [
    "### `int`"
   ]
  },
  {
   "cell_type": "markdown",
   "metadata": {},
   "source": [
    "\n",
    "This type represents the integer numbers.  In Python 3, there is no limit to the size of these numbers (except for those imposed by the memory of your computer).  The usual arithmetic operations are miplemented: `+`, `-`, `*`, `//`, `%`, and `**`."
   ]
  },
  {
   "cell_type": "code",
   "execution_count": 3,
   "metadata": {},
   "outputs": [
    {
     "data": {
      "text/plain": [
       "-15"
      ]
     },
     "execution_count": 3,
     "metadata": {},
     "output_type": "execute_result"
    }
   ],
   "source": [
    "a = 3\n",
    "b = -5\n",
    "a*b"
   ]
  },
  {
   "cell_type": "markdown",
   "metadata": {},
   "source": [
    "Note a finer point: `-` does double duty as a uniry and binary operator.  The uniary operator changes the sign of an integer, the binary represents the substraction."
   ]
  },
  {
   "cell_type": "code",
   "execution_count": 4,
   "metadata": {},
   "outputs": [
    {
     "data": {
      "text/plain": [
       "1"
      ]
     },
     "execution_count": 4,
     "metadata": {},
     "output_type": "execute_result"
    }
   ],
   "source": [
    "a = 5\n",
    "b = 3\n",
    "a//b"
   ]
  },
  {
   "cell_type": "markdown",
   "metadata": {},
   "source": [
    "On `int`, the `//` operator denotes integer division."
   ]
  },
  {
   "cell_type": "code",
   "execution_count": 5,
   "metadata": {},
   "outputs": [
    {
     "data": {
      "text/plain": [
       "0"
      ]
     },
     "execution_count": 5,
     "metadata": {},
     "output_type": "execute_result"
    }
   ],
   "source": [
    "a = 3\n",
    "b = 5\n",
    "a//b"
   ]
  },
  {
   "cell_type": "markdown",
   "metadata": {},
   "source": [
    "The `%` operator is the modulo operator, and computes the remainder after integer division."
   ]
  },
  {
   "cell_type": "code",
   "execution_count": 6,
   "metadata": {},
   "outputs": [
    {
     "data": {
      "text/plain": [
       "2"
      ]
     },
     "execution_count": 6,
     "metadata": {},
     "output_type": "execute_result"
    }
   ],
   "source": [
    "a = 5\n",
    "b = 3\n",
    "a % b"
   ]
  },
  {
   "cell_type": "markdown",
   "metadata": {},
   "source": [
    "Note that the ordinary division operator can also be applied on `int` values, but that the result is a `float`.  The semantics of `/` for `int` changed from Python 2 to Python 3."
   ]
  },
  {
   "cell_type": "code",
   "execution_count": 7,
   "metadata": {},
   "outputs": [
    {
     "data": {
      "text/plain": [
       "1.6666666666666667"
      ]
     },
     "execution_count": 7,
     "metadata": {},
     "output_type": "execute_result"
    }
   ],
   "source": [
    "a = 5\n",
    "b = 3\n",
    "a/b"
   ]
  },
  {
   "cell_type": "code",
   "execution_count": 8,
   "metadata": {},
   "outputs": [
    {
     "data": {
      "text/plain": [
       "float"
      ]
     },
     "execution_count": 8,
     "metadata": {},
     "output_type": "execute_result"
    }
   ],
   "source": [
    "type(a/a)"
   ]
  },
  {
   "cell_type": "markdown",
   "metadata": {},
   "source": [
    "Python also has the power operator `**`."
   ]
  },
  {
   "cell_type": "code",
   "execution_count": 9,
   "metadata": {},
   "outputs": [
    {
     "data": {
      "text/plain": [
       "8"
      ]
     },
     "execution_count": 9,
     "metadata": {},
     "output_type": "execute_result"
    }
   ],
   "source": [
    "a = 2\n",
    "b = 3\n",
    "a**b"
   ]
  },
  {
   "cell_type": "code",
   "execution_count": 10,
   "metadata": {},
   "outputs": [
    {
     "data": {
      "text/plain": [
       "int"
      ]
     },
     "execution_count": 10,
     "metadata": {},
     "output_type": "execute_result"
    }
   ],
   "source": [
    "type(a**b)"
   ]
  },
  {
   "cell_type": "markdown",
   "metadata": {},
   "source": [
    "### Brief asside: assignment"
   ]
  },
  {
   "cell_type": "markdown",
   "metadata": {},
   "source": [
    "A syntactic construct that occurs over and over again is an assignment to update the value of a variable, e.g., `a = a + 2`. Given its prevalence, there is \"syntactic sugar\" to save some typing: `a += 2`. Similar shortcuts are defined for all arithmetic operators: `-=`, `*=`, `/=`, `//=`. This is not only the case for the operators defined on `int`, but also for those on `float`, `complex`, and the concatentation operator `+` defined on `str` (see following sections)."
   ]
  },
  {
   "cell_type": "markdown",
   "metadata": {},
   "source": [
    "### `float`"
   ]
  },
  {
   "cell_type": "markdown",
   "metadata": {},
   "source": [
    "This type represents real numbers. Note however that a `float` value is represented by 64 bits (double precision) which has a few important implications.  Although we tend to think of a `float` value as a real number, this type can not represent real numbers in the mathematical sense. The set of real numbers is infinite, and not countable, while the total number of `float` values is at most $2^{64}$. Hence a number of properties of real numbers do not hold for `float`, and computations with `float` numbers are subject to round-off errors. Information on the limits for `float` can be obtained throught he `sys` module."
   ]
  },
  {
   "cell_type": "code",
   "execution_count": 11,
   "metadata": {},
   "outputs": [
    {
     "data": {
      "text/plain": [
       "sys.float_info(max=1.7976931348623157e+308, max_exp=1024, max_10_exp=308, min=2.2250738585072014e-308, min_exp=-1021, min_10_exp=-307, dig=15, mant_dig=53, epsilon=2.220446049250313e-16, radix=2, rounds=1)"
      ]
     },
     "execution_count": 11,
     "metadata": {},
     "output_type": "execute_result"
    }
   ],
   "source": [
    "import sys\n",
    "sys.float_info"
   ]
  },
  {
   "cell_type": "markdown",
   "metadata": {},
   "source": [
    "The usual operators are defined on `float`: `+`, `-`, `*`, `/`, `//`, `%` and `**`."
   ]
  },
  {
   "cell_type": "code",
   "execution_count": 2,
   "metadata": {
    "ExecuteTime": {
     "end_time": "2019-10-18T17:20:58.503281Z",
     "start_time": "2019-10-18T17:20:58.483114Z"
    }
   },
   "outputs": [
    {
     "data": {
      "text/plain": [
       "0.5961538461538461"
      ]
     },
     "execution_count": 2,
     "metadata": {},
     "output_type": "execute_result"
    }
   ],
   "source": [
    "a = 3.1\n",
    "b = 5.2\n",
    "a/b"
   ]
  },
  {
   "cell_type": "markdown",
   "metadata": {},
   "source": [
    "The semantics of the `//` for floating point numbers is floor division, i.e., division with the result rounded down."
   ]
  },
  {
   "cell_type": "code",
   "execution_count": 13,
   "metadata": {},
   "outputs": [
    {
     "data": {
      "text/plain": [
       "0.0"
      ]
     },
     "execution_count": 13,
     "metadata": {},
     "output_type": "execute_result"
    }
   ],
   "source": [
    "a//b"
   ]
  },
  {
   "cell_type": "markdown",
   "metadata": {},
   "source": [
    "The function you expect to be defined for floating point numbers are available in the `math` module, and have to be imported before they can be used."
   ]
  },
  {
   "cell_type": "code",
   "execution_count": 14,
   "metadata": {},
   "outputs": [
    {
     "data": {
      "text/plain": [
       "1.760681686165901"
      ]
     },
     "execution_count": 14,
     "metadata": {},
     "output_type": "execute_result"
    }
   ],
   "source": [
    "from math import sqrt\n",
    "sqrt(a)"
   ]
  },
  {
   "cell_type": "code",
   "execution_count": 4,
   "metadata": {
    "ExecuteTime": {
     "end_time": "2019-10-18T17:22:11.130348Z",
     "start_time": "2019-10-18T17:22:11.122017Z"
    }
   },
   "outputs": [
    {
     "data": {
      "text/plain": [
       "True"
      ]
     },
     "execution_count": 4,
     "metadata": {},
     "output_type": "execute_result"
    }
   ],
   "source": [
    "from math import isclose\n",
    "isclose(a, a//b + a % b)"
   ]
  },
  {
   "cell_type": "code",
   "execution_count": 5,
   "metadata": {
    "ExecuteTime": {
     "end_time": "2019-10-18T17:22:17.728370Z",
     "start_time": "2019-10-18T17:22:17.720354Z"
    }
   },
   "outputs": [
    {
     "name": "stdout",
     "output_type": "stream",
     "text": [
      "Help on built-in function isclose in module math:\n",
      "\n",
      "isclose(a, b, *, rel_tol=1e-09, abs_tol=0.0)\n",
      "    Determine whether two floating point numbers are close in value.\n",
      "    \n",
      "      rel_tol\n",
      "        maximum difference for being considered \"close\", relative to the\n",
      "        magnitude of the input values\n",
      "      abs_tol\n",
      "        maximum difference for being considered \"close\", regardless of the\n",
      "        magnitude of the input values\n",
      "    \n",
      "    Return True if a is close in value to b, and False otherwise.\n",
      "    \n",
      "    For the values to be considered close, the difference between them\n",
      "    must be smaller than at least one of the tolerances.\n",
      "    \n",
      "    -inf, inf and NaN behave similarly to the IEEE 754 Standard.  That\n",
      "    is, NaN is not close to anything, even itself.  inf and -inf are\n",
      "    only close to themselves.\n",
      "\n"
     ]
    }
   ],
   "source": [
    "help(isclose)"
   ]
  },
  {
   "cell_type": "markdown",
   "metadata": {},
   "source": [
    "### `complex`"
   ]
  },
  {
   "cell_type": "markdown",
   "metadata": {},
   "source": [
    "Complex numbers are represented by `complex`, and the same caveats regarding the representation of `float` holds for this type as well. The real and imaginary parts are both represented using 64 bit, so each are double precision."
   ]
  },
  {
   "cell_type": "code",
   "execution_count": 15,
   "metadata": {},
   "outputs": [
    {
     "data": {
      "text/plain": [
       "(-9+38j)"
      ]
     },
     "execution_count": 15,
     "metadata": {},
     "output_type": "execute_result"
    }
   ],
   "source": [
    "a = 3 + 4j\n",
    "b = 5 + 6j\n",
    "a*b"
   ]
  },
  {
   "cell_type": "markdown",
   "metadata": {},
   "source": [
    "Note that `j`, rather than `i` is used to denote the imaginary part of complex number.  This notation is borrowed from engineering, where it is more common than in mathematics of physics."
   ]
  },
  {
   "cell_type": "markdown",
   "metadata": {},
   "source": [
    "Getting the real and imaginary parts of a complex number is quite straightforward, as is computing the conjugated."
   ]
  },
  {
   "cell_type": "code",
   "execution_count": 16,
   "metadata": {},
   "outputs": [
    {
     "data": {
      "text/plain": [
       "4.0"
      ]
     },
     "execution_count": 16,
     "metadata": {},
     "output_type": "execute_result"
    }
   ],
   "source": [
    "a.imag"
   ]
  },
  {
   "cell_type": "code",
   "execution_count": 17,
   "metadata": {},
   "outputs": [
    {
     "data": {
      "text/plain": [
       "3.0"
      ]
     },
     "execution_count": 17,
     "metadata": {},
     "output_type": "execute_result"
    }
   ],
   "source": [
    "a.real"
   ]
  },
  {
   "cell_type": "code",
   "execution_count": 18,
   "metadata": {},
   "outputs": [
    {
     "data": {
      "text/plain": [
       "(3-4j)"
      ]
     },
     "execution_count": 18,
     "metadata": {},
     "output_type": "execute_result"
    }
   ],
   "source": [
    "a.conjugate()"
   ]
  },
  {
   "cell_type": "markdown",
   "metadata": {},
   "source": [
    "The mathematical functions defined om complex numbers are available in the `cmath` module, e.g.,"
   ]
  },
  {
   "cell_type": "code",
   "execution_count": 19,
   "metadata": {
    "collapsed": true
   },
   "outputs": [],
   "source": [
    "from cmath import sqrt as csqrt"
   ]
  },
  {
   "cell_type": "code",
   "execution_count": 20,
   "metadata": {},
   "outputs": [
    {
     "data": {
      "text/plain": [
       "(2+1j)"
      ]
     },
     "execution_count": 20,
     "metadata": {},
     "output_type": "execute_result"
    }
   ],
   "source": [
    "csqrt(a)"
   ]
  },
  {
   "cell_type": "markdown",
   "metadata": {},
   "source": [
    "Note that we imported the complex `sqrt` under a different name to avoid confusion with the `sqrt` function we already imported from `math`.  We use an _alias_."
   ]
  },
  {
   "cell_type": "markdown",
   "metadata": {},
   "source": [
    "#### Your turn now: arithmetic and assignement"
   ]
  },
  {
   "cell_type": "markdown",
   "metadata": {},
   "source": [
    "Consider the following Python statements:\n",
    "  1. `print(a)`\n",
    "  1. `a =  b + 3`\n",
    "  1. `a = 7`\n",
    "  1. `b += 4`\n",
    "  1. `print(b)`\n",
    "  1. `b = 1`\n",
    "\n",
    "Order these statement (not necessarily all) such that the resulting code fragment produces the output:\n",
    "\n",
    "`\n",
    "1\n",
    "8\n",
    "`"
   ]
  },
  {
   "cell_type": "markdown",
   "metadata": {},
   "source": [
    "Did you require all statements? Is there more than one possible ordering that will produce the correct output?"
   ]
  },
  {
   "cell_type": "markdown",
   "metadata": {},
   "source": [
    "### `str`"
   ]
  },
  {
   "cell_type": "markdown",
   "metadata": {},
   "source": [
    "The type to represent textual data in Python is `str`. A value of this type is a sequence of characters. The only operators are `+`, concatenation, and `in`, substring membership."
   ]
  },
  {
   "cell_type": "code",
   "execution_count": 21,
   "metadata": {},
   "outputs": [
    {
     "data": {
      "text/plain": [
       "'This is a text.'"
      ]
     },
     "execution_count": 21,
     "metadata": {},
     "output_type": "execute_result"
    }
   ],
   "source": [
    "a = 'This is '\n",
    "b = 'a text.'\n",
    "a + b"
   ]
  },
  {
   "cell_type": "code",
   "execution_count": 22,
   "metadata": {},
   "outputs": [
    {
     "data": {
      "text/plain": [
       "True"
      ]
     },
     "execution_count": 22,
     "metadata": {},
     "output_type": "execute_result"
    }
   ],
   "source": [
    "a = 'this is some text'\n",
    "b = 'some'\n",
    "b in a"
   ]
  },
  {
   "cell_type": "code",
   "execution_count": 23,
   "metadata": {},
   "outputs": [
    {
     "data": {
      "text/plain": [
       "False"
      ]
     },
     "execution_count": 23,
     "metadata": {},
     "output_type": "execute_result"
    }
   ],
   "source": [
    "b = 'something'\n",
    "b in a"
   ]
  },
  {
   "cell_type": "markdown",
   "metadata": {},
   "source": [
    "Literal `str` values are delimited by single quotes, `'`, or by double quotes `\"`."
   ]
  },
  {
   "cell_type": "markdown",
   "metadata": {},
   "source": [
    "Almost all characters can be used in an `str` value, expect the single quote character `'` in single quoted strings, the double quote character `\"` in double quoted strings, and the backslash `\\`. If we want to represent those characters in a string, we have to use `\\'`, `\\\"`, and `\\\\` respectively."
   ]
  },
  {
   "cell_type": "code",
   "execution_count": 24,
   "metadata": {},
   "outputs": [
    {
     "name": "stdout",
     "output_type": "stream",
     "text": [
      "you'll have to take care to use \\', but \" is not problem\n"
     ]
    }
   ],
   "source": [
    "a = 'you\\'ll have to take care to use \\\\\\', but \" is not problem'\n",
    "print(a)"
   ]
  },
  {
   "cell_type": "code",
   "execution_count": 25,
   "metadata": {},
   "outputs": [
    {
     "name": "stdout",
     "output_type": "stream",
     "text": [
      "you'll have to take care to use \\\", but ' is not problem\n"
     ]
    }
   ],
   "source": [
    "a = \"you'll have to take care to use \\\\\\\", but ' is not problem\"\n",
    "print(a)"
   ]
  },
  {
   "cell_type": "markdown",
   "metadata": {},
   "source": [
    "Apart from quotes and backslash, a few other characters have a special representation in an `str`, notably the new line `\\n`, the carriage return `\\r`, and the tab character `\\t`."
   ]
  },
  {
   "cell_type": "code",
   "execution_count": 26,
   "metadata": {},
   "outputs": [
    {
     "name": "stdout",
     "output_type": "stream",
     "text": [
      "this is line 1\n",
      "this is line 2\n",
      "\tthis is line 3, indented\n"
     ]
    }
   ],
   "source": [
    "a = 'this is line 1\\nthis is line 2\\n\\tthis is line 3, indented'\n",
    "print(a)"
   ]
  },
  {
   "cell_type": "markdown",
   "metadata": {},
   "source": [
    "On Microsoft Windows operating systems, lines are not ended by a new line character only, but by carriage return and new line, so by `\\r\\n`. Under MacOS and Linux, lines simply end with a new line.  Mostly, you need not worry about this since Python usually does the \"right thing\" on each operating system, but it is useful to be aware to deal with some problems this may cause."
   ]
  },
  {
   "cell_type": "markdown",
   "metadata": {},
   "source": [
    "It is easy to access the characters of a string individually by their index in the string. The first character has index 0, the second index 1, and so on."
   ]
  },
  {
   "cell_type": "code",
   "execution_count": 27,
   "metadata": {},
   "outputs": [
    {
     "name": "stdout",
     "output_type": "stream",
     "text": [
      "a b\n"
     ]
    }
   ],
   "source": [
    "a = 'abcde'\n",
    "print(a[0], a[1])"
   ]
  },
  {
   "cell_type": "markdown",
   "metadata": {},
   "source": [
    "The function `len` can be used to determine the length of the string, so the last character would be at `a[len(a) - 1]`, the one to last at `a[len(a) - 2]`, and so on."
   ]
  },
  {
   "cell_type": "code",
   "execution_count": 28,
   "metadata": {},
   "outputs": [
    {
     "name": "stdout",
     "output_type": "stream",
     "text": [
      "e d\n"
     ]
    }
   ],
   "source": [
    "print(a[len(a) - 1], a[len(a) - 2])"
   ]
  },
  {
   "cell_type": "markdown",
   "metadata": {},
   "source": [
    "However, Python has a nice shortcut to make this a lot easier.  The index of the last character in a string is -1, the one before last -2, and so on."
   ]
  },
  {
   "cell_type": "code",
   "execution_count": 29,
   "metadata": {},
   "outputs": [
    {
     "name": "stdout",
     "output_type": "stream",
     "text": [
      "e d\n"
     ]
    }
   ],
   "source": [
    "print(a[-1], a[-2])"
   ]
  },
  {
   "cell_type": "markdown",
   "metadata": {},
   "source": [
    "It is also straightforward to extract substrings from it. For instance, given `'abcde'`, we can select the 2nd up to and including the 4th character, i.e., `'bcd'`, as follows:"
   ]
  },
  {
   "cell_type": "code",
   "execution_count": 30,
   "metadata": {},
   "outputs": [
    {
     "data": {
      "text/plain": [
       "'bcd'"
      ]
     },
     "execution_count": 30,
     "metadata": {},
     "output_type": "execute_result"
    }
   ],
   "source": [
    "a = 'abcde'\n",
    "a[1:4]"
   ]
  },
  {
   "cell_type": "markdown",
   "metadata": {},
   "source": [
    "You might have expected `a[2:4]` rather than the above, however, as discussed above, the first character of the string has index 0, so the second would be `a[1]`, and selection in Python is \"up to, but not including, so rather than 3, which is the index of the 4th character, we have to specify 4, since that is the index we do _not_ want to include."
   ]
  },
  {
   "cell_type": "markdown",
   "metadata": {},
   "source": [
    "Selecting the first 3 characters from a string can be done as follows:"
   ]
  },
  {
   "cell_type": "code",
   "execution_count": 32,
   "metadata": {},
   "outputs": [
    {
     "data": {
      "text/plain": [
       "'abc'"
      ]
     },
     "execution_count": 32,
     "metadata": {},
     "output_type": "execute_result"
    }
   ],
   "source": [
    "a[:3]"
   ]
  },
  {
   "cell_type": "markdown",
   "metadata": {},
   "source": [
    "Selecting all characters from the 4th to the end of the string is done similarly."
   ]
  },
  {
   "cell_type": "code",
   "execution_count": 33,
   "metadata": {},
   "outputs": [
    {
     "data": {
      "text/plain": [
       "'de'"
      ]
     },
     "execution_count": 33,
     "metadata": {},
     "output_type": "execute_result"
    }
   ],
   "source": [
    "a[3:]"
   ]
  },
  {
   "cell_type": "markdown",
   "metadata": {},
   "source": [
    "If, for whatever obscure reason, we might want to select every second character from the string starting a the 2nd, and ending at the 7th, we can use the most general form of substring selection, in this case using a step size of 2."
   ]
  },
  {
   "cell_type": "code",
   "execution_count": 34,
   "metadata": {},
   "outputs": [
    {
     "data": {
      "text/plain": [
       "'bdf'"
      ]
     },
     "execution_count": 34,
     "metadata": {},
     "output_type": "execute_result"
    }
   ],
   "source": [
    "a = 'abcdefghijklm'\n",
    "a[1:7:2]"
   ]
  },
  {
   "cell_type": "markdown",
   "metadata": {},
   "source": [
    "As before, we can leave out either the start index (so we start from the beginning of the string), or the end index (so we stop at the end of the string), or both. Moreover, the step size can be negative. We can use this to reverse a string."
   ]
  },
  {
   "cell_type": "code",
   "execution_count": 35,
   "metadata": {},
   "outputs": [
    {
     "data": {
      "text/plain": [
       "'mlkjihgfedcba'"
      ]
     },
     "execution_count": 35,
     "metadata": {},
     "output_type": "execute_result"
    }
   ],
   "source": [
    "a[::-1]"
   ]
  },
  {
   "cell_type": "markdown",
   "metadata": {},
   "source": [
    "This selection mechanism, called slicing, is quite universal in Python, and we will encounter it again when discussing lists and arrays."
   ]
  },
  {
   "cell_type": "markdown",
   "metadata": {},
   "source": [
    "Perhaps you expect that it is possible to modify one or more characters in a string using this mechanism, but that won't work. Values of type `str` are immutable, i.e., once created, they can not be modified."
   ]
  },
  {
   "cell_type": "code",
   "execution_count": 36,
   "metadata": {},
   "outputs": [
    {
     "ename": "TypeError",
     "evalue": "'str' object does not support item assignment",
     "output_type": "error",
     "traceback": [
      "\u001b[0;31m---------------------------------------------------------------------------\u001b[0m",
      "\u001b[0;31mTypeError\u001b[0m                                 Traceback (most recent call last)",
      "\u001b[0;32m<ipython-input-36-2cb667d7fca7>\u001b[0m in \u001b[0;36m<module>\u001b[0;34m()\u001b[0m\n\u001b[0;32m----> 1\u001b[0;31m \u001b[0ma\u001b[0m\u001b[0;34m[\u001b[0m\u001b[0;36m0\u001b[0m\u001b[0;34m]\u001b[0m \u001b[0;34m=\u001b[0m \u001b[0;34m'A'\u001b[0m\u001b[0;34m\u001b[0m\u001b[0m\n\u001b[0m",
      "\u001b[0;31mTypeError\u001b[0m: 'str' object does not support item assignment"
     ]
    }
   ],
   "source": [
    "a[0] = 'A'"
   ]
  },
  {
   "cell_type": "markdown",
   "metadata": {},
   "source": [
    "Iterating over the characters of a string can be done using a for-loop, as shown below."
   ]
  },
  {
   "cell_type": "code",
   "execution_count": 37,
   "metadata": {},
   "outputs": [
    {
     "name": "stdout",
     "output_type": "stream",
     "text": [
      "character 1 is a\n",
      "character 2 is b\n",
      "character 3 is c\n",
      "character 4 is d\n",
      "character 5 is e\n",
      "character 6 is f\n",
      "character 7 is g\n",
      "character 8 is h\n",
      "character 9 is i\n",
      "character 10 is j\n",
      "character 11 is k\n",
      "character 12 is l\n",
      "character 13 is m\n"
     ]
    }
   ],
   "source": [
    "i = 0\n",
    "for character in a:\n",
    "    print('character', i + 1, 'is', character)\n",
    "    i += 1"
   ]
  },
  {
   "cell_type": "markdown",
   "metadata": {},
   "source": [
    "The `str` class defines many very useful methods for string manipulation."
   ]
  },
  {
   "cell_type": "code",
   "execution_count": 38,
   "metadata": {},
   "outputs": [
    {
     "name": "stdout",
     "output_type": "stream",
     "text": [
      "ABCDEFGHIJKLM Abcdefghijklm\n"
     ]
    }
   ],
   "source": [
    "print(a.upper(), a.capitalize())"
   ]
  },
  {
   "cell_type": "markdown",
   "metadata": {},
   "source": [
    "Note that the value of the variable `a` was not modified, remember, `str` values are immutable."
   ]
  },
  {
   "cell_type": "code",
   "execution_count": 39,
   "metadata": {},
   "outputs": [
    {
     "data": {
      "text/plain": [
       "'abcdefghijklm'"
      ]
     },
     "execution_count": 39,
     "metadata": {},
     "output_type": "execute_result"
    }
   ],
   "source": [
    "a"
   ]
  },
  {
   "cell_type": "markdown",
   "metadata": {},
   "source": [
    "Finding the position of a substring in a string is also easy, using the `find` method. If the string doesn't contain the substring, -1 will be returned."
   ]
  },
  {
   "cell_type": "code",
   "execution_count": 40,
   "metadata": {},
   "outputs": [
    {
     "data": {
      "text/plain": [
       "2"
      ]
     },
     "execution_count": 40,
     "metadata": {},
     "output_type": "execute_result"
    }
   ],
   "source": [
    "a.find('cde')"
   ]
  },
  {
   "cell_type": "code",
   "execution_count": 41,
   "metadata": {},
   "outputs": [
    {
     "data": {
      "text/plain": [
       "-1"
      ]
     },
     "execution_count": 41,
     "metadata": {},
     "output_type": "execute_result"
    }
   ],
   "source": [
    "a.find('edc')"
   ]
  },
  {
   "cell_type": "markdown",
   "metadata": {},
   "source": [
    "When reading data from a text file, one often has to remove whitespace from string, either at the start or the end of a string, or both. `str` has methods to conveniently do just that: `lstrip`, `rstrip`, and `strip`."
   ]
  },
  {
   "cell_type": "code",
   "execution_count": 42,
   "metadata": {},
   "outputs": [
    {
     "name": "stdout",
     "output_type": "stream",
     "text": [
      "'some text  '\n",
      "'  some text'\n",
      "'some text'\n"
     ]
    }
   ],
   "source": [
    "a = '  some text  '\n",
    "print(f\"'{a.lstrip()}'\")\n",
    "print(f\"'{a.rstrip()}'\")\n",
    "print(f\"'{a.strip()}'\")"
   ]
  },
  {
   "cell_type": "markdown",
   "metadata": {},
   "source": [
    "Here, an f-string was used to properly format the output, ignore this for now, we discuss this shortly in some detail."
   ]
  },
  {
   "cell_type": "markdown",
   "metadata": {},
   "source": [
    "`split` is another `str` method that is very useful. As its name implies, it can be used to split strings. If it is called without any arguments, it will split on whitespace, otherwise it will split on the argument string.  It returns a list of strings."
   ]
  },
  {
   "cell_type": "code",
   "execution_count": 43,
   "metadata": {},
   "outputs": [
    {
     "name": "stdout",
     "output_type": "stream",
     "text": [
      "['alpha', '0.3', '9']\n"
     ]
    }
   ],
   "source": [
    "a = 'alpha  0.3     9'\n",
    "print(a.split())"
   ]
  },
  {
   "cell_type": "markdown",
   "metadata": {},
   "source": [
    "Below, the data in the string is separated by semi-colon, so we call `split` accordingly."
   ]
  },
  {
   "cell_type": "code",
   "execution_count": 44,
   "metadata": {},
   "outputs": [
    {
     "name": "stdout",
     "output_type": "stream",
     "text": [
      "['alpha', ' 0.3', ' 9']\n"
     ]
    }
   ],
   "source": [
    "a = 'alpha; 0.3; 9'\n",
    "print(a.split(';'))"
   ]
  },
  {
   "cell_type": "markdown",
   "metadata": {},
   "source": [
    "However, some care is required.  If we specifically use the space character to split, the result will be different from what we might expect."
   ]
  },
  {
   "cell_type": "code",
   "execution_count": 1,
   "metadata": {},
   "outputs": [
    {
     "name": "stdout",
     "output_type": "stream",
     "text": [
      "['alpha', '0.3', '9']\n",
      "['alpha', '', '0.3', '', '', '', '', '9']\n"
     ]
    }
   ],
   "source": [
    "a = 'alpha  0.3     9'\n",
    "print(a.split())\n",
    "print(a.split(' '))"
   ]
  },
  {
   "cell_type": "markdown",
   "metadata": {},
   "source": [
    "A split is done on each and every space character, so we will end up with a number of empty strings."
   ]
  },
  {
   "cell_type": "markdown",
   "metadata": {},
   "source": [
    "Sort of the opposite of `split` is `join`, i.e., you have a list of strings, and want to create a single string out of that by concatination. The original strings should be separated by some string, e.g., a semicolon."
   ]
  },
  {
   "cell_type": "code",
   "execution_count": 45,
   "metadata": {},
   "outputs": [
    {
     "name": "stdout",
     "output_type": "stream",
     "text": [
      "alpha;beta;gamma\n"
     ]
    }
   ],
   "source": [
    "separator = ';'\n",
    "lot_of_strings = ['alpha', 'beta', 'gamma']\n",
    "print(separator.join(lot_of_strings))"
   ]
  },
  {
   "cell_type": "markdown",
   "metadata": {},
   "source": [
    "It is somewhat counter-intuitive at first glance that the `join` method is actually invoked on the sperator string, rather than on the list. There is a very good reason for this, think about it."
   ]
  },
  {
   "cell_type": "markdown",
   "metadata": {},
   "source": [
    "Often when producing strings that are textual representations of integers or floating point numbers, we need to format them appropriately.  By way of example, we will produce a table with the integers from 0 to 9, and their square root."
   ]
  },
  {
   "cell_type": "code",
   "execution_count": 46,
   "metadata": {},
   "outputs": [
    {
     "name": "stdout",
     "output_type": "stream",
     "text": [
      "0 0.0\n",
      "1 1.0\n",
      "2 1.4142135623730951\n",
      "3 1.7320508075688772\n",
      "4 2.0\n",
      "5 2.23606797749979\n",
      "6 2.449489742783178\n",
      "7 2.6457513110645907\n",
      "8 2.8284271247461903\n",
      "9 3.0\n"
     ]
    }
   ],
   "source": [
    "from math import sqrt\n",
    "for i in [0, 1, 2, 3, 4, 5, 6, 7, 8, 9]:\n",
    "    print(i, sqrt(i))"
   ]
  },
  {
   "cell_type": "markdown",
   "metadata": {},
   "source": [
    "However, I'd prefer to separate the integer from the floating point value by a semicolon, and all floating point values should only be displayed with 4 decimal digits.  This is where f-strings (formatted strings, Python 3.6+) come in very handy. "
   ]
  },
  {
   "cell_type": "code",
   "execution_count": 47,
   "metadata": {},
   "outputs": [
    {
     "name": "stdout",
     "output_type": "stream",
     "text": [
      "0;0.0000\n",
      "1;1.0000\n",
      "2;1.4142\n",
      "3;1.7321\n",
      "4;2.0000\n",
      "5;2.2361\n",
      "6;2.4495\n",
      "7;2.6458\n",
      "8;2.8284\n",
      "9;3.0000\n"
     ]
    }
   ],
   "source": [
    "from math import sqrt\n",
    "for i in [0, 1, 2, 3, 4, 5, 6, 7, 8, 9]:\n",
    "    print(f'{i:d};{sqrt(i):.4f}')"
   ]
  },
  {
   "cell_type": "markdown",
   "metadata": {},
   "source": [
    "Let's break that down. The f-string is delimited by `f''` (or `f\"\"` if you prefer). Anything that is enclosed by braces `{...}` in such a string will be replaced, so take `{i:d}`. It will be replaced by the current value of the variable `i`, while the `:d` specifies that the type of `i` is integer, so it should be converted to a string first. The next character is the semicolon, that will just be a literal part of the string. Next, we have an other pair of braces, `{sqrt(i):.4f}`, so that will be replaced. The function call `sqrt(i)` will be executed, the return value is of type `float`. Hence the formatting string `.4f`, which will convert that floating point value to a string, with 4 digits after the decimal dot."
   ]
  },
  {
   "cell_type": "markdown",
   "metadata": {},
   "source": [
    "f-string have many formatting options, so it is a good idea to look at the documentation to get an overview of all its magic. Another example might be formatting a date."
   ]
  },
  {
   "cell_type": "code",
   "execution_count": 48,
   "metadata": {},
   "outputs": [
    {
     "name": "stdout",
     "output_type": "stream",
     "text": [
      "03-10-2018\n"
     ]
    }
   ],
   "source": [
    "day = 3\n",
    "month = 10\n",
    "year = 2018\n",
    "sep = '-'\n",
    "print(f\"{day:02d}{sep}{month:02d}{sep}{year:d}\")"
   ]
  },
  {
   "cell_type": "markdown",
   "metadata": {},
   "source": [
    "Two new features were introduced here. The formatting specification `02d` for values of type `int` implies that two digits should be shown, and if the integer only has a single one, as is the case for `day`, than it should be left-padded with `0`.  The other new feature is the straightforward substitution of a variable that has a string value, `sep`. The default format within braces is for `str`, so no formatting specification is required. However, we could have writting `{sep:s}`, since `s` is the format specifier for strings."
   ]
  },
  {
   "cell_type": "markdown",
   "metadata": {},
   "source": [
    "Note that the book uses the original Python string formatting syntax. Although you still see this frequently in existing code, I would not recommend this style for new code, and will use f-strings throughout the course."
   ]
  },
  {
   "cell_type": "markdown",
   "metadata": {},
   "source": [
    "#### Your turn now: find substrings"
   ]
  },
  {
   "cell_type": "markdown",
   "metadata": {},
   "source": [
    "Consider the string `'AGGTCAAGGTAGTCCAGGTAGGTCA'` that represents a DNA fragment. Use `find` to search for the substring `'AGGT'`. Note that `'AGGT'` occurs four times in the DNA string. What will be the result?\n",
    "\n",
    "1. 1\n",
    "1. 0\n",
    "1. [0, 6, 15, 19]\n",
    "1. [1, 7, 16, 20]"
   ]
  },
  {
   "cell_type": "markdown",
   "metadata": {},
   "source": [
    "Check the [documentation of the method `rfind`](https://docs.python.org/3.6/library/stdtypes.html#string-methods), and use it to find the position of the last occurrence of `'AGGT'` in the DNA string by replacing the `____` by the appropriate method call."
   ]
  },
  {
   "cell_type": "code",
   "execution_count": null,
   "metadata": {
    "collapsed": true
   },
   "outputs": [],
   "source": [
    "dna = 'AGGTCAAGGTAGTCCAGGTCA'\n",
    "dna.___"
   ]
  },
  {
   "cell_type": "markdown",
   "metadata": {},
   "source": [
    "In the following code fragment, replace the `____` so that the code fragment will display all indices in the DNA string where the substring `'AGGT'` occurs. You will need to consult the [documentation for the `find` method](https://docs.python.org/3.6/library/stdtypes.html#string-methods)."
   ]
  },
  {
   "cell_type": "code",
   "execution_count": null,
   "metadata": {
    "collapsed": true
   },
   "outputs": [],
   "source": [
    "dna = 'AGGTCAAGGTAGTCCAGGTAGGTCA'\n",
    "subdna = 'AGGT'\n",
    "pos = dna.find(____)\n",
    "while pos >= 0:\n",
    "    print(pos)\n",
    "    pos = dna.find(____)"
   ]
  },
  {
   "cell_type": "markdown",
   "metadata": {},
   "source": [
    "#### Your turn now: formatting"
   ]
  },
  {
   "cell_type": "markdown",
   "metadata": {},
   "source": [
    "Consider how to format time, we would like a string of the form `HH:MM:SS`, e.g., `07:23:05`. In the following code snippet, replace `____` by a format string that would produce the desired output for all reasonable values of `hours`, `minutes`, and `seconds`. You can assume that `hours` will be between 0 and 23, and that `minutes` and `seconds` will be between 0 and 59."
   ]
  },
  {
   "cell_type": "code",
   "execution_count": null,
   "metadata": {
    "collapsed": true
   },
   "outputs": [],
   "source": [
    "hours = 5\n",
    "minutes = 23\n",
    "seconds = 5\n",
    "print(____)"
   ]
  },
  {
   "cell_type": "markdown",
   "metadata": {},
   "source": [
    "#### Your turn now: string methods"
   ]
  },
  {
   "cell_type": "markdown",
   "metadata": {},
   "source": [
    "In the string `'  AGGAGTAA  ;GGATACCT  ;  TCCATTAC '`, the semicolon separates three DNA fragments. Replace `____` in the following code fragment so that for each of those fragments only the first four nucleotides are shown, followed by an ellipsis (i.e., `...`). For example, the first DNA fragment would be printed as `AGGA...`."
   ]
  },
  {
   "cell_type": "code",
   "execution_count": null,
   "metadata": {
    "collapsed": true
   },
   "outputs": [],
   "source": [
    "dna_strings = '  AGGAGTAA  ;GGATACCT  ;  TCCATTAC '\n",
    "for dna_string in dna_strings.____:\n",
    "    dna_string = dna_string.____\n",
    "    print(f'{dna_string[____]}...')"
   ]
  },
  {
   "cell_type": "markdown",
   "metadata": {},
   "source": [
    "## Collection data types"
   ]
  },
  {
   "cell_type": "markdown",
   "metadata": {
    "collapsed": true
   },
   "source": [
    "Python has a number of collective data types built in that are the bread and butter of everyday programming: `tuple`, `list`, `set`, and `dict`. Several more are avaible as modules in the Python standard library, but we will not discuss these here."
   ]
  },
  {
   "cell_type": "markdown",
   "metadata": {},
   "source": [
    "Collection types, as the name implies, are data structures that can store multiple values."
   ]
  },
  {
   "cell_type": "markdown",
   "metadata": {},
   "source": [
    "### `list`"
   ]
  },
  {
   "cell_type": "markdown",
   "metadata": {
    "collapsed": true
   },
   "source": [
    "A list represents a sequence of values that need not be unique, e.g., a sequence of species you have been studying the DNA of."
   ]
  },
  {
   "cell_type": "code",
   "execution_count": 49,
   "metadata": {
    "collapsed": true
   },
   "outputs": [],
   "source": [
    "species = ['home sapiens', 'felis catus', 'homo sapiens', 'danio rerio']"
   ]
  },
  {
   "cell_type": "markdown",
   "metadata": {},
   "source": [
    "The list `species` contains 4 elements, the first and third are `'homo sapiens'`, the second is `'felis catus'`, and the last is `'danio rerio'`.  In this case, all four elements have the same type, `str`. Although that is quite common, it is not necessarily the case, lists can contain elements of various types."
   ]
  },
  {
   "cell_type": "markdown",
   "metadata": {},
   "source": [
    "For strings, we could use the function `len` to determine the number of characters in a string. This same function does double duty, it will also determine the number of elements in a list."
   ]
  },
  {
   "cell_type": "code",
   "execution_count": 50,
   "metadata": {},
   "outputs": [
    {
     "data": {
      "text/plain": [
       "4"
      ]
     },
     "execution_count": 50,
     "metadata": {},
     "output_type": "execute_result"
    }
   ],
   "source": [
    "len(species)"
   ]
  },
  {
   "cell_type": "markdown",
   "metadata": {},
   "source": [
    "The indexing mechanism that we used to get characters out of a string work for elements of lists, so to get the second element, `'felis catus'`, we use index 1."
   ]
  },
  {
   "cell_type": "code",
   "execution_count": 51,
   "metadata": {},
   "outputs": [
    {
     "data": {
      "text/plain": [
       "'felis catus'"
      ]
     },
     "execution_count": 51,
     "metadata": {},
     "output_type": "execute_result"
    }
   ],
   "source": [
    "species[1]"
   ]
  },
  {
   "cell_type": "markdown",
   "metadata": {},
   "source": [
    "The last element can be addressed using index -1."
   ]
  },
  {
   "cell_type": "code",
   "execution_count": 52,
   "metadata": {},
   "outputs": [
    {
     "data": {
      "text/plain": [
       "'danio rerio'"
      ]
     },
     "execution_count": 52,
     "metadata": {},
     "output_type": "execute_result"
    }
   ],
   "source": [
    "species[-1]"
   ]
  },
  {
   "cell_type": "markdown",
   "metadata": {},
   "source": [
    "Selecting the second and third element can be done by slicing."
   ]
  },
  {
   "cell_type": "code",
   "execution_count": 53,
   "metadata": {},
   "outputs": [
    {
     "data": {
      "text/plain": [
       "['felis catus', 'homo sapiens']"
      ]
     },
     "execution_count": 53,
     "metadata": {},
     "output_type": "execute_result"
    }
   ],
   "source": [
    "species[1:3]"
   ]
  },
  {
   "cell_type": "markdown",
   "metadata": {},
   "source": [
    "Mote that the result of slice is of type `list`."
   ]
  },
  {
   "cell_type": "code",
   "execution_count": 54,
   "metadata": {},
   "outputs": [
    {
     "data": {
      "text/plain": [
       "list"
      ]
     },
     "execution_count": 54,
     "metadata": {},
     "output_type": "execute_result"
    }
   ],
   "source": [
    "type(species[1:3])"
   ]
  },
  {
   "cell_type": "markdown",
   "metadata": {},
   "source": [
    "A list can be empty, it has no elements, its length is zero."
   ]
  },
  {
   "cell_type": "code",
   "execution_count": 55,
   "metadata": {},
   "outputs": [
    {
     "data": {
      "text/plain": [
       "0"
      ]
     },
     "execution_count": 55,
     "metadata": {},
     "output_type": "execute_result"
    }
   ],
   "source": [
    "done = list()\n",
    "len(done)"
   ]
  },
  {
   "cell_type": "markdown",
   "metadata": {},
   "source": [
    "To check whether a value occurs as an element of a list, we can use the `in` operator, e.g.,"
   ]
  },
  {
   "cell_type": "code",
   "execution_count": 56,
   "metadata": {
    "scrolled": true
   },
   "outputs": [
    {
     "data": {
      "text/plain": [
       "True"
      ]
     },
     "execution_count": 56,
     "metadata": {},
     "output_type": "execute_result"
    }
   ],
   "source": [
    "'danio rerio' in species"
   ]
  },
  {
   "cell_type": "code",
   "execution_count": 57,
   "metadata": {},
   "outputs": [
    {
     "data": {
      "text/plain": [
       "False"
      ]
     },
     "execution_count": 57,
     "metadata": {},
     "output_type": "execute_result"
    }
   ],
   "source": [
    "'rerio' in species"
   ]
  },
  {
   "cell_type": "code",
   "execution_count": 58,
   "metadata": {},
   "outputs": [
    {
     "data": {
      "text/plain": [
       "False"
      ]
     },
     "execution_count": 58,
     "metadata": {},
     "output_type": "execute_result"
    }
   ],
   "source": [
    "['homo sapiens', 'felis catus'] in species"
   ]
  },
  {
   "cell_type": "markdown",
   "metadata": {},
   "source": [
    "Note the diffence of the semantics for the `in` operator when used with `str` and `list`. For `str`, the `in` operator tests for the occurrence of a substring in a string, for `list` it tests membership, so whether a value occurs in a list."
   ]
  },
  {
   "cell_type": "markdown",
   "metadata": {},
   "source": [
    "To find the index of the first element equal to a given element, we can use the `index` method."
   ]
  },
  {
   "cell_type": "code",
   "execution_count": 59,
   "metadata": {},
   "outputs": [
    {
     "data": {
      "text/plain": [
       "2"
      ]
     },
     "execution_count": 59,
     "metadata": {},
     "output_type": "execute_result"
    }
   ],
   "source": [
    "species.index('homo sapiens')"
   ]
  },
  {
   "cell_type": "markdown",
   "metadata": {},
   "source": [
    "Again, this is very similar to the `find` method defined for `str` (in fact, `index` is also defined for `str`), however, there is a caveat."
   ]
  },
  {
   "cell_type": "code",
   "execution_count": 60,
   "metadata": {},
   "outputs": [
    {
     "ename": "ValueError",
     "evalue": "'sapiens' is not in list",
     "output_type": "error",
     "traceback": [
      "\u001b[0;31m---------------------------------------------------------------------------\u001b[0m",
      "\u001b[0;31mValueError\u001b[0m                                Traceback (most recent call last)",
      "\u001b[0;32m<ipython-input-60-1ab2fbcb8e59>\u001b[0m in \u001b[0;36m<module>\u001b[0;34m()\u001b[0m\n\u001b[0;32m----> 1\u001b[0;31m \u001b[0mspecies\u001b[0m\u001b[0;34m.\u001b[0m\u001b[0mindex\u001b[0m\u001b[0;34m(\u001b[0m\u001b[0;34m'sapiens'\u001b[0m\u001b[0;34m)\u001b[0m\u001b[0;34m\u001b[0m\u001b[0m\n\u001b[0m",
      "\u001b[0;31mValueError\u001b[0m: 'sapiens' is not in list"
     ]
    }
   ],
   "source": [
    "species.index('sapiens')"
   ]
  },
  {
   "cell_type": "markdown",
   "metadata": {},
   "source": [
    "Rather than returning -1 when the element can not be found, the `index` method throws an exception, i.e., it generates an error.  Although this can be dealt with elegantly, for now we just first test whether the element occurs in the list, and if so, call `index`."
   ]
  },
  {
   "cell_type": "code",
   "execution_count": 61,
   "metadata": {},
   "outputs": [
    {
     "name": "stdout",
     "output_type": "stream",
     "text": [
      "element not found\n"
     ]
    }
   ],
   "source": [
    "if 'sapiens' in species:\n",
    "    position = species.index('sapiens')\n",
    "    print(f'found at {position}')\n",
    "else:\n",
    "    print('element not found')"
   ]
  },
  {
   "cell_type": "markdown",
   "metadata": {},
   "source": [
    "As opposed to string, lists are mutable, so we can assign new values to element, e.g., replacing the second element of the list."
   ]
  },
  {
   "cell_type": "code",
   "execution_count": 62,
   "metadata": {},
   "outputs": [
    {
     "data": {
      "text/plain": [
       "['home sapiens', 'canis familiaris', 'homo sapiens', 'danio rerio']"
      ]
     },
     "execution_count": 62,
     "metadata": {},
     "output_type": "execute_result"
    }
   ],
   "source": [
    "species[1] = 'canis familiaris'\n",
    "species"
   ]
  },
  {
   "cell_type": "markdown",
   "metadata": {},
   "source": [
    "Currently, the list has four elements, but we can more at the end if we like using the `append` method."
   ]
  },
  {
   "cell_type": "code",
   "execution_count": 63,
   "metadata": {},
   "outputs": [
    {
     "data": {
      "text/plain": [
       "['home sapiens',\n",
       " 'canis familiaris',\n",
       " 'homo sapiens',\n",
       " 'danio rerio',\n",
       " 'canis lupus']"
      ]
     },
     "execution_count": 63,
     "metadata": {},
     "output_type": "execute_result"
    }
   ],
   "source": [
    "species.append('canis lupus')\n",
    "species"
   ]
  },
  {
   "cell_type": "markdown",
   "metadata": {},
   "source": [
    "A `list` can also be modified by removing an element at a given index. A convenient method for this is `pop`, since it also returns the element that was removed. Let's remove the dog at index 1."
   ]
  },
  {
   "cell_type": "code",
   "execution_count": 64,
   "metadata": {},
   "outputs": [
    {
     "name": "stdout",
     "output_type": "stream",
     "text": [
      "canis familiaris ['home sapiens', 'homo sapiens', 'danio rerio', 'canis lupus']\n"
     ]
    }
   ],
   "source": [
    "removed = species.pop(1)\n",
    "print(removed, species)"
   ]
  },
  {
   "cell_type": "markdown",
   "metadata": {},
   "source": [
    "A list can be sorted using the function with that name, it will return a new list inthe natural order for the elements. For strings, that is lexicographic."
   ]
  },
  {
   "cell_type": "code",
   "execution_count": 65,
   "metadata": {},
   "outputs": [
    {
     "data": {
      "text/plain": [
       "['canis lupus', 'danio rerio', 'home sapiens', 'homo sapiens']"
      ]
     },
     "execution_count": 65,
     "metadata": {},
     "output_type": "execute_result"
    }
   ],
   "source": [
    "sorted(species)"
   ]
  },
  {
   "cell_type": "markdown",
   "metadata": {},
   "source": [
    "#### Your turn now: insert an element"
   ]
  },
  {
   "cell_type": "markdown",
   "metadata": {},
   "source": [
    "Another way to add elements to a list is by using the `insert` method, read the [documentation of `insert`](https://docs.python.org/3.6/library/stdtypes.html#lists), and apply it to insert another cat `'felis catus'` as the third element in the list. The resulting list should be:\n",
    "\n",
    "`['home sapiens', 'homo sapiens', 'felis catus', 'danio rerio', 'canis lupus']`"
   ]
  },
  {
   "cell_type": "markdown",
   "metadata": {},
   "source": [
    "Jupyter notebooks give give you immediate access to a brief description of what a furnction or method does, and the arguments that you should use. Compare the output of the `help` command with the online documentation you just consulted."
   ]
  },
  {
   "cell_type": "code",
   "execution_count": null,
   "metadata": {
    "collapsed": true
   },
   "outputs": [],
   "source": [
    "help(list.insert)"
   ]
  },
  {
   "cell_type": "markdown",
   "metadata": {},
   "source": [
    "Is the list above a good test to assess your understanding of the `insert` method?  Why not?"
   ]
  },
  {
   "cell_type": "markdown",
   "metadata": {},
   "source": [
    "Why does it makes sense to insert the new element _before_ the element at the given index?"
   ]
  },
  {
   "cell_type": "markdown",
   "metadata": {},
   "source": [
    "#### Your turn now: reversing a list"
   ]
  },
  {
   "cell_type": "markdown",
   "metadata": {},
   "source": [
    "One way, though probably not the most efficient one, of creating a copy of a list would be done by the following code."
   ]
  },
  {
   "cell_type": "code",
   "execution_count": 28,
   "metadata": {},
   "outputs": [
    {
     "data": {
      "text/plain": [
       "[3, 5, 7, 9]"
      ]
     },
     "execution_count": 28,
     "metadata": {},
     "output_type": "execute_result"
    }
   ],
   "source": [
    "original = [3, 5, 7, 9]\n",
    "copy = []\n",
    "for element in original:\n",
    "    copy.append(element)\n",
    "copy"
   ]
  },
  {
   "cell_type": "markdown",
   "metadata": {},
   "source": [
    "How would you complete the following code fragment to create a copy of the original list, but with the elements in the reversed order, i.e., so that `copy` has `[9, 7, 5, 3]` as value?  Replace `____` with an appropriate method call."
   ]
  },
  {
   "cell_type": "code",
   "execution_count": null,
   "metadata": {
    "collapsed": true
   },
   "outputs": [],
   "source": [
    "original = [3, 5, 7, 9]\n",
    "copy = []\n",
    "for element in original:\n",
    "    copy.____\n",
    "copy"
   ]
  },
  {
   "cell_type": "markdown",
   "metadata": {},
   "source": [
    "There are indeed more convenient ways to copy and reverse a list than the code fragments above, look for them in the [documentation on `list`](https://docs.python.org/3.6/library/stdtypes.html#lists)."
   ]
  },
  {
   "cell_type": "markdown",
   "metadata": {},
   "source": [
    "#### Your turn now: sort order"
   ]
  },
  {
   "cell_type": "markdown",
   "metadata": {},
   "source": [
    "Check Wikipedia for the definition of lexicographic versus alphabetic order for strings. Based on what you find, which result of calling `sorted` on `['C', 't', 'T', 'A', 'g']` would you expect, and why?\n",
    "\n",
    "1. `['A', 'C', 'g', 't', 'T']`\n",
    "1. `['A', 'C', 'T', 'g', 't']`"
   ]
  },
  {
   "cell_type": "markdown",
   "metadata": {},
   "source": [
    "### `tuple`"
   ]
  },
  {
   "cell_type": "markdown",
   "metadata": {},
   "source": [
    "Tuples are in many ways similar to lists, but they are, just like string, immutable. Once created, they can not be modified."
   ]
  },
  {
   "cell_type": "markdown",
   "metadata": {},
   "source": [
    "By way of examples, consider a tuple that has two elements, the first is the longitude, the second the lattitude of a location an observation was made."
   ]
  },
  {
   "cell_type": "code",
   "execution_count": 23,
   "metadata": {
    "collapsed": true
   },
   "outputs": [],
   "source": [
    "location = (5.34, 54.17)"
   ]
  },
  {
   "cell_type": "markdown",
   "metadata": {},
   "source": [
    "We get the longitude at index 0, similar as for lists."
   ]
  },
  {
   "cell_type": "code",
   "execution_count": 24,
   "metadata": {
    "scrolled": true
   },
   "outputs": [
    {
     "data": {
      "text/plain": [
       "5.34"
      ]
     },
     "execution_count": 24,
     "metadata": {},
     "output_type": "execute_result"
    }
   ],
   "source": [
    "location[0]"
   ]
  },
  {
   "cell_type": "markdown",
   "metadata": {},
   "source": [
    "However, we can not change the tuple."
   ]
  },
  {
   "cell_type": "code",
   "execution_count": null,
   "metadata": {
    "collapsed": true
   },
   "outputs": [],
   "source": [
    "location[1] = 55.17"
   ]
  },
  {
   "cell_type": "markdown",
   "metadata": {},
   "source": [
    "Consequently, a `tuple` has no methods such as `append` or `insert`."
   ]
  },
  {
   "cell_type": "markdown",
   "metadata": {},
   "source": [
    "#### Your turn now: `tuple` versus `list`"
   ]
  },
  {
   "cell_type": "markdown",
   "metadata": {},
   "source": [
    "Why would anyone use a `tuple` when a `list` can do so much more?"
   ]
  },
  {
   "cell_type": "markdown",
   "metadata": {},
   "source": [
    "### `set`"
   ]
  },
  {
   "cell_type": "markdown",
   "metadata": {},
   "source": [
    "As opposed to a `list`, elements of  a `set` are unique, i.e., each element occurs exactly once. Another difference is that in a `list`, we have a first, a second, a last element, so a `list` is ordered. Elements in a `set` are not ordered at all, so a phrase like \"the first element of a set\" is entirely meaningless."
   ]
  },
  {
   "cell_type": "markdown",
   "metadata": {},
   "source": [
    "The mathematical notion of a set maps directly to the semantics of the `set` type in Python."
   ]
  },
  {
   "cell_type": "markdown",
   "metadata": {},
   "source": [
    "Let's start with an empty set, and add some animals in a list, and print the `set` each time to see how it changes."
   ]
  },
  {
   "cell_type": "code",
   "execution_count": 4,
   "metadata": {},
   "outputs": [
    {
     "name": "stdout",
     "output_type": "stream",
     "text": [
      "adding cat: {'cat'}\n",
      "adding fish: {'fish', 'cat'}\n",
      "adding bird: {'fish', 'bird', 'cat'}\n",
      "adding cat: {'fish', 'bird', 'cat'}\n",
      "adding bird: {'fish', 'bird', 'cat'}\n",
      "adding dog: {'fish', 'bird', 'cat', 'dog'}\n"
     ]
    }
   ],
   "source": [
    "animals = set()\n",
    "for animal in ['cat', 'fish', 'bird', 'cat', 'bird', 'dog']:\n",
    "    animals.add(animal)\n",
    "    print(f'adding {animal}: {animals}')"
   ]
  },
  {
   "cell_type": "markdown",
   "metadata": {},
   "source": [
    "Although both `'cat'` and `'bird'` where added twice, they occur only once in the `set`, exactly what we would expect from set theory in mathematics."
   ]
  },
  {
   "cell_type": "markdown",
   "metadata": {},
   "source": [
    "You can already guess how to get the number of elements in set, and how to test membership, it is indeed similar to how it works for `list`."
   ]
  },
  {
   "cell_type": "code",
   "execution_count": 5,
   "metadata": {},
   "outputs": [
    {
     "data": {
      "text/plain": [
       "4"
      ]
     },
     "execution_count": 5,
     "metadata": {},
     "output_type": "execute_result"
    }
   ],
   "source": [
    "len(animals)"
   ]
  },
  {
   "cell_type": "code",
   "execution_count": 6,
   "metadata": {},
   "outputs": [
    {
     "data": {
      "text/plain": [
       "True"
      ]
     },
     "execution_count": 6,
     "metadata": {},
     "output_type": "execute_result"
    }
   ],
   "source": [
    "'bird' in animals"
   ]
  },
  {
   "cell_type": "code",
   "execution_count": 7,
   "metadata": {},
   "outputs": [
    {
     "data": {
      "text/plain": [
       "True"
      ]
     },
     "execution_count": 7,
     "metadata": {},
     "output_type": "execute_result"
    }
   ],
   "source": [
    "'wolf' not in animals"
   ]
  },
  {
   "cell_type": "markdown",
   "metadata": {},
   "source": [
    "Removing an element from a set can be done using the `discard` method, which doesn't do anything if the value we try to remove is not a member of the set."
   ]
  },
  {
   "cell_type": "code",
   "execution_count": 9,
   "metadata": {},
   "outputs": [
    {
     "data": {
      "text/plain": [
       "{'bird', 'cat', 'dog'}"
      ]
     },
     "execution_count": 9,
     "metadata": {},
     "output_type": "execute_result"
    }
   ],
   "source": [
    "animals.discard('fish')\n",
    "animals"
   ]
  },
  {
   "cell_type": "code",
   "execution_count": 10,
   "metadata": {},
   "outputs": [
    {
     "data": {
      "text/plain": [
       "{'bird', 'cat', 'dog'}"
      ]
     },
     "execution_count": 10,
     "metadata": {},
     "output_type": "execute_result"
    }
   ],
   "source": [
    "animals.discard('wolf')\n",
    "animals"
   ]
  },
  {
   "cell_type": "markdown",
   "metadata": {},
   "source": [
    "All the set operations you would expect are defined as methods, e.g., union, intersection, set difference, and so on. If you are curious, check the [documentation](https://docs.python.org/3.6/library/stdtypes.html#set-types-set-frozenset)."
   ]
  },
  {
   "cell_type": "markdown",
   "metadata": {},
   "source": [
    "Many types of data can be stored in a `set`, e.g., `int`, `float`, `str`, `tuple`, but not `list`, `set`, and `dict`. Technically, types that can be stored in a `set` have to be _hashable_."
   ]
  },
  {
   "cell_type": "markdown",
   "metadata": {},
   "source": [
    "#### Your turn now: popping from sets"
   ]
  },
  {
   "cell_type": "markdown",
   "metadata": {},
   "source": [
    "The `pop` method is also defined on `set`, but its semantics differs from that for `list`. Check the [documentation for `pop` on `set`](https://docs.python.org/3.6/library/stdtypes.html#set-types-set-frozenset). Why can't you `pop` from a set using an index?"
   ]
  },
  {
   "cell_type": "markdown",
   "metadata": {
    "collapsed": true
   },
   "source": [
    "### `dict`"
   ]
  },
  {
   "cell_type": "markdown",
   "metadata": {},
   "source": [
    "The last collective type we will discuss here is a dictinonary. As in a real-world dictionary, the information is stored as key/value pairs. You look up a word in a dictionary (the key), and you read its definition (the value). The keys in a dictionary can be any type that can be stored in a `set`, so all hashable types. The values can have any type."
   ]
  },
  {
   "cell_type": "markdown",
   "metadata": {},
   "source": [
    "As an example, take a dictionary that maps nucleotides (keys) to the number of times they occur in a DNA string `'AGGTCCCAATGA'`. The `A` occurs 4 times, the `C` 3, the `G` 3, and the `T` 2 times. The keys in the dictionary `counts` are of type `str`, the values of type `int`. For the sake of example, we leave out the value for `T`."
   ]
  },
  {
   "cell_type": "code",
   "execution_count": 3,
   "metadata": {
    "collapsed": true
   },
   "outputs": [],
   "source": [
    "counts = {\n",
    "    'A': 4,\n",
    "    'C': 3,\n",
    "    'G': 3,\n",
    "}"
   ]
  },
  {
   "cell_type": "markdown",
   "metadata": {},
   "source": [
    "Getting a value for a given key is very similar to accessing list elements. Instead of using the index to access and element, we use the key."
   ]
  },
  {
   "cell_type": "code",
   "execution_count": 2,
   "metadata": {},
   "outputs": [
    {
     "data": {
      "text/plain": [
       "3"
      ]
     },
     "execution_count": 2,
     "metadata": {},
     "output_type": "execute_result"
    }
   ],
   "source": [
    "counts['C']"
   ]
  },
  {
   "cell_type": "code",
   "execution_count": 4,
   "metadata": {},
   "outputs": [
    {
     "ename": "KeyError",
     "evalue": "'T'",
     "output_type": "error",
     "traceback": [
      "\u001b[0;31m---------------------------------------------------------------------------\u001b[0m",
      "\u001b[0;31mKeyError\u001b[0m                                  Traceback (most recent call last)",
      "\u001b[0;32m<ipython-input-4-41f625c7475d>\u001b[0m in \u001b[0;36m<module>\u001b[0;34m()\u001b[0m\n\u001b[0;32m----> 1\u001b[0;31m \u001b[0mcounts\u001b[0m\u001b[0;34m[\u001b[0m\u001b[0;34m'T'\u001b[0m\u001b[0;34m]\u001b[0m\u001b[0;34m\u001b[0m\u001b[0m\n\u001b[0m",
      "\u001b[0;31mKeyError\u001b[0m: 'T'"
     ]
    }
   ],
   "source": [
    "counts['T']"
   ]
  },
  {
   "cell_type": "markdown",
   "metadata": {},
   "source": [
    "When we try to use a key that is not in the dictionary, we get a `KeyError`. We can test whether a `dict` has a given key using the `in` operator."
   ]
  },
  {
   "cell_type": "code",
   "execution_count": 10,
   "metadata": {},
   "outputs": [
    {
     "data": {
      "text/plain": [
       "(True, False)"
      ]
     },
     "execution_count": 10,
     "metadata": {},
     "output_type": "execute_result"
    }
   ],
   "source": [
    "'T' in counts, 'A' in counts"
   ]
  },
  {
   "cell_type": "markdown",
   "metadata": {},
   "source": [
    "Adding a key/value pair to a `dict` is done by assignment, again very similar to `list`."
   ]
  },
  {
   "cell_type": "code",
   "execution_count": 6,
   "metadata": {
    "collapsed": true
   },
   "outputs": [],
   "source": [
    "counts['T'] = 2"
   ]
  },
  {
   "cell_type": "markdown",
   "metadata": {},
   "source": [
    "Iterating over the keys of a `dict` is straightforward, but note that the order is undefined. The keys in a `dict` can be thought of as a set, and hence are unordered. (Note: this is about to change.)"
   ]
  },
  {
   "cell_type": "code",
   "execution_count": 7,
   "metadata": {},
   "outputs": [
    {
     "name": "stdout",
     "output_type": "stream",
     "text": [
      "A occurs 4 times\n",
      "C occurs 3 times\n",
      "G occurs 3 times\n",
      "T occurs 2 times\n"
     ]
    }
   ],
   "source": [
    "for nucleotide in counts:\n",
    "    print(f'{nucleotide} occurs {counts[nucleotide]} times')"
   ]
  },
  {
   "cell_type": "markdown",
   "metadata": {},
   "source": [
    "To remove a key/value pair from a `dict`, the `pop` mehtod can be used.  It will remove the key and its value, and return the latter."
   ]
  },
  {
   "cell_type": "code",
   "execution_count": 8,
   "metadata": {},
   "outputs": [
    {
     "data": {
      "text/plain": [
       "4"
      ]
     },
     "execution_count": 8,
     "metadata": {},
     "output_type": "execute_result"
    }
   ],
   "source": [
    "counts.pop('A')"
   ]
  },
  {
   "cell_type": "markdown",
   "metadata": {},
   "source": [
    "The size of the `dict`, i.e., the number of key/value pairs it contains, can be retrieved using the `len` function."
   ]
  },
  {
   "cell_type": "code",
   "execution_count": 9,
   "metadata": {},
   "outputs": [
    {
     "data": {
      "text/plain": [
       "3"
      ]
     },
     "execution_count": 9,
     "metadata": {},
     "output_type": "execute_result"
    }
   ],
   "source": [
    "len(counts)"
   ]
  },
  {
   "cell_type": "markdown",
   "metadata": {},
   "source": [
    "#### Your turn now: counting nucleotides"
   ]
  },
  {
   "cell_type": "markdown",
   "metadata": {},
   "source": [
    "Above, we created the `counts` dictionary by hand. Replace the `____` in the following code fragment so that it is computed."
   ]
  },
  {
   "cell_type": "code",
   "execution_count": null,
   "metadata": {
    "collapsed": true
   },
   "outputs": [],
   "source": [
    "dna = 'AGGTCCCAATGA'\n",
    "counts = ____\n",
    "for nucleotide in dna:\n",
    "    counts[____] = ____\n",
    "for nucleotide in counts:\n",
    "    print(f'{____} occurs {____} times')"
   ]
  },
  {
   "cell_type": "markdown",
   "metadata": {},
   "source": [
    "In the second line, you'd like an empty dictionary, if you think of how you got an empty `list` or `set`, what is your guess for `dict`?  If necessary, check the [documentation](https://docs.python.org/3.6/tutorial/datastructures.html#dictionaries)."
   ]
  },
  {
   "cell_type": "markdown",
   "metadata": {},
   "source": [
    "#### Your turn now: `dict` and mathematics"
   ]
  },
  {
   "cell_type": "markdown",
   "metadata": {},
   "source": [
    "We already remarked on the similarity between a set in mathematics, and the `set` type in Python. There is a mathematical concept that closely corresponds to a `dict` in Python, what is it?"
   ]
  },
  {
   "cell_type": "markdown",
   "metadata": {},
   "source": [
    "### Comprehenions"
   ]
  },
  {
   "cell_type": "markdown",
   "metadata": {},
   "source": [
    "Python has the concept of `list`, `set`, and `dict` comprehensions, i.e., creating a new data structure out of and existing one. Again the analogy with mathematics is quite strong. We will restrict ourselves to `list` comprehensions here."
   ]
  },
  {
   "cell_type": "markdown",
   "metadata": {},
   "source": [
    "Consider the following `list` of DNA fragments."
   ]
  },
  {
   "cell_type": "code",
   "execution_count": 1,
   "metadata": {
    "collapsed": true
   },
   "outputs": [],
   "source": [
    "dna = ['AAGAATATCC', 'CGAAATGG', 'CGG']"
   ]
  },
  {
   "cell_type": "markdown",
   "metadata": {},
   "source": [
    "We can conveniently construct a new `list` that contains integers, representing the length of each fragment in `dna`."
   ]
  },
  {
   "cell_type": "code",
   "execution_count": 2,
   "metadata": {},
   "outputs": [
    {
     "data": {
      "text/plain": [
       "[10, 8, 3]"
      ]
     },
     "execution_count": 2,
     "metadata": {},
     "output_type": "execute_result"
    }
   ],
   "source": [
    "dna_lengths = [len(fragment) for fragment in dna]\n",
    "dna_lengths"
   ]
  },
  {
   "cell_type": "markdown",
   "metadata": {},
   "source": [
    "In the code above, the function `len` is applied to each element in the `list` `dna`, and the result is add to a new `list`, that we assign to the variable `dna_lengths`."
   ]
  },
  {
   "cell_type": "markdown",
   "metadata": {},
   "source": [
    "Comprehensions are used a lot in Python, and, when used judiciously, can lead to code that is easier to understand. However, when overused, complicated comprehensions will obfuscate your intentions."
   ]
  },
  {
   "cell_type": "markdown",
   "metadata": {},
   "source": [
    "#### Your turn now: capitalize"
   ]
  },
  {
   "cell_type": "markdown",
   "metadata": {},
   "source": [
    "Given a `list` of DNA fragments `dna_orig`, replace `____` in the following code to create a new list that has all-uppercase symbols."
   ]
  },
  {
   "cell_type": "code",
   "execution_count": null,
   "metadata": {
    "collapsed": true
   },
   "outputs": [],
   "source": [
    "dna_orig = ['agTCCaA', 'AAtgc', 'TTACT']\n",
    "dna = ____\n",
    "for fragment in ____:\n",
    "    dna.____"
   ]
  },
  {
   "cell_type": "markdown",
   "metadata": {},
   "source": [
    "Rewrite the code above to use a `list` comprehension to obtain the same result."
   ]
  }
 ],
 "metadata": {
  "kernelspec": {
   "display_name": "Python 3",
   "language": "python",
   "name": "python3"
  },
  "language_info": {
   "codemirror_mode": {
    "name": "ipython",
    "version": 3
   },
   "file_extension": ".py",
   "mimetype": "text/x-python",
   "name": "python",
   "nbconvert_exporter": "python",
   "pygments_lexer": "ipython3",
   "version": "3.7.4"
  }
 },
 "nbformat": 4,
 "nbformat_minor": 2
}
