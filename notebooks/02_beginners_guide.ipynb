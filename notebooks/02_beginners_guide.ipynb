{
 "cells": [
  {
   "cell_type": "markdown",
   "metadata": {},
   "source": [
    "# A beginner's guide"
   ]
  },
  {
   "cell_type": "markdown",
   "metadata": {},
   "source": [
    "## Programming principles"
   ]
  },
  {
   "cell_type": "markdown",
   "metadata": {},
   "source": [
    "A program is a formal description of computational steps to be performed. These steps are form a list of statements."
   ]
  },
  {
   "cell_type": "markdown",
   "metadata": {},
   "source": [
    "Given the mass and volume of an object, one can compute its density as mass/volume. Assume the mass to be 4.5 $kg$, and the volume 0.3 $m^3$, we first define variables to store these values, next compute the density, and finally print the result."
   ]
  },
  {
   "cell_type": "code",
   "execution_count": 1,
   "metadata": {},
   "outputs": [
    {
     "name": "stdout",
     "output_type": "stream",
     "text": [
      "15.0\n"
     ]
    }
   ],
   "source": [
    "mass = 4.5\n",
    "volume = 0.3\n",
    "density = mass/volume\n",
    "print(density)"
   ]
  },
  {
   "cell_type": "markdown",
   "metadata": {},
   "source": [
    "The variables `mass`, `volume` and `density` retain their values between output cells, i.e., their state is preserved."
   ]
  },
  {
   "cell_type": "code",
   "execution_count": 2,
   "metadata": {},
   "outputs": [
    {
     "name": "stdout",
     "output_type": "stream",
     "text": [
      "4.5 0.3\n"
     ]
    }
   ],
   "source": [
    "print(mass, volume)"
   ]
  },
  {
   "cell_type": "markdown",
   "metadata": {},
   "source": [
    "### Modules"
   ]
  },
  {
   "cell_type": "markdown",
   "metadata": {},
   "source": [
    "Code is typically distributed over many files, that code for some functionality. Formulated alternatively, one can import modules to extend Python's core functionality. For example, the usual mathematical functions such as `sqrt`, `sin`, and so on are defined in the `math` module. If we want to use those functions, we have to import the module."
   ]
  },
  {
   "cell_type": "code",
   "execution_count": 4,
   "metadata": {},
   "outputs": [
    {
     "name": "stdout",
     "output_type": "stream",
     "text": [
      "5.0099900199501395\n"
     ]
    }
   ],
   "source": [
    "import math\n",
    "print(math.sqrt(25.1))"
   ]
  },
  {
   "cell_type": "markdown",
   "metadata": {},
   "source": [
    "Although it is in general good practice to use the functions from a module as shown above, for this particular module it is not the best idea since it tends to make mathematical formulas hard to read (which leads to programming errors)."
   ]
  },
  {
   "cell_type": "markdown",
   "metadata": {},
   "source": [
    "It is possible to import one or more functions from a module, so that they can be used without the module name."
   ]
  },
  {
   "cell_type": "code",
   "execution_count": 6,
   "metadata": {},
   "outputs": [
    {
     "name": "stdout",
     "output_type": "stream",
     "text": [
      "24.999999999999996\n"
     ]
    }
   ],
   "source": [
    "from math import exp, log\n",
    "print(exp(2*log(5)))"
   ]
  },
  {
   "cell_type": "markdown",
   "metadata": {},
   "source": [
    "Note the mathematical correct result would be 25, but Python returns a number that is close to, but not quite equal to 25. This is a consequence of the finite representation of real numbers, and computation that are done with a precisionn of 15 digits. It is inherent to numerical computations on a computer."
   ]
  },
  {
   "cell_type": "markdown",
   "metadata": {},
   "source": [
    "### Types"
   ]
  },
  {
   "cell_type": "markdown",
   "metadata": {},
   "source": [
    "In Python, all data is stored in objects, which have various types. The value 5 would be an object of type (or, more precisely, class) `int`, while 2.1 would be of type `float`. Text is represented in objects of type `str` (string)."
   ]
  },
  {
   "cell_type": "code",
   "execution_count": 7,
   "metadata": {},
   "outputs": [
    {
     "data": {
      "text/plain": [
       "int"
      ]
     },
     "execution_count": 7,
     "metadata": {},
     "output_type": "execute_result"
    }
   ],
   "source": [
    "type(5)"
   ]
  },
  {
   "cell_type": "code",
   "execution_count": 8,
   "metadata": {},
   "outputs": [
    {
     "data": {
      "text/plain": [
       "float"
      ]
     },
     "execution_count": 8,
     "metadata": {},
     "output_type": "execute_result"
    }
   ],
   "source": [
    "type(2.1)"
   ]
  },
  {
   "cell_type": "code",
   "execution_count": 9,
   "metadata": {},
   "outputs": [
    {
     "data": {
      "text/plain": [
       "str"
      ]
     },
     "execution_count": 9,
     "metadata": {},
     "output_type": "execute_result"
    }
   ],
   "source": [
    "type('this is a string')"
   ]
  },
  {
   "cell_type": "markdown",
   "metadata": {},
   "source": [
    "Note that variables are names for values, so their type is that of the value they currently represent, e.g.,"
   ]
  },
  {
   "cell_type": "code",
   "execution_count": 10,
   "metadata": {},
   "outputs": [
    {
     "data": {
      "text/plain": [
       "float"
      ]
     },
     "execution_count": 10,
     "metadata": {},
     "output_type": "execute_result"
    }
   ],
   "source": [
    "type(density)"
   ]
  },
  {
   "cell_type": "markdown",
   "metadata": {},
   "source": [
    "Programming has a lot to do with logic, so an important type is `bool` (Boolean), which has only two values, `True` and `False`."
   ]
  },
  {
   "cell_type": "code",
   "execution_count": 13,
   "metadata": {},
   "outputs": [
    {
     "name": "stdout",
     "output_type": "stream",
     "text": [
      "True\n"
     ]
    }
   ],
   "source": [
    "is_depressed = True\n",
    "has_chocolate = True\n",
    "is_happy = (not is_depressed) or (is_depressed and has_chocolate)\n",
    "print(is_happy)"
   ]
  },
  {
   "cell_type": "code",
   "execution_count": 12,
   "metadata": {},
   "outputs": [
    {
     "data": {
      "text/plain": [
       "bool"
      ]
     },
     "execution_count": 12,
     "metadata": {},
     "output_type": "execute_result"
    }
   ],
   "source": [
    "type(is_happy)"
   ]
  },
  {
   "cell_type": "markdown",
   "metadata": {},
   "source": [
    "Simple types such as `int`, `float`, and `str` are very useful as basic building blocks of information, we need some more sophisticated types to represent structured information. Python has many types with various mathematical properties for this purpose,  but we'll limit ourselves to a single example here: `list`."
   ]
  },
  {
   "cell_type": "markdown",
   "metadata": {},
   "source": [
    "As the name implies, a list can be used to store items (think of a shopping list that contains things to buy). Elements in a list are ordered, i.e., there is a first, a second, a last element. Elements in a list need not be unique, i.e., an element can occur multiple times."
   ]
  },
  {
   "cell_type": "code",
   "execution_count": 2,
   "metadata": {
    "collapsed": true,
    "jupyter": {
     "outputs_hidden": true
    }
   },
   "outputs": [],
   "source": [
    "numbers = [3, 5, 3, 7, 9]"
   ]
  },
  {
   "cell_type": "markdown",
   "metadata": {},
   "source": [
    "The list `numbers` contains 5 elements, i.e., it has length 5. Note that the element 3 occurs two times. The first element is 3, the last element is 9."
   ]
  },
  {
   "cell_type": "markdown",
   "metadata": {},
   "source": [
    "The function `len` can be used to get the number of elements in a list, i.e., its length."
   ]
  },
  {
   "cell_type": "code",
   "execution_count": 15,
   "metadata": {},
   "outputs": [
    {
     "data": {
      "text/plain": [
       "5"
      ]
     },
     "execution_count": 15,
     "metadata": {},
     "output_type": "execute_result"
    }
   ],
   "source": [
    "len(numbers)"
   ]
  },
  {
   "cell_type": "markdown",
   "metadata": {},
   "source": [
    "The first element of the list is at index 0 (which is a bit counter-intuitive, but that's computer scientists for you)."
   ]
  },
  {
   "cell_type": "code",
   "execution_count": 16,
   "metadata": {},
   "outputs": [
    {
     "data": {
      "text/plain": [
       "3"
      ]
     },
     "execution_count": 16,
     "metadata": {},
     "output_type": "execute_result"
    }
   ],
   "source": [
    "numbers[0]"
   ]
  },
  {
   "cell_type": "markdown",
   "metadata": {},
   "source": [
    "The second element is at index 1."
   ]
  },
  {
   "cell_type": "code",
   "execution_count": 19,
   "metadata": {},
   "outputs": [
    {
     "data": {
      "text/plain": [
       "5"
      ]
     },
     "execution_count": 19,
     "metadata": {},
     "output_type": "execute_result"
    }
   ],
   "source": [
    "numbers[1]"
   ]
  },
  {
   "cell_type": "markdown",
   "metadata": {},
   "source": [
    "The last element of `numbers` is at index 4 (its length minus one), but, equivalently, it is at index $-1$ as well, which is more convenient to use."
   ]
  },
  {
   "cell_type": "code",
   "execution_count": 17,
   "metadata": {},
   "outputs": [
    {
     "data": {
      "text/plain": [
       "9"
      ]
     },
     "execution_count": 17,
     "metadata": {},
     "output_type": "execute_result"
    }
   ],
   "source": [
    "numbers[-1]"
   ]
  },
  {
   "cell_type": "markdown",
   "metadata": {},
   "source": [
    "Python has many more built-in types to represent structured information such as `tuple`, `set`, and `dict`, but we will return to those later."
   ]
  },
  {
   "cell_type": "markdown",
   "metadata": {},
   "source": [
    "### Statements"
   ]
  },
  {
   "cell_type": "markdown",
   "metadata": {},
   "source": [
    "We have already used two types of statements, the first was the assignment, e.g.,"
   ]
  },
  {
   "cell_type": "code",
   "execution_count": 20,
   "metadata": {
    "collapsed": true,
    "jupyter": {
     "outputs_hidden": true
    }
   },
   "outputs": [],
   "source": [
    "volume = 0.9"
   ]
  },
  {
   "cell_type": "markdown",
   "metadata": {},
   "source": [
    "The second was a function call, e.g.,"
   ]
  },
  {
   "cell_type": "code",
   "execution_count": 21,
   "metadata": {},
   "outputs": [
    {
     "name": "stdout",
     "output_type": "stream",
     "text": [
      "0.9\n"
     ]
    }
   ],
   "source": [
    "print(volume)"
   ]
  },
  {
   "cell_type": "markdown",
   "metadata": {},
   "source": [
    "A category of statements that will control the flow of your program, control flow statements contains iteration statements and conditional statements."
   ]
  },
  {
   "cell_type": "markdown",
   "metadata": {},
   "source": [
    "Python has two iteration statements, `for ...: ...`, and `while ...: ...`. The for-loop is often used to iterate over all elements of a data structures, such as a list, e.g.,"
   ]
  },
  {
   "cell_type": "code",
   "execution_count": 3,
   "metadata": {},
   "outputs": [
    {
     "name": "stdout",
     "output_type": "stream",
     "text": [
      "27\n"
     ]
    }
   ],
   "source": [
    "sum = 0\n",
    "for number in numbers:\n",
    "    sum = sum + number\n",
    "print(sum)"
   ]
  },
  {
   "cell_type": "markdown",
   "metadata": {},
   "source": [
    "The for-loop will execute the assignment statement `sum = sum + number` for each element of the list `numbers`. In this case, the body of the loop consists of only that one statement, but there can be as many as necessary. The for-loop will be executed as many times as the list `numbers` has elements, each time assigning a value to the variable `number`. The first time `number` will be 3, the second time 5, and so on, the last time it will have the value 9."
   ]
  },
  {
   "cell_type": "markdown",
   "metadata": {},
   "source": [
    "Note the indentation in the for-loop, the structure of a Python program is determined by its indentation, so whitespace characters (space, tab) are significant in Python code."
   ]
  },
  {
   "cell_type": "markdown",
   "metadata": {},
   "source": [
    "The statements in the body of a for-loop will be executed as many times as the list has values.  A while-loop on the other hand will be executed for as long as some boolean condition is `True`."
   ]
  },
  {
   "cell_type": "markdown",
   "metadata": {},
   "source": [
    "To illustrate using a while-loop, lets tests whether a number `n` is prime.  That would be true if and only if it can be divided only by 1 and itself.  So if we use a variable `divisor` that we initialize to 2, and while that doesn't divide `n`, and is less than `n/2`, increment `divisor` by `."
   ]
  },
  {
   "cell_type": "code",
   "execution_count": 5,
   "metadata": {
    "collapsed": true,
    "jupyter": {
     "outputs_hidden": true
    }
   },
   "outputs": [],
   "source": [
    "n = 25\n",
    "divisor = 2\n",
    "while n % divisor != 0 and divisor <= n/2:\n",
    "    divisor = divisor + 1"
   ]
  },
  {
   "cell_type": "markdown",
   "metadata": {},
   "source": [
    "The condition of the while-loop is no longer `True`.  Either `divisor` divides `n`, or `divisor > n/2`.  In the former case, `n` is not prime, in the latter, it is.  Lets test the latter using an if-statement, and print the appropriate result."
   ]
  },
  {
   "cell_type": "code",
   "execution_count": 6,
   "metadata": {},
   "outputs": [
    {
     "name": "stdout",
     "output_type": "stream",
     "text": [
      "25 is not prime\n"
     ]
    }
   ],
   "source": [
    "if divisor > n/2:\n",
    "    print(n, 'is prime')\n",
    "else:\n",
    "    print(n, 'is not prime')"
   ]
  },
  {
   "cell_type": "markdown",
   "metadata": {},
   "source": [
    "The semantics of the if-statement, which is a conditional statement is that the Boolean condition, i.e., `divisor > n/2` is evaluated, and if it is `True`, then `25 is prime` will be printed, otherwise, `25 is not prime` would be printed."
   ]
  },
  {
   "cell_type": "markdown",
   "metadata": {},
   "source": [
    "This code was executed for `n = 25`, but we would like to test for varius numbers whether or not they are prime, so we can define a function that combines the assignment to `divisor`, the while-loop and the if-statement into a function."
   ]
  },
  {
   "cell_type": "code",
   "execution_count": 11,
   "metadata": {
    "collapsed": true,
    "jupyter": {
     "outputs_hidden": true
    }
   },
   "outputs": [],
   "source": [
    "def print_primality(n):\n",
    "    divisor = 2\n",
    "    while n % divisor != 0 and divisor <= n:\n",
    "        divisor += 1\n",
    "    if divisor > n/2:\n",
    "        print(n, 'is prime')\n",
    "    else:\n",
    "        print(n, 'is not prime')"
   ]
  },
  {
   "cell_type": "markdown",
   "metadata": {},
   "source": [
    "Note the identation, the three statements are all at the same level, so they form the body of the function `print_primality`, and will be executed each time `print_primality` is called. `n` is the argument of the function.  In general, a function can have any number of arguments, zero or more."
   ]
  },
  {
   "cell_type": "markdown",
   "metadata": {},
   "source": [
    "Now we can call the function on all numbers in a list, and print whether they are prime or not."
   ]
  },
  {
   "cell_type": "code",
   "execution_count": 12,
   "metadata": {},
   "outputs": [
    {
     "name": "stdout",
     "output_type": "stream",
     "text": [
      "2 is prime\n",
      "3 is prime\n",
      "4 is not prime\n",
      "5 is prime\n",
      "6 is not prime\n",
      "25 is not prime\n",
      "31 is prime\n",
      "36 is not prime\n"
     ]
    }
   ],
   "source": [
    "for number in [2, 3, 4, 5, 6, 25, 31, 36]:\n",
    "    print_primality(number)"
   ]
  },
  {
   "cell_type": "markdown",
   "metadata": {},
   "source": [
    "The value of `number` in the first iteration of the for-loop is 2, in the function, this will be assigned to the argument `n`.  In the next iteration `number` is 3, so `print_primality` will be called so that `n` is 3, and so on."
   ]
  },
  {
   "cell_type": "markdown",
   "metadata": {},
   "source": [
    "Actually, it would be more useful to have a function that returns `True` when its argument is prime, `False` otherwise."
   ]
  },
  {
   "cell_type": "code",
   "execution_count": 13,
   "metadata": {
    "tags": []
   },
   "outputs": [],
   "source": [
    "def is_prime(n):\n",
    "    divisor = 2\n",
    "    while n % divisor != 0 and divisor <= n:\n",
    "        divisor += 1\n",
    "    return divisor > n/2"
   ]
  },
  {
   "cell_type": "markdown",
   "metadata": {},
   "source": [
    "The return statement does two things: it returns execution to the point in the code after the function as called, and it returns a value that has been computed in the function, in this case a `bool`."
   ]
  },
  {
   "cell_type": "code",
   "execution_count": 14,
   "metadata": {},
   "outputs": [
    {
     "name": "stdout",
     "output_type": "stream",
     "text": [
      "True False\n"
     ]
    }
   ],
   "source": [
    "print(is_prime(11), is_prime(15))"
   ]
  },
  {
   "cell_type": "markdown",
   "metadata": {},
   "source": [
    "Or, using it in the same for-loop as we did before:"
   ]
  },
  {
   "cell_type": "code",
   "execution_count": 16,
   "metadata": {},
   "outputs": [
    {
     "name": "stdout",
     "output_type": "stream",
     "text": [
      "2 is prime\n",
      "3 is prime\n",
      "4 is not prime\n",
      "5 is prime\n",
      "6 is not prime\n",
      "25 is not prime\n",
      "31 is prime\n",
      "36 is not prime\n"
     ]
    }
   ],
   "source": [
    "for number in [2, 3, 4, 5, 6, 25, 31, 36]:\n",
    "    if is_prime(number):\n",
    "        print(number, 'is prime')\n",
    "    else:\n",
    "        print(number, 'is not prime')"
   ]
  },
  {
   "cell_type": "markdown",
   "metadata": {},
   "source": [
    "Functions form the building block of our code, and can contain any number of "
   ]
  },
  {
   "cell_type": "markdown",
   "metadata": {},
   "source": [
    "#### Your turn now: program structure & indentation"
   ]
  },
  {
   "cell_type": "markdown",
   "metadata": {},
   "source": [
    "Consider the following code:"
   ]
  },
  {
   "cell_type": "code",
   "execution_count": 2,
   "metadata": {},
   "outputs": [
    {
     "name": "stdout",
     "output_type": "stream",
     "text": [
      "24\n"
     ]
    }
   ],
   "source": [
    "numbers = [3, 5, 7, 9]\n",
    "sum = 0\n",
    "for number in numbers:\n",
    "    sum = sum + number\n",
    "print(sum)"
   ]
  },
  {
   "cell_type": "markdown",
   "metadata": {},
   "source": [
    "What would be the output when the identation is modified as below?"
   ]
  },
  {
   "cell_type": "code",
   "execution_count": null,
   "metadata": {},
   "outputs": [],
   "source": [
    "sum = 0\n",
    "for number in numbers:\n",
    "    sum = sum + number\n",
    "    print(sum)"
   ]
  },
  {
   "cell_type": "markdown",
   "metadata": {},
   "source": [
    "And what would it be for the following code fragment?"
   ]
  },
  {
   "cell_type": "code",
   "execution_count": null,
   "metadata": {
    "collapsed": true,
    "jupyter": {
     "outputs_hidden": true
    }
   },
   "outputs": [],
   "source": [
    "sum = 0\n",
    "for number in numbers:\n",
    "sum = sum + number\n",
    "print(sum)"
   ]
  },
  {
   "cell_type": "markdown",
   "metadata": {},
   "source": [
    "#### Your turn now: oddness"
   ]
  },
  {
   "cell_type": "markdown",
   "metadata": {},
   "source": [
    "A number is odd when, divided by 2, the remainder is 1.  Python has an operator to compute the remainder for integer division: `%`, e.g.,"
   ]
  },
  {
   "cell_type": "code",
   "execution_count": 3,
   "metadata": {},
   "outputs": [
    {
     "data": {
      "text/plain": [
       "2"
      ]
     },
     "execution_count": 3,
     "metadata": {},
     "output_type": "execute_result"
    }
   ],
   "source": [
    "5 % 3"
   ]
  },
  {
   "cell_type": "code",
   "execution_count": 4,
   "metadata": {},
   "outputs": [
    {
     "data": {
      "text/plain": [
       "1"
      ]
     },
     "execution_count": 4,
     "metadata": {},
     "output_type": "execute_result"
    }
   ],
   "source": [
    "7 % 2"
   ]
  },
  {
   "cell_type": "markdown",
   "metadata": {},
   "source": [
    "Use this operator to define a function `is_odd` that returns `True` when its argument is an odd integer number, `False` otherwise."
   ]
  }
 ],
 "metadata": {
  "kernelspec": {
   "display_name": "Python 3 (ipykernel)",
   "language": "python",
   "name": "python3"
  },
  "language_info": {
   "codemirror_mode": {
    "name": "ipython",
    "version": 3
   },
   "file_extension": ".py",
   "mimetype": "text/x-python",
   "name": "python",
   "nbconvert_exporter": "python",
   "pygments_lexer": "ipython3",
   "version": "3.11.3"
  }
 },
 "nbformat": 4,
 "nbformat_minor": 4
}
